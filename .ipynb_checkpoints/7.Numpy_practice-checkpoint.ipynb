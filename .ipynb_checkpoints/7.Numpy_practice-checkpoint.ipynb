{
 "cells": [
  {
   "cell_type": "markdown",
   "id": "34fe2bb3-7142-4b5f-ad89-8f4cf09534c5",
   "metadata": {},
   "source": [
    "<h1 data-start=\"350\" data-end=\"401\">🌸 NumPy For Data Analysis</h1>"
   ]
  },
  {
   "cell_type": "code",
   "execution_count": null,
   "id": "4b5ed919-15e2-4a92-ad29-b16f2bf23a95",
   "metadata": {},
   "outputs": [],
   "source": []
  },
  {
   "cell_type": "markdown",
   "id": "4700e9b4-1e9d-4358-8166-97478ff77245",
   "metadata": {},
   "source": [
    "## Array creation:Conversion from other Python Structure\n",
    "=> same data types allowed only"
   ]
  },
  {
   "cell_type": "code",
   "execution_count": 1,
   "id": "e2dc993d-96ce-447a-80b9-a5239c6913f4",
   "metadata": {},
   "outputs": [],
   "source": [
    "import numpy as np"
   ]
  },
  {
   "cell_type": "markdown",
   "id": "124fafe2-5c18-4b77-8b94-71746206ff8e",
   "metadata": {},
   "source": [
    "<h3 style=\"color:#27ae60; margin:6px 0;\">📁 1. Using List</h3>"
   ]
  },
  {
   "cell_type": "code",
   "execution_count": 7,
   "id": "52746f19-83f7-423c-a820-8e82cc95d321",
   "metadata": {},
   "outputs": [
    {
     "data": {
      "text/plain": [
       "array([[ 1,  2,  3],\n",
       "       [ 3,  4, 56],\n",
       "       [ 5,  6,  7]])"
      ]
     },
     "execution_count": 7,
     "metadata": {},
     "output_type": "execute_result"
    }
   ],
   "source": [
    "listarr=np.array([[1,2,3],[3,4,56],[5,6,7]])\n",
    "listarr"
   ]
  },
  {
   "cell_type": "code",
   "execution_count": 8,
   "id": "8abe16b5-3423-4fda-b149-0fa90170f336",
   "metadata": {},
   "outputs": [
    {
     "data": {
      "text/plain": [
       "np.int64(2)"
      ]
     },
     "execution_count": 8,
     "metadata": {},
     "output_type": "execute_result"
    }
   ],
   "source": [
    "listarr[0,1]"
   ]
  },
  {
   "cell_type": "code",
   "execution_count": 9,
   "id": "b25e9648-41b9-4bf4-9001-af7bf710d9f0",
   "metadata": {},
   "outputs": [
    {
     "data": {
      "text/plain": [
       "dtype('int64')"
      ]
     },
     "execution_count": 9,
     "metadata": {},
     "output_type": "execute_result"
    }
   ],
   "source": [
    "listarr.dtype"
   ]
  },
  {
   "cell_type": "code",
   "execution_count": 10,
   "id": "47536a75-3567-4c92-aaf0-9a53825275e3",
   "metadata": {},
   "outputs": [
    {
     "data": {
      "text/plain": [
       "(3, 3)"
      ]
     },
     "execution_count": 10,
     "metadata": {},
     "output_type": "execute_result"
    }
   ],
   "source": [
    "listarr.shape"
   ]
  },
  {
   "cell_type": "raw",
   "id": "461ad2da-f51d-40aa-b933-b6ee57e552f6",
   "metadata": {},
   "source": [
    "👉Note: generally array of int & float , not of object(which is formed from dictionary)"
   ]
  },
  {
   "cell_type": "markdown",
   "id": "0cfe0665-5b97-4d56-97ef-b2a1062d9218",
   "metadata": {},
   "source": [
    "<h3 style=\"color:#27ae60; margin:6px 0;\">📁 2. Using dictionary</h3>\n",
    "\n",
    "- not generally used , it returns array of object"
   ]
  },
  {
   "cell_type": "code",
   "execution_count": 13,
   "id": "5c8f88e6-a3ee-4a82-b2ad-8fd522947128",
   "metadata": {},
   "outputs": [
    {
     "data": {
      "text/plain": [
       "array({34, 67, 45}, dtype=object)"
      ]
     },
     "execution_count": 13,
     "metadata": {},
     "output_type": "execute_result"
    }
   ],
   "source": [
    "np.array({34,45,67})"
   ]
  },
  {
   "cell_type": "markdown",
   "id": "dbeb65cf-64ce-4534-a710-c6c37f10e5a0",
   "metadata": {},
   "source": [
    "<h3 style=\"color:#27ae60; margin:6px 0;\">📁 Special arrays</h3>"
   ]
  },
  {
   "cell_type": "code",
   "execution_count": 14,
   "id": "e04b7f36-e25e-465c-bfad-7d113d2318e9",
   "metadata": {},
   "outputs": [
    {
     "data": {
      "text/plain": [
       "array([[0., 0., 0.],\n",
       "       [0., 0., 0.]])"
      ]
     },
     "execution_count": 14,
     "metadata": {},
     "output_type": "execute_result"
    }
   ],
   "source": [
    "np.zeros((2,3)) #2*3 arrays of zeros"
   ]
  },
  {
   "cell_type": "code",
   "execution_count": 15,
   "id": "e8bbd087-7924-455e-b870-ecf3ee6dfaa1",
   "metadata": {},
   "outputs": [
    {
     "data": {
      "text/plain": [
       "array([[1., 1., 1.],\n",
       "       [1., 1., 1.],\n",
       "       [1., 1., 1.]])"
      ]
     },
     "execution_count": 15,
     "metadata": {},
     "output_type": "execute_result"
    }
   ],
   "source": [
    "np.ones((3,3))"
   ]
  },
  {
   "cell_type": "code",
   "execution_count": 16,
   "id": "c7a5bc1b-fe4d-4f27-bee6-3ef005b164a9",
   "metadata": {},
   "outputs": [
    {
     "data": {
      "text/plain": [
       "array([[7, 7],\n",
       "       [7, 7]])"
      ]
     },
     "execution_count": 16,
     "metadata": {},
     "output_type": "execute_result"
    }
   ],
   "source": [
    "np.full((2,2),7) #constant values"
   ]
  },
  {
   "cell_type": "code",
   "execution_count": 17,
   "id": "d9f34028-a3f6-4858-9d10-16b3dbd3ea81",
   "metadata": {},
   "outputs": [
    {
     "data": {
      "text/plain": [
       "array([[1., 0., 0.],\n",
       "       [0., 1., 0.],\n",
       "       [0., 0., 1.]])"
      ]
     },
     "execution_count": 17,
     "metadata": {},
     "output_type": "execute_result"
    }
   ],
   "source": [
    "np.eye(3) #identity matrix"
   ]
  },
  {
   "cell_type": "markdown",
   "id": "288ed72e-a0ae-4c28-8766-a19d34a25142",
   "metadata": {},
   "source": [
    "<h3 style=\"color:#27ae60; margin:6px 0;\">📁 Range</h3>"
   ]
  },
  {
   "cell_type": "code",
   "execution_count": 19,
   "id": "2ae3da28-8af1-4852-8467-e92b51732885",
   "metadata": {},
   "outputs": [
    {
     "data": {
      "text/plain": [
       "array([0, 2, 4, 6, 8])"
      ]
     },
     "execution_count": 19,
     "metadata": {},
     "output_type": "execute_result"
    }
   ],
   "source": [
    "np.arange(0,10,2)"
   ]
  },
  {
   "cell_type": "code",
   "execution_count": 27,
   "id": "9923fa5a-e538-4344-99b8-b49b9c6caf23",
   "metadata": {},
   "outputs": [
    {
     "data": {
      "text/plain": [
       "array([1., 3., 5.])"
      ]
     },
     "execution_count": 27,
     "metadata": {},
     "output_type": "execute_result"
    }
   ],
   "source": [
    "np.linspace(1,5,3) #linear space \n",
    "# b/w 1 to 5 , 3 numbers with linear space"
   ]
  },
  {
   "cell_type": "raw",
   "id": "f7a5316f-33bb-4e0f-8a19-18635d2d9d40",
   "metadata": {},
   "source": [
    "👉 Tip: For datasets → use np.genfromtxt() or np.loadtxt()."
   ]
  },
  {
   "cell_type": "markdown",
   "id": "1cd0bd62-1fad-4aff-b387-f9a70b4a38ec",
   "metadata": {},
   "source": [
    "<h3 style=\"color:#27ae60; margin:6px 0;\">📁diff b/w list & np.array</h3>"
   ]
  },
  {
   "cell_type": "code",
   "execution_count": 21,
   "id": "399eed6c-d2c6-48e6-800d-c22486ecf603",
   "metadata": {},
   "outputs": [
    {
     "data": {
      "text/plain": [
       "['hello', 2, 4, 4.5]"
      ]
     },
     "execution_count": 21,
     "metadata": {},
     "output_type": "execute_result"
    }
   ],
   "source": [
    "list=[\"hello\",2,4,4.5]\n",
    "list"
   ]
  },
  {
   "cell_type": "code",
   "execution_count": 23,
   "id": "c92660bf-0721-4d80-a7a0-9761abbbd70d",
   "metadata": {},
   "outputs": [
    {
     "data": {
      "text/plain": [
       "array(['hello', '2', '4', '4.5'], dtype='<U32')"
      ]
     },
     "execution_count": 23,
     "metadata": {},
     "output_type": "execute_result"
    }
   ],
   "source": [
    "#coverting list to list array\n",
    "listarr=np.array(list)\n",
    "listarr\n",
    "#converted into same data type '<U32>' (string)"
   ]
  },
  {
   "cell_type": "code",
   "execution_count": 24,
   "id": "f84bf76f-7008-48a6-ad57-54d4e70e89ef",
   "metadata": {},
   "outputs": [
    {
     "data": {
      "text/plain": [
       "[[1, 2, 3], [3, 4, 5], [5, 6, 7]]"
      ]
     },
     "execution_count": 24,
     "metadata": {},
     "output_type": "execute_result"
    }
   ],
   "source": [
    "list1=[[1,2,3],[3,4,5],[5,6,7]]\n",
    "list1\n",
    "#1-D"
   ]
  },
  {
   "cell_type": "code",
   "execution_count": 25,
   "id": "9102101a-122a-428f-a930-96ddafb78fec",
   "metadata": {},
   "outputs": [
    {
     "data": {
      "text/plain": [
       "array([[1, 2, 3],\n",
       "       [3, 4, 5],\n",
       "       [5, 6, 7]])"
      ]
     },
     "execution_count": 25,
     "metadata": {},
     "output_type": "execute_result"
    }
   ],
   "source": [
    "arrlist=np.array([[1,2,3],[3,4,5],[5,6,7]])\n",
    "arrlist \n",
    "#2-D"
   ]
  },
  {
   "cell_type": "markdown",
   "id": "c79cbdde-8d73-45c4-851e-c2c297e6cc3a",
   "metadata": {},
   "source": [
    "<h3 style=\"color:#27ae60; margin:6px 0;\">📁Random gen function</h3>"
   ]
  },
  {
   "cell_type": "code",
   "execution_count": 29,
   "id": "2e5a042f-c385-48ac-be9a-2f5f7661908a",
   "metadata": {},
   "outputs": [
    {
     "data": {
      "text/plain": [
       "array([0.91527489, 0.02816798, 0.05032211, 0.50340355, 0.32617476,\n",
       "       0.93736347])"
      ]
     },
     "execution_count": 29,
     "metadata": {},
     "output_type": "execute_result"
    }
   ],
   "source": [
    "np.random.rand(6) #6 random number generated b/w 0&1"
   ]
  },
  {
   "cell_type": "code",
   "execution_count": 31,
   "id": "5d982069-a7b4-4630-8d23-a278fddae9f4",
   "metadata": {},
   "outputs": [
    {
     "data": {
      "text/plain": [
       "array([-0.66776819,  1.97076599, -0.59699019,  1.19907936,  0.69865328,\n",
       "       -0.96224471,  0.11496495,  0.336426  ,  0.29747902,  1.11879387])"
      ]
     },
     "execution_count": 31,
     "metadata": {},
     "output_type": "execute_result"
    }
   ],
   "source": [
    "np.random.randn(10) #standardization"
   ]
  },
  {
   "cell_type": "code",
   "execution_count": 33,
   "id": "0fcbf52a-7057-4880-ba28-297dec92b840",
   "metadata": {},
   "outputs": [
    {
     "data": {
      "text/plain": [
       "7"
      ]
     },
     "execution_count": 33,
     "metadata": {},
     "output_type": "execute_result"
    }
   ],
   "source": [
    "np.random.randint(8) #any random number b/w 0 to 8\n"
   ]
  },
  {
   "cell_type": "code",
   "execution_count": 35,
   "id": "a22137e6-8d7d-4ec9-b6a3-3d7089af2688",
   "metadata": {},
   "outputs": [
    {
     "data": {
      "text/plain": [
       "array([13, 14, 18, 16, 10, 10, 16, 19, 11, 19, 13, 12, 18, 13, 16, 18, 10,\n",
       "       19, 10, 15, 14, 14, 18, 11, 13, 19, 16, 10, 10, 15], dtype=int32)"
      ]
     },
     "execution_count": 35,
     "metadata": {},
     "output_type": "execute_result"
    }
   ],
   "source": [
    "np.random.randint(10,20,30) #10 to 20 30random numbers"
   ]
  },
  {
   "cell_type": "markdown",
   "id": "f42f8255-9de7-42a4-b334-ddde0d26278a",
   "metadata": {},
   "source": [
    "<h3 style=\"color:#60a5fa; margin:6px 0;\">📘Array Attributes</h3>\n",
    "\n",
    "- attributes ain't called\n",
    "- no ()"
   ]
  },
  {
   "cell_type": "code",
   "execution_count": 38,
   "id": "2602d4d3-2b8e-4531-b949-2a1d12ad352b",
   "metadata": {},
   "outputs": [
    {
     "data": {
      "text/plain": [
       "array([[1, 2, 3],\n",
       "       [3, 4, 5],\n",
       "       [4, 5, 6]])"
      ]
     },
     "execution_count": 38,
     "metadata": {},
     "output_type": "execute_result"
    }
   ],
   "source": [
    "arr=np.array([[1,2,3],[3,4,5],[4,5,6]])\n",
    "arr  "
   ]
  },
  {
   "cell_type": "code",
   "execution_count": 39,
   "id": "a789e108-12d0-4a32-b631-a77559a1ea1e",
   "metadata": {},
   "outputs": [
    {
     "data": {
      "text/plain": [
       "(3, 3)"
      ]
     },
     "execution_count": 39,
     "metadata": {},
     "output_type": "execute_result"
    }
   ],
   "source": [
    "arr.shape"
   ]
  },
  {
   "cell_type": "code",
   "execution_count": 40,
   "id": "511024e1-a23d-4d2c-996d-0ae43f682803",
   "metadata": {},
   "outputs": [
    {
     "data": {
      "text/plain": [
       "9"
      ]
     },
     "execution_count": 40,
     "metadata": {},
     "output_type": "execute_result"
    }
   ],
   "source": [
    "arr.size"
   ]
  },
  {
   "cell_type": "code",
   "execution_count": 41,
   "id": "7a5a1286-4d2e-485a-a69c-0e29c5d3cc0c",
   "metadata": {},
   "outputs": [
    {
     "data": {
      "text/plain": [
       "dtype('int64')"
      ]
     },
     "execution_count": 41,
     "metadata": {},
     "output_type": "execute_result"
    }
   ],
   "source": [
    "arr.dtype"
   ]
  },
  {
   "cell_type": "code",
   "execution_count": 43,
   "id": "add63c48-e782-4ea1-a21a-c0b2b0f6ed4f",
   "metadata": {},
   "outputs": [
    {
     "data": {
      "text/plain": [
       "2"
      ]
     },
     "execution_count": 43,
     "metadata": {},
     "output_type": "execute_result"
    }
   ],
   "source": [
    "arr.ndim #no of dimensions"
   ]
  },
  {
   "cell_type": "markdown",
   "id": "6ef31cab-9c2e-404d-b3ca-d8f5262b9956",
   "metadata": {},
   "source": [
    "<h3 style=\"color:#60a5fa; margin:6px 0;\">📘Aggregate stats</h3>\n"
   ]
  },
  {
   "cell_type": "code",
   "execution_count": 44,
   "id": "6abcd5db-14b7-418c-b8e9-e04e15ba930e",
   "metadata": {},
   "outputs": [
    {
     "data": {
      "text/plain": [
       "np.int64(1)"
      ]
     },
     "execution_count": 44,
     "metadata": {},
     "output_type": "execute_result"
    }
   ],
   "source": [
    "arr.min()"
   ]
  },
  {
   "cell_type": "code",
   "execution_count": 45,
   "id": "09934faf-e4b5-4202-a8a2-6e29cd2ace5b",
   "metadata": {},
   "outputs": [
    {
     "data": {
      "text/plain": [
       "np.int64(6)"
      ]
     },
     "execution_count": 45,
     "metadata": {},
     "output_type": "execute_result"
    }
   ],
   "source": [
    "arr.max()"
   ]
  },
  {
   "cell_type": "code",
   "execution_count": 46,
   "id": "3b95879d-d2fc-444f-b4bf-32f12025f248",
   "metadata": {},
   "outputs": [
    {
     "data": {
      "text/plain": [
       "array([ 8, 11, 14])"
      ]
     },
     "execution_count": 46,
     "metadata": {},
     "output_type": "execute_result"
    }
   ],
   "source": [
    "np.sum(arr,axis=0) #0-> col , 1-> row"
   ]
  },
  {
   "cell_type": "code",
   "execution_count": 48,
   "id": "ce6879db-93cb-4132-8799-63b199f67a60",
   "metadata": {},
   "outputs": [
    {
     "data": {
      "text/plain": [
       "array([ 6, 12, 15])"
      ]
     },
     "execution_count": 48,
     "metadata": {},
     "output_type": "execute_result"
    }
   ],
   "source": [
    "np.sum(arr,axis=1)"
   ]
  },
  {
   "cell_type": "code",
   "execution_count": 49,
   "id": "96187def-4fc2-4211-995e-8d76ff1a3c50",
   "metadata": {},
   "outputs": [
    {
     "data": {
      "text/plain": [
       "np.float64(3.6666666666666665)"
      ]
     },
     "execution_count": 49,
     "metadata": {},
     "output_type": "execute_result"
    }
   ],
   "source": [
    "arr.mean()"
   ]
  },
  {
   "cell_type": "code",
   "execution_count": 50,
   "id": "48baa3b8-f130-4c01-85be-815e25053d4d",
   "metadata": {},
   "outputs": [
    {
     "data": {
      "text/plain": [
       "np.int64(0)"
      ]
     },
     "execution_count": 50,
     "metadata": {},
     "output_type": "execute_result"
    }
   ],
   "source": [
    "arr.argmin() #index where min value is present"
   ]
  },
  {
   "cell_type": "code",
   "execution_count": 51,
   "id": "da324a9c-7bd8-4844-9922-b6ea057f4a37",
   "metadata": {},
   "outputs": [
    {
     "data": {
      "text/plain": [
       "np.int64(8)"
      ]
     },
     "execution_count": 51,
     "metadata": {},
     "output_type": "execute_result"
    }
   ],
   "source": [
    "arr.argmax() #index where max value is present"
   ]
  },
  {
   "cell_type": "markdown",
   "id": "0160ea6b-9729-4e6f-bc68-b871430df949",
   "metadata": {},
   "source": [
    "<h3 style=\"color:#60a5fa; margin:6px 0;\">📘Reshaping & Resizing/h3>"
   ]
  },
  {
   "cell_type": "code",
   "execution_count": 53,
   "id": "8ae09e18-7e35-45a3-830d-f26049058428",
   "metadata": {},
   "outputs": [
    {
     "data": {
      "text/plain": [
       "array([ 1,  2,  3,  4,  5,  6,  7,  8,  9, 10, 11, 12, 13, 14, 15, 16, 17,\n",
       "       18, 19, 20, 21, 22, 23, 24, 25, 26, 27, 28, 29, 30])"
      ]
     },
     "execution_count": 53,
     "metadata": {},
     "output_type": "execute_result"
    }
   ],
   "source": [
    "arr=np.arange(1,31)\n",
    "arr"
   ]
  },
  {
   "cell_type": "code",
   "execution_count": 54,
   "id": "4245e715-66c1-4b95-a780-193fc5a6d7bb",
   "metadata": {},
   "outputs": [
    {
     "data": {
      "text/plain": [
       "array([[ 1,  2,  3,  4,  5],\n",
       "       [ 6,  7,  8,  9, 10],\n",
       "       [11, 12, 13, 14, 15],\n",
       "       [16, 17, 18, 19, 20],\n",
       "       [21, 22, 23, 24, 25],\n",
       "       [26, 27, 28, 29, 30]])"
      ]
     },
     "execution_count": 54,
     "metadata": {},
     "output_type": "execute_result"
    }
   ],
   "source": [
    "arr.reshape(6,5) # 6 row , 5 col"
   ]
  },
  {
   "cell_type": "code",
   "execution_count": 55,
   "id": "3da01edf-d65d-46cc-83a0-92af6bf724dd",
   "metadata": {},
   "outputs": [],
   "source": [
    "arr=arr.reshape(6,5) # this is resize,in which array u haved reshaped , save in the same array"
   ]
  },
  {
   "cell_type": "code",
   "execution_count": 56,
   "id": "4b0b03e5-6aad-42f0-99aa-a0f5ab6c62a8",
   "metadata": {},
   "outputs": [
    {
     "data": {
      "text/plain": [
       "array([[ 1,  2,  3,  4,  5],\n",
       "       [ 6,  7,  8,  9, 10],\n",
       "       [11, 12, 13, 14, 15],\n",
       "       [16, 17, 18, 19, 20],\n",
       "       [21, 22, 23, 24, 25],\n",
       "       [26, 27, 28, 29, 30]])"
      ]
     },
     "execution_count": 56,
     "metadata": {},
     "output_type": "execute_result"
    }
   ],
   "source": [
    "arr"
   ]
  },
  {
   "cell_type": "markdown",
   "id": "3e204174-233e-495d-a4e2-270a2636d9da",
   "metadata": {},
   "source": [
    "<h2 style=\"color:#f472b6; margin:6px 0;\">📝Array Indexing & Slicing</h2>  \n",
    "\n",
    "- indexing same as of python list"
   ]
  },
  {
   "cell_type": "markdown",
   "id": "d34e1bea-269c-4b01-ad60-1502bba0e1fd",
   "metadata": {},
   "source": [
    "##### Numpy Indexing & Slicing of Vectors"
   ]
  },
  {
   "cell_type": "code",
   "execution_count": 58,
   "id": "60faaa03-ddcb-4b05-8601-ac9651df3acf",
   "metadata": {},
   "outputs": [
    {
     "data": {
      "text/plain": [
       "array([11, 12, 13, 14, 15, 16, 17, 18, 19, 20])"
      ]
     },
     "execution_count": 58,
     "metadata": {},
     "output_type": "execute_result"
    }
   ],
   "source": [
    "arr=np.arange(11,21)\n",
    "arr"
   ]
  },
  {
   "cell_type": "code",
   "execution_count": 60,
   "id": "f18c607f-b563-4fd2-9af7-db915b1f486e",
   "metadata": {},
   "outputs": [
    {
     "data": {
      "text/plain": [
       "np.int64(18)"
      ]
     },
     "execution_count": 60,
     "metadata": {},
     "output_type": "execute_result"
    }
   ],
   "source": [
    "arr[7]"
   ]
  },
  {
   "cell_type": "code",
   "execution_count": 61,
   "id": "ba1059e7-f52c-4b88-8682-316e1cdfc45b",
   "metadata": {},
   "outputs": [
    {
     "data": {
      "text/plain": [
       "np.int64(11)"
      ]
     },
     "execution_count": 61,
     "metadata": {},
     "output_type": "execute_result"
    }
   ],
   "source": [
    "arr[0]"
   ]
  },
  {
   "cell_type": "code",
   "execution_count": 62,
   "id": "d4ba8f70-a1e3-41f6-957a-883c01da9c7e",
   "metadata": {},
   "outputs": [
    {
     "data": {
      "text/plain": [
       "array([12, 13, 14, 15])"
      ]
     },
     "execution_count": 62,
     "metadata": {},
     "output_type": "execute_result"
    }
   ],
   "source": [
    "arr[1:5] # the element which you want to slice give +1 index"
   ]
  },
  {
   "cell_type": "code",
   "execution_count": 63,
   "id": "87f36213-d3eb-4b9f-bd57-f99f89cd252f",
   "metadata": {},
   "outputs": [
    {
     "data": {
      "text/plain": [
       "array([11, 12, 13, 14, 15])"
      ]
     },
     "execution_count": 63,
     "metadata": {},
     "output_type": "execute_result"
    }
   ],
   "source": [
    "arr[:5] #default start=0"
   ]
  },
  {
   "cell_type": "code",
   "execution_count": 65,
   "id": "f633fded-b9e7-4091-b717-721634ab0d12",
   "metadata": {},
   "outputs": [
    {
     "data": {
      "text/plain": [
       "array([14, 15, 16, 17, 18, 19, 20])"
      ]
     },
     "execution_count": 65,
     "metadata": {},
     "output_type": "execute_result"
    }
   ],
   "source": [
    "arr[3:] #default end = last element"
   ]
  },
  {
   "cell_type": "code",
   "execution_count": 67,
   "id": "b85ad4ea-bd06-426b-9530-c3ca35103a48",
   "metadata": {},
   "outputs": [
    {
     "data": {
      "text/plain": [
       "array([[ 1,  2,  3,  4,  5],\n",
       "       [ 6,  7,  8,  9, 10],\n",
       "       [11, 12, 13, 14, 15],\n",
       "       [16, 17, 18, 19, 20],\n",
       "       [21, 22, 23, 24, 25],\n",
       "       [26, 27, 28, 29, 30]])"
      ]
     },
     "execution_count": 67,
     "metadata": {},
     "output_type": "execute_result"
    }
   ],
   "source": [
    "arr=np.arange(1,31).reshape(6,5)\n",
    "arr"
   ]
  },
  {
   "cell_type": "code",
   "execution_count": 68,
   "id": "04b2a97e-d8d1-4dc3-b82d-a99faf45f834",
   "metadata": {},
   "outputs": [
    {
     "data": {
      "text/plain": [
       "np.int64(30)"
      ]
     },
     "execution_count": 68,
     "metadata": {},
     "output_type": "execute_result"
    }
   ],
   "source": [
    "arr[5,4] # row,column"
   ]
  },
  {
   "cell_type": "code",
   "execution_count": 69,
   "id": "d7505b99-6263-4bd3-9a49-89b9b56c3a6d",
   "metadata": {},
   "outputs": [
    {
     "data": {
      "text/plain": [
       "array([[2, 3],\n",
       "       [7, 8]])"
      ]
     },
     "execution_count": 69,
     "metadata": {},
     "output_type": "execute_result"
    }
   ],
   "source": [
    "arr[0:2 , 1:3] # 0:2=> row 0 to 1 (1+1=2) ,1:3 column 1 to 2 (2+1=3) "
   ]
  },
  {
   "cell_type": "code",
   "execution_count": 73,
   "id": "1825e451-60d1-44da-a98e-17bf0399c67e",
   "metadata": {},
   "outputs": [
    {
     "data": {
      "text/plain": [
       "array([[19, 20],\n",
       "       [24, 25],\n",
       "       [29, 30]])"
      ]
     },
     "execution_count": 73,
     "metadata": {},
     "output_type": "execute_result"
    }
   ],
   "source": [
    "arr[3:6, 3:6] or 3: ,3:"
   ]
  },
  {
   "cell_type": "code",
   "execution_count": 76,
   "id": "08b54b19-5ad5-4726-8ffd-00e8ffcae2f5",
   "metadata": {},
   "outputs": [
    {
     "data": {
      "text/plain": [
       "array([[13, 14],\n",
       "       [18, 19],\n",
       "       [23, 24]])"
      ]
     },
     "execution_count": 76,
     "metadata": {},
     "output_type": "execute_result"
    }
   ],
   "source": [
    "arr[2:5 , 2:4]"
   ]
  },
  {
   "cell_type": "markdown",
   "id": "9f5e3ef8-e700-4837-8796-dca00a3775f3",
   "metadata": {},
   "source": [
    "<h3 style=\"color:#60a5fa; margin:6px 0;\">📘Boolean Indexing</h3>"
   ]
  },
  {
   "cell_type": "code",
   "execution_count": 89,
   "id": "c05c92bf-4e4c-482c-875e-8a5d1c8e8bb5",
   "metadata": {},
   "outputs": [
    {
     "data": {
      "text/plain": [
       "array([11, 12, 13, 14, 15, 16, 17, 18, 19, 20])"
      ]
     },
     "execution_count": 89,
     "metadata": {},
     "output_type": "execute_result"
    }
   ],
   "source": [
    "arr=np.arange(11,21)\n",
    "arr"
   ]
  },
  {
   "cell_type": "code",
   "execution_count": 90,
   "id": "254fcba9-3565-4633-92f9-e67900ad0b5d",
   "metadata": {},
   "outputs": [
    {
     "data": {
      "text/plain": [
       "array([False,  True, False,  True, False,  True, False,  True, False,\n",
       "        True])"
      ]
     },
     "execution_count": 90,
     "metadata": {},
     "output_type": "execute_result"
    }
   ],
   "source": [
    "bool_index= arr%2==0\n",
    "bool_index"
   ]
  },
  {
   "cell_type": "code",
   "execution_count": 91,
   "id": "4c45e0af-7c3b-4d3b-a97a-1ffb2cbbfb87",
   "metadata": {},
   "outputs": [
    {
     "data": {
      "text/plain": [
       "array([12, 14, 16, 18, 20])"
      ]
     },
     "execution_count": 91,
     "metadata": {},
     "output_type": "execute_result"
    }
   ],
   "source": [
    "arr=arr[bool_index]\n",
    "arr"
   ]
  },
  {
   "cell_type": "markdown",
   "id": "aade41b6-1493-4524-b4fb-06bec468a300",
   "metadata": {},
   "source": [
    "<h3 style=\"color:#60a5fa; margin:6px 0;\">📘Numpy Indexing & Slicing of Vectors</h3>"
   ]
  },
  {
   "cell_type": "code",
   "execution_count": 92,
   "id": "ad4e310a-14d4-4bdf-b8c0-89c1027162eb",
   "metadata": {},
   "outputs": [
    {
     "data": {
      "text/plain": [
       "array([11, 12, 13, 14, 15, 16, 17, 18, 19, 20])"
      ]
     },
     "execution_count": 92,
     "metadata": {},
     "output_type": "execute_result"
    }
   ],
   "source": [
    "arr=np.arange(11,21)\n",
    "arr"
   ]
  },
  {
   "cell_type": "code",
   "execution_count": 93,
   "id": "4762d8be-42f2-4354-9dbf-b8c8236ed56a",
   "metadata": {},
   "outputs": [
    {
     "data": {
      "text/plain": [
       "array([14, 16, 18, 20])"
      ]
     },
     "execution_count": 93,
     "metadata": {},
     "output_type": "execute_result"
    }
   ],
   "source": [
    "arr_slice=arr[3::2]\n",
    "arr_slice"
   ]
  },
  {
   "cell_type": "markdown",
   "id": "9ea9d8e4-e85b-4635-b55b-fa0da3cfd678",
   "metadata": {},
   "source": [
    "<h2 style=\"color:#60a5fa; margin:6px 0;\">📘Array Operations</h2>"
   ]
  },
  {
   "cell_type": "markdown",
   "id": "26ab9659-0dc2-4775-91cd-745368772f16",
   "metadata": {},
   "source": [
    "<h4 style=\"color:#27ae60; margin:6px 0;\">📁\n",
    "Arithematic Operations</h4>"
   ]
  },
  {
   "cell_type": "code",
   "execution_count": 95,
   "id": "912906d9-7807-497b-8ae2-7f2f5577c019",
   "metadata": {},
   "outputs": [],
   "source": [
    "a1=np.array([1,2,3,4,5])\n",
    "a2=np.array([8,9,9,4,5])"
   ]
  },
  {
   "cell_type": "code",
   "execution_count": 96,
   "id": "135d6da8-eb50-4f7f-97da-806f2e8cd8a4",
   "metadata": {},
   "outputs": [
    {
     "data": {
      "text/plain": [
       "array([ 9, 11, 12,  8, 10])"
      ]
     },
     "execution_count": 96,
     "metadata": {},
     "output_type": "execute_result"
    }
   ],
   "source": [
    "a1+a2"
   ]
  },
  {
   "cell_type": "code",
   "execution_count": 97,
   "id": "11c21906-6ae7-4a19-b348-669a06202671",
   "metadata": {},
   "outputs": [
    {
     "data": {
      "text/plain": [
       "array([ 8, 18, 27, 16, 25])"
      ]
     },
     "execution_count": 97,
     "metadata": {},
     "output_type": "execute_result"
    }
   ],
   "source": [
    "a1*a2"
   ]
  },
  {
   "cell_type": "code",
   "execution_count": 98,
   "id": "6e880438-7a8b-48b4-9181-7e02ad060c15",
   "metadata": {},
   "outputs": [
    {
     "data": {
      "text/plain": [
       "array([0.125     , 0.22222222, 0.33333333, 1.        , 1.        ])"
      ]
     },
     "execution_count": 98,
     "metadata": {},
     "output_type": "execute_result"
    }
   ],
   "source": [
    "a1/a2"
   ]
  },
  {
   "cell_type": "markdown",
   "id": "39be61ac-5be5-4199-bd09-edcb2f2f5871",
   "metadata": {},
   "source": [
    "<h4 style=\"color:#27ae60; margin:6px 0;\">📁\n",
    "Broadcasting</h4>"
   ]
  },
  {
   "cell_type": "code",
   "execution_count": 102,
   "id": "e7cb1e97-b73a-4c41-beb6-c6200db86e00",
   "metadata": {},
   "outputs": [],
   "source": [
    "l=[10,20,30,40]\n",
    "arr=np.array(l)"
   ]
  },
  {
   "cell_type": "code",
   "execution_count": 103,
   "id": "cf32a954-9add-467c-a321-566eeb380025",
   "metadata": {},
   "outputs": [
    {
     "data": {
      "text/plain": [
       "array([20, 30, 40, 50])"
      ]
     },
     "execution_count": 103,
     "metadata": {},
     "output_type": "execute_result"
    }
   ],
   "source": [
    "arr+10"
   ]
  },
  {
   "cell_type": "code",
   "execution_count": 104,
   "id": "e3ff2b51-b007-4001-8585-3d87221060b3",
   "metadata": {},
   "outputs": [],
   "source": [
    "arr2=np.arange(1,26).reshape(5,5)"
   ]
  },
  {
   "cell_type": "code",
   "execution_count": 105,
   "id": "2ca342b6-7ba7-44aa-a7e6-ea4e7a3a72e2",
   "metadata": {},
   "outputs": [
    {
     "data": {
      "text/plain": [
       "array([[13, 14, 15, 16, 17],\n",
       "       [18, 19, 20, 21, 22],\n",
       "       [23, 24, 25, 26, 27],\n",
       "       [28, 29, 30, 31, 32],\n",
       "       [33, 34, 35, 36, 37]])"
      ]
     },
     "execution_count": 105,
     "metadata": {},
     "output_type": "execute_result"
    }
   ],
   "source": [
    "arr2+12"
   ]
  },
  {
   "cell_type": "code",
   "execution_count": 107,
   "id": "4f175076-2601-4d34-9c6c-b296f10ac10e",
   "metadata": {},
   "outputs": [
    {
     "data": {
      "text/plain": [
       "array([[ 1,  2,  3,  4,  5],\n",
       "       [ 6,  7,  8,  9, 10],\n",
       "       [11, 12, 13, 14, 15],\n",
       "       [16, 17, 18, 19, 20],\n",
       "       [21, 22, 23, 24, 25]])"
      ]
     },
     "execution_count": 107,
     "metadata": {},
     "output_type": "execute_result"
    }
   ],
   "source": [
    "arr2 #necessary to save operation to save the changes"
   ]
  },
  {
   "cell_type": "code",
   "execution_count": 109,
   "id": "b51f45e6-0ac6-494f-b3ae-12385ee4cbd2",
   "metadata": {},
   "outputs": [],
   "source": [
    "arr3=arr2+12"
   ]
  },
  {
   "cell_type": "code",
   "execution_count": 110,
   "id": "3768673b-68ab-4d08-a129-e0d57fe189af",
   "metadata": {},
   "outputs": [
    {
     "data": {
      "text/plain": [
       "array([[13, 14, 15, 16, 17],\n",
       "       [18, 19, 20, 21, 22],\n",
       "       [23, 24, 25, 26, 27],\n",
       "       [28, 29, 30, 31, 32],\n",
       "       [33, 34, 35, 36, 37]])"
      ]
     },
     "execution_count": 110,
     "metadata": {},
     "output_type": "execute_result"
    }
   ],
   "source": [
    "arr3"
   ]
  },
  {
   "cell_type": "markdown",
   "id": "2b694bbe-51af-40a7-9614-c04ced2813ae",
   "metadata": {},
   "source": [
    "<h3 style=\"color:#f472b6; margin:6px 0;\">📝Deep & shallow copy</h3>  "
   ]
  },
  {
   "cell_type": "markdown",
   "id": "9b9629f1-fd85-4720-9451-96d9a514a071",
   "metadata": {},
   "source": [
    "<h6 style=\"color:#f472b6; margin:6px 0;\">📝 shallow copy</h6>  \n",
    "\n",
    "-slice takes diff location inside RAM"
   ]
  },
  {
   "cell_type": "code",
   "execution_count": 112,
   "id": "2f4f1bd0-b73a-445d-b516-d0952594674c",
   "metadata": {},
   "outputs": [
    {
     "data": {
      "text/plain": [
       "array([ 1,  2,  3,  4,  5,  6,  7,  8,  9, 10, 11, 12, 13, 14, 15, 16, 17,\n",
       "       18, 19, 20])"
      ]
     },
     "execution_count": 112,
     "metadata": {},
     "output_type": "execute_result"
    }
   ],
   "source": [
    "a=np.arange(1,21)\n",
    "a"
   ]
  },
  {
   "cell_type": "code",
   "execution_count": 114,
   "id": "7eb49414-3293-48f9-b130-1f87721be380",
   "metadata": {},
   "outputs": [
    {
     "data": {
      "text/plain": [
       "array([10, 20, 30, 40, 50])"
      ]
     },
     "execution_count": 114,
     "metadata": {},
     "output_type": "execute_result"
    }
   ],
   "source": [
    "slice=a[:5]\n",
    "slice=slice*10\n",
    "slice"
   ]
  },
  {
   "cell_type": "code",
   "execution_count": 115,
   "id": "b5198931-dc01-4a35-9183-4cb89d546b5b",
   "metadata": {},
   "outputs": [
    {
     "data": {
      "text/plain": [
       "array([ 1,  2,  3,  4,  5,  6,  7,  8,  9, 10, 11, 12, 13, 14, 15, 16, 17,\n",
       "       18, 19, 20])"
      ]
     },
     "execution_count": 115,
     "metadata": {},
     "output_type": "execute_result"
    }
   ],
   "source": [
    "a"
   ]
  },
  {
   "cell_type": "markdown",
   "id": "793ca8ac-e350-4979-b683-57079210727d",
   "metadata": {},
   "source": [
    "<h6 style=\"color:#f472b6; margin:6px 0;\">📝Deep copy</h6>  "
   ]
  },
  {
   "cell_type": "code",
   "execution_count": 116,
   "id": "a5d14a12-a072-4166-80f4-e2b2c65d7c90",
   "metadata": {},
   "outputs": [],
   "source": [
    "a\n",
    "b=a"
   ]
  },
  {
   "cell_type": "code",
   "execution_count": 117,
   "id": "64901f3e-2e56-4729-b4e4-595ba936e2e8",
   "metadata": {},
   "outputs": [
    {
     "data": {
      "text/plain": [
       "array([33,  2,  3,  4,  5,  6,  7,  8,  9, 10, 11, 12, 13, 14, 15, 16, 17,\n",
       "       18, 19, 20])"
      ]
     },
     "execution_count": 117,
     "metadata": {},
     "output_type": "execute_result"
    }
   ],
   "source": [
    "b[0]=33\n",
    "b"
   ]
  },
  {
   "cell_type": "code",
   "execution_count": 118,
   "id": "ba16d386-feec-4f47-8c78-cf2ee2de1d03",
   "metadata": {},
   "outputs": [
    {
     "data": {
      "text/plain": [
       "array([33,  2,  3,  4,  5,  6,  7,  8,  9, 10, 11, 12, 13, 14, 15, 16, 17,\n",
       "       18, 19, 20])"
      ]
     },
     "execution_count": 118,
     "metadata": {},
     "output_type": "execute_result"
    }
   ],
   "source": [
    "a #a got changed too"
   ]
  },
  {
   "cell_type": "markdown",
   "id": "01f338d6-19cb-4a66-820a-6bf51512c49a",
   "metadata": {},
   "source": [
    "<h6 style=\"color:#f472b6; margin:6px 0;\">📝shallow copy(use copy())</h6>  "
   ]
  },
  {
   "cell_type": "code",
   "execution_count": 119,
   "id": "d186f9f8-8bfe-4786-9fe1-1e1baea60adf",
   "metadata": {},
   "outputs": [],
   "source": [
    "a\n",
    "b=a.copy()"
   ]
  },
  {
   "cell_type": "code",
   "execution_count": 120,
   "id": "bd1484ed-c33a-42f6-8223-e63de7be259e",
   "metadata": {},
   "outputs": [
    {
     "data": {
      "text/plain": [
       "array([99,  2,  3,  4,  5,  6,  7,  8,  9, 10, 11, 12, 13, 14, 15, 16, 17,\n",
       "       18, 19, 20])"
      ]
     },
     "execution_count": 120,
     "metadata": {},
     "output_type": "execute_result"
    }
   ],
   "source": [
    "b[0]=99\n",
    "b"
   ]
  },
  {
   "cell_type": "code",
   "execution_count": 121,
   "id": "c156465e-af25-45ab-81ec-a4984669a0ff",
   "metadata": {},
   "outputs": [
    {
     "data": {
      "text/plain": [
       "array([33,  2,  3,  4,  5,  6,  7,  8,  9, 10, 11, 12, 13, 14, 15, 16, 17,\n",
       "       18, 19, 20])"
      ]
     },
     "execution_count": 121,
     "metadata": {},
     "output_type": "execute_result"
    }
   ],
   "source": [
    "a #a didn't change"
   ]
  },
  {
   "cell_type": "markdown",
   "id": "e2647447-a8e6-4706-ac61-b1fd4baa8cf5",
   "metadata": {},
   "source": [
    "<h3 style=\"color:#27ae60; margin:6px 0;\">📁\n",
    "Matrix Operations</h3>"
   ]
  },
  {
   "cell_type": "markdown",
   "id": "05f25281-c552-4948-bbbc-68974576cc6e",
   "metadata": {},
   "source": [
    "<h6 style=\"color:#f472b6; margin:6px 0;\">📝1. Multiplication Matrix</h6> "
   ]
  },
  {
   "cell_type": "code",
   "execution_count": 122,
   "id": "94b68779-efe0-4528-bf23-b96170294e50",
   "metadata": {},
   "outputs": [],
   "source": [
    "A=np.array([[1,2],[3,4]])\n",
    "B=np.array([[5,6],[7,8]])\n"
   ]
  },
  {
   "cell_type": "code",
   "execution_count": 123,
   "id": "425aedfb-f761-4971-bf25-1c36b9b0cd64",
   "metadata": {},
   "outputs": [
    {
     "data": {
      "text/plain": [
       "array([[1, 2],\n",
       "       [3, 4]])"
      ]
     },
     "execution_count": 123,
     "metadata": {},
     "output_type": "execute_result"
    }
   ],
   "source": [
    "A"
   ]
  },
  {
   "cell_type": "code",
   "execution_count": 124,
   "id": "14fb8720-a415-4392-8665-fe5c73f145d7",
   "metadata": {},
   "outputs": [
    {
     "data": {
      "text/plain": [
       "array([[5, 6],\n",
       "       [7, 8]])"
      ]
     },
     "execution_count": 124,
     "metadata": {},
     "output_type": "execute_result"
    }
   ],
   "source": [
    "B"
   ]
  },
  {
   "cell_type": "code",
   "execution_count": 126,
   "id": "de3b4496-348b-4ca5-bbb4-40e9a9ad2587",
   "metadata": {},
   "outputs": [
    {
     "data": {
      "text/plain": [
       "array([[19, 22],\n",
       "       [43, 50]])"
      ]
     },
     "execution_count": 126,
     "metadata": {},
     "output_type": "execute_result"
    }
   ],
   "source": [
    "A@B #multiplication matrix @"
   ]
  },
  {
   "cell_type": "code",
   "execution_count": 128,
   "id": "2ea3b3ca-23d7-4070-9e69-09ffaa712c9d",
   "metadata": {},
   "outputs": [
    {
     "data": {
      "text/plain": [
       "array([[19, 22],\n",
       "       [43, 50]])"
      ]
     },
     "execution_count": 128,
     "metadata": {},
     "output_type": "execute_result"
    }
   ],
   "source": [
    "np.dot(A,B) #multiplication matrix"
   ]
  },
  {
   "cell_type": "markdown",
   "id": "e16c7463-a7e2-4c9a-8306-0566921ef97f",
   "metadata": {},
   "source": [
    "<h6 style=\"color:#f472b6; margin:6px 0;\">📝2.Transpose Matrix <h6> "
   ]
  },
  {
   "cell_type": "code",
   "execution_count": 129,
   "id": "26f5b051-50d1-4593-ba75-d03827efdd48",
   "metadata": {},
   "outputs": [
    {
     "data": {
      "text/plain": [
       "array([[1, 3],\n",
       "       [2, 4]])"
      ]
     },
     "execution_count": 129,
     "metadata": {},
     "output_type": "execute_result"
    }
   ],
   "source": [
    "A.T"
   ]
  },
  {
   "cell_type": "code",
   "execution_count": 130,
   "id": "dbb72b0f-7e61-4444-9220-6cefa69da800",
   "metadata": {},
   "outputs": [
    {
     "data": {
      "text/plain": [
       "array([[5, 7],\n",
       "       [6, 8]])"
      ]
     },
     "execution_count": 130,
     "metadata": {},
     "output_type": "execute_result"
    }
   ],
   "source": [
    "B.T"
   ]
  },
  {
   "cell_type": "markdown",
   "id": "01bfa89d-3153-48c6-887c-5918b3578aa0",
   "metadata": {},
   "source": [
    "<h5 style=\"color:#f472b6; margin:6px 0;\">📝3. Advanced Array Manipulation</h5> "
   ]
  },
  {
   "cell_type": "markdown",
   "id": "8f21b30a-83e6-4792-9ccf-504d68a3f488",
   "metadata": {},
   "source": [
    "<h6 style=\"color:#f472b6; margin:6px 0;\">📝3.1 Stacking of Array</h6> \n",
    "\n",
    "- can't stack matrix , use vectors\n",
    "- 1.vertical stack\n",
    "- 2.horizonatal stack\n",
    "- 3.simple stack"
   ]
  },
  {
   "cell_type": "code",
   "execution_count": 131,
   "id": "4fe7b36f-3873-4436-9ba5-f6fd5baea12a",
   "metadata": {},
   "outputs": [],
   "source": [
    "a=np.array([1,2,3,4])\n",
    "b=np.array([5,6,7,8])"
   ]
  },
  {
   "cell_type": "code",
   "execution_count": 132,
   "id": "54c90de0-aee4-4a95-b84e-ad96c4c8f45b",
   "metadata": {},
   "outputs": [
    {
     "data": {
      "text/plain": [
       "array([[1, 2, 3, 4],\n",
       "       [5, 6, 7, 8]])"
      ]
     },
     "execution_count": 132,
     "metadata": {},
     "output_type": "execute_result"
    }
   ],
   "source": [
    "np.vstack((a,b))"
   ]
  },
  {
   "cell_type": "code",
   "execution_count": 134,
   "id": "1e58d478-7d10-4f89-b6e0-751dfe0197c8",
   "metadata": {},
   "outputs": [
    {
     "data": {
      "text/plain": [
       "array([1, 2, 3, 4, 5, 6, 7, 8])"
      ]
     },
     "execution_count": 134,
     "metadata": {},
     "output_type": "execute_result"
    }
   ],
   "source": [
    "np.hstack((a,b))"
   ]
  },
  {
   "cell_type": "code",
   "execution_count": 136,
   "id": "5433cdb1-6580-4759-aa45-aa21d3d6d10d",
   "metadata": {},
   "outputs": [
    {
     "data": {
      "text/plain": [
       "array([[1, 5],\n",
       "       [2, 6],\n",
       "       [3, 7],\n",
       "       [4, 8]])"
      ]
     },
     "execution_count": 136,
     "metadata": {},
     "output_type": "execute_result"
    }
   ],
   "source": [
    "np.column_stack((a,b))"
   ]
  },
  {
   "cell_type": "markdown",
   "id": "c5072796-a819-4b94-9347-a07d3c516869",
   "metadata": {},
   "source": [
    "<h6 style=\"color:#f472b6; margin:6px 0;\">📝3.2 Splitting of Array</h6> "
   ]
  },
  {
   "cell_type": "code",
   "execution_count": 144,
   "id": "08e68f6b-850c-4c96-9744-e85c9b8247ee",
   "metadata": {},
   "outputs": [
    {
     "data": {
      "text/plain": [
       "array([[ 1,  3,  5,  7],\n",
       "       [ 9, 11, 13, 15],\n",
       "       [17, 19, 21, 23],\n",
       "       [25, 27, 29, 31]])"
      ]
     },
     "execution_count": 144,
     "metadata": {},
     "output_type": "execute_result"
    }
   ],
   "source": [
    "c=np.arange(1,32,2).reshape(4,4)\n",
    "c"
   ]
  },
  {
   "cell_type": "code",
   "execution_count": 147,
   "id": "7e6ce8b5-db3d-4747-85b2-8085fb68d443",
   "metadata": {},
   "outputs": [
    {
     "data": {
      "text/plain": [
       "[array([[ 1],\n",
       "        [ 9],\n",
       "        [17],\n",
       "        [25]]),\n",
       " array([[ 3],\n",
       "        [11],\n",
       "        [19],\n",
       "        [27]]),\n",
       " array([[ 5],\n",
       "        [13],\n",
       "        [21],\n",
       "        [29]]),\n",
       " array([[ 7],\n",
       "        [15],\n",
       "        [23],\n",
       "        [31]])]"
      ]
     },
     "execution_count": 147,
     "metadata": {},
     "output_type": "execute_result"
    }
   ],
   "source": [
    "np.hsplit(c,4) # 3 no"
   ]
  },
  {
   "cell_type": "code",
   "execution_count": 148,
   "id": "37c2b53f-4e37-4ce9-9613-87831b849d6f",
   "metadata": {},
   "outputs": [
    {
     "data": {
      "text/plain": [
       "[array([[ 1,  3,  5,  7],\n",
       "        [ 9, 11, 13, 15]]),\n",
       " array([[17, 19, 21, 23],\n",
       "        [25, 27, 29, 31]])]"
      ]
     },
     "execution_count": 148,
     "metadata": {},
     "output_type": "execute_result"
    }
   ],
   "source": [
    "np.vsplit(c,2)"
   ]
  },
  {
   "cell_type": "code",
   "execution_count": 151,
   "id": "765e9ff7-3771-4f57-9382-e1f4f527ed79",
   "metadata": {},
   "outputs": [
    {
     "data": {
      "text/plain": [
       "[array([[1, 3, 5, 7]]),\n",
       " array([[ 9, 11, 13, 15]]),\n",
       " array([[17, 19, 21, 23]]),\n",
       " array([[25, 27, 29, 31]])]"
      ]
     },
     "execution_count": 151,
     "metadata": {},
     "output_type": "execute_result"
    }
   ],
   "source": [
    "a=np.vsplit(c,4)\n",
    "a"
   ]
  },
  {
   "cell_type": "code",
   "execution_count": 152,
   "id": "b010c367-db5c-4375-bdc7-53c69266a698",
   "metadata": {},
   "outputs": [
    {
     "name": "stdout",
     "output_type": "stream",
     "text": [
      "[[1 3 5 7]]\n",
      "[[ 9 11 13 15]]\n",
      "[[17 19 21 23]]\n",
      "[[25 27 29 31]]\n"
     ]
    }
   ],
   "source": [
    "for i in a:\n",
    "    print(i)"
   ]
  },
  {
   "cell_type": "markdown",
   "id": "bfa7a1fe-5d10-4033-ba20-559eb1423e57",
   "metadata": {},
   "source": [
    "<h2 style=\"color:#27ae60; margin:6px 0;\">📁\n",
    "Exercise</h2>"
   ]
  },
  {
   "cell_type": "code",
   "execution_count": 157,
   "id": "391856f4-9636-4d77-b49d-06b4ccd0c436",
   "metadata": {},
   "outputs": [],
   "source": [
    "s = np.array([\n",
    "    [5, 3, 4, 6, 7, 8, 9, 1, 2],\n",
    "    [6, 7, 2, 1, 9, 5, 3, 4, 8],\n",
    "    [1, 9, 8, 3, 4, 2, 5, 6, 7],\n",
    "    \n",
    "    [8, 5, 9, 7, 6, 1, 4, 2, 3],\n",
    "    [4, 2, 6, 8, 5, 3, 7, 9, 1],\n",
    "    [7, 1, 3, 9, 2, 4, 8, 5, 6],\n",
    "    \n",
    "    [9, 6, 1, 5, 3, 7, 2, 8, 4],\n",
    "    [2, 8, 7, 4, 1, 9, 6, 3, 5],\n",
    "    [3, 4, 5, 2, 8, 6, 1, 7, 9]\n",
    "])"
   ]
  },
  {
   "cell_type": "code",
   "execution_count": 154,
   "id": "390e1828-4fca-4702-84f3-336569968e07",
   "metadata": {},
   "outputs": [
    {
     "data": {
      "text/plain": [
       "np.int64(405)"
      ]
     },
     "execution_count": 154,
     "metadata": {},
     "output_type": "execute_result"
    }
   ],
   "source": [
    "s.sum()"
   ]
  },
  {
   "cell_type": "code",
   "execution_count": 158,
   "id": "2ca44628-996a-468f-addd-46397bd7e213",
   "metadata": {},
   "outputs": [
    {
     "data": {
      "text/plain": [
       "array([45, 45, 45, 45, 45, 45, 45, 45, 45])"
      ]
     },
     "execution_count": 158,
     "metadata": {},
     "output_type": "execute_result"
    }
   ],
   "source": [
    "np.sum(s,axis=1) #row=1"
   ]
  },
  {
   "cell_type": "code",
   "execution_count": 160,
   "id": "09a25c36-4fd7-4f12-a059-6074a1d1bde4",
   "metadata": {},
   "outputs": [
    {
     "data": {
      "text/plain": [
       "array([ True,  True,  True,  True,  True,  True,  True,  True,  True])"
      ]
     },
     "execution_count": 160,
     "metadata": {},
     "output_type": "execute_result"
    }
   ],
   "source": [
    "b=np.sum(s,axis=1)\n",
    "b==45"
   ]
  },
  {
   "cell_type": "code",
   "execution_count": 162,
   "id": "27b6fef1-0357-4b23-9d22-0afa096abee9",
   "metadata": {},
   "outputs": [
    {
     "name": "stdout",
     "output_type": "stream",
     "text": [
      "it is valid\n"
     ]
    }
   ],
   "source": [
    "b=np.sum(s,axis=1)\n",
    "for i in b:\n",
    "    if i !=45:\n",
    "        print(\"sudoko isn't valid\")\n",
    "        break\n",
    "else:\n",
    "    print(\"it is valid\")"
   ]
  },
  {
   "cell_type": "code",
   "execution_count": 163,
   "id": "dc6c5362-4f0b-4eb1-ae2d-0d126702486a",
   "metadata": {},
   "outputs": [
    {
     "name": "stdout",
     "output_type": "stream",
     "text": [
      "it is valid\n"
     ]
    }
   ],
   "source": [
    "b=np.sum(s,axis=0)\n",
    "for i in b:\n",
    "    if i !=45:\n",
    "        print(\"sudoko isn't valid\")\n",
    "        break\n",
    "else:\n",
    "    print(\"it is valid\")"
   ]
  },
  {
   "cell_type": "code",
   "execution_count": 164,
   "id": "56630910-bef7-470d-9b20-e0501d438f21",
   "metadata": {},
   "outputs": [
    {
     "data": {
      "text/plain": [
       "array([[5, 3, 4],\n",
       "       [6, 7, 2],\n",
       "       [1, 9, 8]])"
      ]
     },
     "execution_count": 164,
     "metadata": {},
     "output_type": "execute_result"
    }
   ],
   "source": [
    "s[0:3,0:3]"
   ]
  },
  {
   "cell_type": "code",
   "execution_count": 166,
   "id": "0f0db530-ea83-47a5-a92e-9b4faa02a1d3",
   "metadata": {},
   "outputs": [
    {
     "data": {
      "text/plain": [
       "array([[6, 7, 8],\n",
       "       [1, 9, 5],\n",
       "       [3, 4, 2]])"
      ]
     },
     "execution_count": 166,
     "metadata": {},
     "output_type": "execute_result"
    }
   ],
   "source": [
    "s[0:3,3:6]"
   ]
  },
  {
   "cell_type": "code",
   "execution_count": 167,
   "id": "69e9277a-9929-4fbd-84a2-f60c0b5eae67",
   "metadata": {},
   "outputs": [
    {
     "data": {
      "text/plain": [
       "array([[9, 1, 2],\n",
       "       [3, 4, 8],\n",
       "       [5, 6, 7]])"
      ]
     },
     "execution_count": 167,
     "metadata": {},
     "output_type": "execute_result"
    }
   ],
   "source": [
    "s[0:3,6:9]"
   ]
  },
  {
   "cell_type": "code",
   "execution_count": 168,
   "id": "086482bd-0c6a-400f-a62f-834f461d380e",
   "metadata": {},
   "outputs": [
    {
     "name": "stdout",
     "output_type": "stream",
     "text": [
      "45\n",
      "45\n",
      "45\n",
      "45\n",
      "45\n",
      "45\n",
      "45\n",
      "45\n",
      "45\n"
     ]
    }
   ],
   "source": [
    "\n",
    "for i in range(0,9,3):\n",
    "    for j in range(0,9,3):\n",
    "        n=s[i:i+3,j:j+3]\n",
    "        print(n.sum())\n",
    "\n"
   ]
  },
  {
   "cell_type": "code",
   "execution_count": null,
   "id": "0daf6637-3952-432c-a297-48a69c4b972f",
   "metadata": {},
   "outputs": [],
   "source": []
  },
  {
   "cell_type": "code",
   "execution_count": 169,
   "id": "d2a4818f-ee88-46d8-8f59-1b93ce7e10ea",
   "metadata": {},
   "outputs": [],
   "source": [
    "import numpy as np\n",
    "\n",
    "# Columns: [Age, Math Marks, Science Marks]\n",
    "data = np.array([\n",
    "    [18, 85, 78],   # Student 1\n",
    "    [19, 92, 88],   # Student 2\n",
    "    [17, 76, 95],   # Student 3\n",
    "    [18, 65, 70],   # Student 4\n",
    "    [20, 90, 85]    # Student 5\n",
    "])"
   ]
  },
  {
   "cell_type": "code",
   "execution_count": 170,
   "id": "e2479919-e5bf-418e-a90e-26f825dcb7ba",
   "metadata": {},
   "outputs": [
    {
     "data": {
      "text/plain": [
       "(5, 3)"
      ]
     },
     "execution_count": 170,
     "metadata": {},
     "output_type": "execute_result"
    }
   ],
   "source": [
    "#get the shape of the matrix:\n",
    "data.shape"
   ]
  },
  {
   "cell_type": "code",
   "execution_count": 172,
   "id": "b7092388-75ac-454b-8e4e-2c5b59c6cf51",
   "metadata": {},
   "outputs": [
    {
     "data": {
      "text/plain": [
       "np.float64(18.4)"
      ]
     },
     "execution_count": 172,
     "metadata": {},
     "output_type": "execute_result"
    }
   ],
   "source": [
    "# find the avg of age of student\n",
    "np.mean(data[:,0]) #complete rows, 0= 0th col\n"
   ]
  },
  {
   "cell_type": "code",
   "execution_count": 174,
   "id": "ec7796c9-07cd-48ea-a2c4-795a8ca2bc9f",
   "metadata": {},
   "outputs": [
    {
     "data": {
      "text/plain": [
       "array([85, 92, 76, 65, 90])"
      ]
     },
     "execution_count": 174,
     "metadata": {},
     "output_type": "execute_result"
    }
   ],
   "source": [
    "#extract math marks of the studentdata\n",
    "data[:,1]"
   ]
  },
  {
   "cell_type": "code",
   "execution_count": 175,
   "id": "a1ee973e-3847-4f7d-b36b-ec915938a0f5",
   "metadata": {},
   "outputs": [
    {
     "data": {
      "text/plain": [
       "np.int64(95)"
      ]
     },
     "execution_count": 175,
     "metadata": {},
     "output_type": "execute_result"
    }
   ],
   "source": [
    "# find highest science marks\n",
    "np.max(data[:,2])"
   ]
  },
  {
   "cell_type": "code",
   "execution_count": null,
   "id": "ec85648b-4065-4788-bdbf-ea3469d30278",
   "metadata": {},
   "outputs": [],
   "source": [
    "#get details of the student who scored>90 in math"
   ]
  },
  {
   "cell_type": "code",
   "execution_count": 176,
   "id": "60b8fc9d-e4b7-4598-9144-877bcb8a4a5d",
   "metadata": {},
   "outputs": [
    {
     "data": {
      "text/plain": [
       "array([[19, 92, 88]])"
      ]
     },
     "execution_count": 176,
     "metadata": {},
     "output_type": "execute_result"
    }
   ],
   "source": [
    "data[data[:,1]>90]"
   ]
  },
  {
   "cell_type": "code",
   "execution_count": 178,
   "id": "eb630d90-bfae-482c-92f1-5e438551b7e9",
   "metadata": {},
   "outputs": [
    {
     "data": {
      "text/plain": [
       "array([[18, 90, 78],\n",
       "       [19, 97, 88],\n",
       "       [17, 81, 95],\n",
       "       [18, 70, 70],\n",
       "       [20, 95, 85]])"
      ]
     },
     "execution_count": 178,
     "metadata": {},
     "output_type": "execute_result"
    }
   ],
   "source": [
    "# increase all students mark by 5\n",
    "data[:,1] +=5\n",
    "data"
   ]
  },
  {
   "cell_type": "code",
   "execution_count": 183,
   "id": "b831ea9b-c37f-483c-8949-37c767cf1154",
   "metadata": {},
   "outputs": [
    {
     "data": {
      "text/plain": [
       "3"
      ]
     },
     "execution_count": 183,
     "metadata": {},
     "output_type": "execute_result"
    }
   ],
   "source": [
    "# find how many stu<19\n",
    "len(data[data[:,0]<19])"
   ]
  },
  {
   "cell_type": "code",
   "execution_count": 184,
   "id": "c53e4333-9918-477a-b89c-dccc022149d6",
   "metadata": {},
   "outputs": [
    {
     "data": {
      "text/plain": [
       "array([86.6, 83.2])"
      ]
     },
     "execution_count": 184,
     "metadata": {},
     "output_type": "execute_result"
    }
   ],
   "source": [
    "#calculate the avg marks in each subject (col wise)\n",
    "np.mean(data[:,1:],axis=0)"
   ]
  },
  {
   "cell_type": "code",
   "execution_count": 186,
   "id": "491a6373-28cc-4e3f-a5eb-1bdf84a6de18",
   "metadata": {},
   "outputs": [
    {
     "data": {
      "text/plain": [
       "array([[19, 97, 88],\n",
       "       [17, 81, 95],\n",
       "       [20, 95, 85]])"
      ]
     },
     "execution_count": 186,
     "metadata": {},
     "output_type": "execute_result"
    }
   ],
   "source": [
    "# get data of students who scored 80 at least in 1 subject\n",
    "data[(data[:,1]>=80) & (data[:,2]>=80)]"
   ]
  },
  {
   "cell_type": "code",
   "execution_count": 188,
   "id": "37aedaf6-d275-4a9b-aef3-0b4f43ceb24d",
   "metadata": {},
   "outputs": [
    {
     "data": {
      "text/plain": [
       "array([[18, 90, 78],\n",
       "       [19, 97, 88],\n",
       "       [17, 81, 95],\n",
       "       [18, 70,  0],\n",
       "       [20, 95, 85]])"
      ]
     },
     "execution_count": 188,
     "metadata": {},
     "output_type": "execute_result"
    }
   ],
   "source": [
    "#repalce all science mark<75 with 0\n",
    "data[:,2][data[:,2]<75]=0\n",
    "data"
   ]
  },
  {
   "cell_type": "code",
   "execution_count": null,
   "id": "5f869447-9f4b-4972-b22f-13c2d5e31c77",
   "metadata": {},
   "outputs": [],
   "source": []
  }
 ],
 "metadata": {
  "kernelspec": {
   "display_name": "Python [conda env:base] *",
   "language": "python",
   "name": "conda-base-py"
  },
  "language_info": {
   "codemirror_mode": {
    "name": "ipython",
    "version": 3
   },
   "file_extension": ".py",
   "mimetype": "text/x-python",
   "name": "python",
   "nbconvert_exporter": "python",
   "pygments_lexer": "ipython3",
   "version": "3.13.5"
  }
 },
 "nbformat": 4,
 "nbformat_minor": 5
}
