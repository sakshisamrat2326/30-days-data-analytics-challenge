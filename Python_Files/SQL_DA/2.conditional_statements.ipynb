{
 "cells": [
  {
   "cell_type": "markdown",
   "id": "cf29174f-456d-46b5-b80c-4abd5a5ccc3b",
   "metadata": {},
   "source": [
    "# 🐍 Python If-Else \n",
    "\n",
    "## 1. Simple if Statement\n",
    "```python\n",
    "if condition:\n",
    "    # code runs if condition is True\n"
   ]
  },
  {
   "cell_type": "code",
   "execution_count": 1,
   "id": "26c2bb9d-6c25-4f06-80a3-3060143be867",
   "metadata": {},
   "outputs": [
    {
     "name": "stdout",
     "output_type": "stream",
     "text": [
      "x is greater than 7\n"
     ]
    }
   ],
   "source": [
    "x=10\n",
    "if x>7:\n",
    "    print(\"x is greater than 7\")"
   ]
  },
  {
   "cell_type": "markdown",
   "id": "fdd75696-deaa-4053-8576-40e963c408b6",
   "metadata": {},
   "source": [
    " ##### 2. if-else Statement"
   ]
  },
  {
   "cell_type": "markdown",
   "id": "29e35882-64d1-4677-af95-bcda7adfb4ee",
   "metadata": {},
   "source": [
    "if condition:\n",
    "    # code if True\n",
    "else:\n",
    "    # code if False\n"
   ]
  },
  {
   "cell_type": "code",
   "execution_count": 4,
   "id": "a28b3a08-b5f5-4f3f-a111-be695b73079c",
   "metadata": {},
   "outputs": [
    {
     "name": "stdout",
     "output_type": "stream",
     "text": [
      "x is smaller\n"
     ]
    }
   ],
   "source": [
    "x=3\n",
    "if x>5:\n",
    "    print(\"x is greater than 5\")\n",
    "else:\n",
    "    print(\"x is smaller\")"
   ]
  },
  {
   "cell_type": "markdown",
   "id": "c7d6970f-cb3c-489f-b65f-8352eb869b64",
   "metadata": {},
   "source": [
    "##### 3.if-elif-else ladder"
   ]
  },
  {
   "cell_type": "code",
   "execution_count": null,
   "id": "ffc2360f-bb6f-4e17-8bdb-579ad5e81653",
   "metadata": {},
   "outputs": [],
   "source": [
    "if condition1:\n",
    "    # code if condition1 is True\n",
    "elif condition2:\n",
    "    # code if condition2 is True\n",
    "else:\n",
    "    # code if none are True\n"
   ]
  },
  {
   "cell_type": "code",
   "execution_count": 10,
   "id": "ac5bab73-ce7c-4d21-b1b7-aa7263ceb241",
   "metadata": {},
   "outputs": [
    {
     "name": "stdout",
     "output_type": "stream",
     "text": [
      "zero\n"
     ]
    }
   ],
   "source": [
    "a=0\n",
    "if a>0:\n",
    "    print(\"positive\")\n",
    "elif a==0:\n",
    "    print(\"zero\")\n",
    "else:\n",
    "    print(\"negative\")"
   ]
  },
  {
   "cell_type": "markdown",
   "id": "a5b2d1d2-a640-44c6-92f8-ff7618f236db",
   "metadata": {},
   "source": [
    "##### 4.Nested if"
   ]
  },
  {
   "cell_type": "code",
   "execution_count": null,
   "id": "3be069b2-bf29-44c4-a1e1-4b89d0a13e65",
   "metadata": {},
   "outputs": [],
   "source": [
    "if condition1:\n",
    "    if condition2:\n",
    "        # code runs if both are True\n",
    "    "
   ]
  },
  {
   "cell_type": "code",
   "execution_count": 15,
   "id": "0d21363b-f522-42aa-ab07-4d6f61ab6ce5",
   "metadata": {},
   "outputs": [
    {
     "name": "stdout",
     "output_type": "stream",
     "text": [
      "Greater than 10 & even\n"
     ]
    }
   ],
   "source": [
    "x=20\n",
    "if x>10:\n",
    "    if x % 2 == 0:\n",
    "        print(\"Greater than 10 & even\")"
   ]
  },
  {
   "cell_type": "markdown",
   "id": "68db788f-03ab-4e4d-bf44-16ba279e80f5",
   "metadata": {},
   "source": [
    "##### 5.Short Hand if"
   ]
  },
  {
   "cell_type": "code",
   "execution_count": null,
   "id": "8cf88772-9888-4c82-abec-0a77c647585d",
   "metadata": {},
   "outputs": [],
   "source": [
    "if condition: print(\"something\")"
   ]
  },
  {
   "cell_type": "code",
   "execution_count": 16,
   "id": "0c62d817-f7f7-4cb0-873b-1127544da22e",
   "metadata": {},
   "outputs": [
    {
     "name": "stdout",
     "output_type": "stream",
     "text": [
      "x>5\n"
     ]
    }
   ],
   "source": [
    "x=9\n",
    "if x>5: print(\"x>5\")"
   ]
  },
  {
   "cell_type": "markdown",
   "id": "f0de5ea5-4b1e-4bc4-8b26-11eea3b43db9",
   "metadata": {},
   "source": [
    "##### 6.Short Hand if-else (Ternary Operator)"
   ]
  },
  {
   "cell_type": "code",
   "execution_count": null,
   "id": "4b9603f4-0536-4bbd-a0b0-679c58b05eeb",
   "metadata": {},
   "outputs": [],
   "source": [
    "print(\"true block\") if condition else print"
   ]
  },
  {
   "cell_type": "code",
   "execution_count": 17,
   "id": "9afcc01d-ed52-4db7-b6c2-6f991211d994",
   "metadata": {},
   "outputs": [
    {
     "name": "stdout",
     "output_type": "stream",
     "text": [
      "odd\n"
     ]
    }
   ],
   "source": [
    "x=5\n",
    "print(\"even\") if x%2==0 else print(\"odd\")"
   ]
  },
  {
   "cell_type": "markdown",
   "id": "b54c557a-27ab-4240-a011-3b578e2eb3ee",
   "metadata": {},
   "source": [
    "##### 7. Multiple Conditions with Logical Operators"
   ]
  },
  {
   "cell_type": "code",
   "execution_count": null,
   "id": "74b7803f-6084-43f4-bf77-680aef93d97e",
   "metadata": {},
   "outputs": [],
   "source": [
    "if (condition1 and condition2):\n",
    "    ..........\n",
    "if (condition1 or condition2):\n",
    "    .........."
   ]
  },
  {
   "cell_type": "code",
   "execution_count": 18,
   "id": "ae2e2278-a508-4351-a30e-9ccbff0f23f2",
   "metadata": {},
   "outputs": [
    {
     "name": "stdout",
     "output_type": "stream",
     "text": [
      "young adult\n"
     ]
    }
   ],
   "source": [
    "age = 21\n",
    "if age>18 and age<30:\n",
    "    print (\"young adult\")"
   ]
  },
  {
   "cell_type": "code",
   "execution_count": 21,
   "id": "97e1cfe7-02c0-446b-86d3-f01e9264edeb",
   "metadata": {},
   "outputs": [
    {
     "name": "stdin",
     "output_type": "stream",
     "text": [
      "plz provide me a money 50\n"
     ]
    },
    {
     "name": "stdout",
     "output_type": "stream",
     "text": [
      "nothing\n"
     ]
    }
   ],
   "source": [
    "money =int(input(\"plz provide me a money\"))\n",
    "if money==10:\n",
    "    print(\"chochobar\")\n",
    "elif money==20:\n",
    "    print(\"Idaly\")\n",
    "elif money==38:\n",
    "    print(\"dosa\")\n",
    "else:\n",
    "    print(\"nothing\")"
   ]
  },
  {
   "cell_type": "code",
   "execution_count": 23,
   "id": "20cef345-fd41-46bf-8ff1-19fd01d1a502",
   "metadata": {},
   "outputs": [
    {
     "name": "stdin",
     "output_type": "stream",
     "text": [
      "enter a number 34\n",
      "enter a number 34\n"
     ]
    },
    {
     "name": "stdout",
     "output_type": "stream",
     "text": [
      "both numbers are same\n"
     ]
    }
   ],
   "source": [
    "num1=int(input(\"enter a number\"))\n",
    "num2=int(input(\"enter a number\"))\n",
    "if num1>num2:\n",
    "         print(f\"{num1} is greater than {num2}\")\n",
    "elif num2>num1:\n",
    "    print(f\"{num2} is greater than {num1}\")\n",
    "else:\n",
    "    print(\"both numbers are same\")\n",
    "\n",
    "\n",
    "         \n",
    "                 \n",
    "         "
   ]
  },
  {
   "cell_type": "code",
   "execution_count": 27,
   "id": "e7969926-a1e8-4373-98b7-51c167ce3e4e",
   "metadata": {},
   "outputs": [
    {
     "name": "stdin",
     "output_type": "stream",
     "text": [
      "enter your gender (M or F):- y\n"
     ]
    },
    {
     "name": "stdout",
     "output_type": "stream",
     "text": [
      "unidentified\n"
     ]
    }
   ],
   "source": [
    "gen=input(\"enter your gender (M or F):-\")\n",
    "if gen=='M' or gen=='m':\n",
    "    print('morning! Sir')\n",
    "elif gen=='F' or gen == 'f':\n",
    "    print(\"morning Mam\")\n",
    "else:\n",
    "    print(\"unidentified\")\n"
   ]
  },
  {
   "cell_type": "code",
   "execution_count": 29,
   "id": "beb6f351-de96-470e-9263-3c8300548d1f",
   "metadata": {},
   "outputs": [
    {
     "name": "stdin",
     "output_type": "stream",
     "text": [
      "enter your gender (M or F):- m\n"
     ]
    },
    {
     "name": "stdout",
     "output_type": "stream",
     "text": [
      "Morning! Sir\n"
     ]
    }
   ],
   "source": [
    "gen = input(\"enter your gender (M or F):-\").lower()\n",
    "\n",
    "if gen == 'm':\n",
    "    print(\"Morning! Sir\")\n",
    "elif gen == 'f':\n",
    "    print(\"Morning! Ma'am\")\n",
    "else:\n",
    "    print(\"Unidentified\")\n"
   ]
  },
  {
   "cell_type": "code",
   "execution_count": 30,
   "id": "e21506d1-74d4-4d8d-8cc6-21886172d592",
   "metadata": {},
   "outputs": [
    {
     "name": "stdin",
     "output_type": "stream",
     "text": [
      "enter a number 67\n"
     ]
    },
    {
     "name": "stdout",
     "output_type": "stream",
     "text": [
      "odd\n"
     ]
    }
   ],
   "source": [
    "num=int(input(\"enter a number\"))\n",
    "if num%2==0:\n",
    "    print(\"even number\")\n",
    "else:\n",
    "    print(\"odd\")"
   ]
  },
  {
   "cell_type": "code",
   "execution_count": null,
   "id": "1c8eb7a0-435d-4edc-b641-708b5f62fe10",
   "metadata": {},
   "outputs": [],
   "source": []
  }
 ],
 "metadata": {
  "kernelspec": {
   "display_name": "Python [conda env:base] *",
   "language": "python",
   "name": "conda-base-py"
  },
  "language_info": {
   "codemirror_mode": {
    "name": "ipython",
    "version": 3
   },
   "file_extension": ".py",
   "mimetype": "text/x-python",
   "name": "python",
   "nbconvert_exporter": "python",
   "pygments_lexer": "ipython3",
   "version": "3.13.5"
  }
 },
 "nbformat": 4,
 "nbformat_minor": 5
}
