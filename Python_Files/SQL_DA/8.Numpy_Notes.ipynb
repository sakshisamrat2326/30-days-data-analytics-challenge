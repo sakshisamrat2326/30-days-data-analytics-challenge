{
 "cells": [
  {
   "cell_type": "markdown",
   "id": "d76060c0-39c7-43b9-a8e6-3401b3b462e0",
   "metadata": {},
   "source": [
    "## 📘 NumPy Comprehensive Notes for Data Analysis"
   ]
  },
  {
   "cell_type": "code",
   "execution_count": 6,
   "id": "cb2affd9-b1e9-46ac-92ac-bd9c240439d6",
   "metadata": {},
   "outputs": [],
   "source": [
    "import numpy as np"
   ]
  },
  {
   "cell_type": "markdown",
   "id": "f74af79b-a85c-47db-96e9-0d376a0701e7",
   "metadata": {},
   "source": [
    "<h3 style=\"color:#0ea5e9; margin:6px 0;\">🚀1. Introduction </h3>\n",
    "\n",
    "- Numpy(Numerical Python): Core library for           numerical & scientific computing in Python\n",
    "- Provides:\n",
    "   - ndarray(N-dimensional array) -> fast & memory        efficient\n",
    "   - Vectorized operations(nonneed of slow python        loops)\n"
   ]
  },
  {
   "cell_type": "markdown",
   "id": "8ab213d4-0762-4fc4-8003-7d4bdf9a9393",
   "metadata": {},
   "source": [
    "<h3 style=\"color:#22c55e; margin:6px 0;\">🌱 1. Creating Arrays</h3>  "
   ]
  },
  {
   "cell_type": "markdown",
   "id": "c58ce083-380e-4b81-a807-0f2b9fe657f0",
   "metadata": {},
   "source": [
    "<h5 style=\"color:#d946ef; margin:6px 0;\">1.1- From List or Tuples</h5> "
   ]
  },
  {
   "cell_type": "markdown",
   "id": "4eee5955-461b-4783-b702-a00c9eb9636b",
   "metadata": {},
   "source": [
    "```python\n",
    "a=np.array([1,2,3,4]) #1D arary\n",
    "b=np.array([[1,2,3],[4,5,6]]) #Create a 2D array (matrix) from a list of lists\n"
   ]
  },
  {
   "cell_type": "markdown",
   "id": "416ba275-4f82-4f48-8558-bf5a142fbe6e",
   "metadata": {},
   "source": [
    "<h5 style=\"color:#d946ef; margin:6px 0;\">1.2 - Predefined Array</h5> "
   ]
  },
  {
   "cell_type": "markdown",
   "id": "713c0a6a-da37-4a61-ae90-a3c98fa66190",
   "metadata": {},
   "source": [
    "```python\n",
    "np.zeros((4,4))  # 4*4 arrays of zeros\n",
    "np.ones((2,4))   #2*4 arrays of ones\n",
    "np.full((2,3),7) # 2*3 filled with 7\n",
    "np.eye(4) # Identity Matrix"
   ]
  },
  {
   "cell_type": "markdown",
   "id": "0e91fc2e-c0b2-4da0-88ca-cfa706f95672",
   "metadata": {},
   "source": [
    "<h5 style=\"color:#d946ef; margin:6px 0;\">1.3 - Ranges</h5> "
   ]
  },
  {
   "cell_type": "markdown",
   "id": "72e38916-54f6-4ac1-ab40-ebd46f5122e9",
   "metadata": {},
   "source": [
    "```python\n",
    "np.arange(0,10,2) #[0,2,4,6,8]\n",
    "np.linspace(0,1,5) # 5 equally spaced points b/w 0 & 1"
   ]
  },
  {
   "cell_type": "markdown",
   "id": "fdd746cc-5faf-4cee-9866-5c27822fca74",
   "metadata": {},
   "source": [
    "<h5 style=\"color:#d946ef; margin:6px 0;\">1.4 - Random arrays</h5>"
   ]
  },
  {
   "cell_type": "code",
   "execution_count": 7,
   "id": "05692f8f-1e62-4cb1-a995-8874ddd40743",
   "metadata": {},
   "outputs": [
    {
     "data": {
      "text/plain": [
       "array([[0.16217551, 0.45890753],\n",
       "       [0.37625881, 0.40166945],\n",
       "       [0.57447057, 0.67461645]])"
      ]
     },
     "execution_count": 7,
     "metadata": {},
     "output_type": "execute_result"
    }
   ],
   "source": [
    "np.random.rand(3,2) # Uniform distribution[0,1]"
   ]
  },
  {
   "cell_type": "code",
   "execution_count": 8,
   "id": "9bf1809d-61f4-4aa3-ba08-2233d7174ef6",
   "metadata": {},
   "outputs": [
    {
     "data": {
      "text/plain": [
       "array([[-0.43193507,  0.85690317],\n",
       "       [-0.11534306, -0.12570315],\n",
       "       [-0.63225112, -0.5875727 ]])"
      ]
     },
     "execution_count": 8,
     "metadata": {},
     "output_type": "execute_result"
    }
   ],
   "source": [
    "np.random.randn(3,2) #standard normal distribution"
   ]
  },
  {
   "cell_type": "code",
   "execution_count": 9,
   "id": "f1010f3d-0be2-49a2-a7a4-942deb90fda4",
   "metadata": {},
   "outputs": [
    {
     "data": {
      "text/plain": [
       "array([3, 8, 3, 1, 3], dtype=int32)"
      ]
     },
     "execution_count": 9,
     "metadata": {},
     "output_type": "execute_result"
    }
   ],
   "source": [
    "np.random.randint(1,10,5) #random 5 integers b/w 1 &10"
   ]
  },
  {
   "cell_type": "code",
   "execution_count": 79,
   "id": "d4405534-c7a3-4946-ab03-4c32eca3a97b",
   "metadata": {},
   "outputs": [
    {
     "name": "stdout",
     "output_type": "stream",
     "text": [
      "Random array:\n",
      " [[0.37454012 0.95071431 0.73199394]\n",
      " [0.59865848 0.15601864 0.15599452]\n",
      " [0.05808361 0.86617615 0.60111501]]\n"
     ]
    }
   ],
   "source": [
    "# Random numbers\n",
    "random_array = np.random.random((3, 3))  # random values in a given shape\n",
    "print(\"Random array:\\n\", random_array)"
   ]
  },
  {
   "cell_type": "markdown",
   "id": "7a6f0c7f-dae6-4a09-8524-fc08759e7089",
   "metadata": {},
   "source": [
    "<h3 style=\"color:#22c55e; margin:6px 0;\">🔍2.Array attributes</h3>  "
   ]
  },
  {
   "cell_type": "code",
   "execution_count": 10,
   "id": "7c955824-1c85-4004-b154-ee1fe18e961f",
   "metadata": {},
   "outputs": [],
   "source": [
    "arr=np.array([[1,2,3],[4,5,6]])"
   ]
  },
  {
   "cell_type": "markdown",
   "id": "5b827b4e-3a53-4c29-a0a2-2dc42be02bde",
   "metadata": {},
   "source": [
    "```python\n",
    "arr.shape      #dimensions (rows,cols)\n",
    "arr.ndim       #no of dimensions\n",
    "arr.size       #total elements\n",
    "arr.dtype     #data type\n",
    "arr.itemsize #bytes per element "
   ]
  },
  {
   "cell_type": "code",
   "execution_count": 11,
   "id": "a66d7139-0c23-46a1-a478-6e1ce3bf1a25",
   "metadata": {},
   "outputs": [
    {
     "data": {
      "text/plain": [
       "2"
      ]
     },
     "execution_count": 11,
     "metadata": {},
     "output_type": "execute_result"
    }
   ],
   "source": [
    "arr.ndim"
   ]
  },
  {
   "cell_type": "code",
   "execution_count": 12,
   "id": "a5814742-59aa-445e-88f9-28403a1d59e7",
   "metadata": {},
   "outputs": [
    {
     "data": {
      "text/plain": [
       "8"
      ]
     },
     "execution_count": 12,
     "metadata": {},
     "output_type": "execute_result"
    }
   ],
   "source": [
    "arr.itemsize"
   ]
  },
  {
   "cell_type": "markdown",
   "id": "e0affc5e-d38b-4da9-8286-b3940840c29e",
   "metadata": {},
   "source": [
    "<h3 style=\"color:#22c55e; margin:6px 0;\">✂️ 3. Indexing, Slicing, Subsetting</h3>\n",
    "\n",
    "- 2nd index we pass is +1 index\n",
    "- eg . arr[0:2 , 1:3] we've to traverse till 1 hence 1+1=2 , for 3 we've to traverse till 2 thus,2+1=3"
   ]
  },
  {
   "cell_type": "code",
   "execution_count": 13,
   "id": "1b547805-dc20-4fc3-a2fd-95cd20072527",
   "metadata": {},
   "outputs": [
    {
     "data": {
      "text/plain": [
       "array([[1, 2, 3],\n",
       "       [4, 5, 6],\n",
       "       [7, 8, 9]])"
      ]
     },
     "execution_count": 13,
     "metadata": {},
     "output_type": "execute_result"
    }
   ],
   "source": [
    "arr = np.array([[1,2,3],[4,5,6],[7,8,9]])\n",
    "arr"
   ]
  },
  {
   "cell_type": "code",
   "execution_count": 14,
   "id": "682962c2-edc8-4482-b1ff-a2fb1c3d3368",
   "metadata": {},
   "outputs": [
    {
     "data": {
      "text/plain": [
       "np.int64(2)"
      ]
     },
     "execution_count": 14,
     "metadata": {},
     "output_type": "execute_result"
    }
   ],
   "source": [
    "arr[0,1] #row 0 , col 1"
   ]
  },
  {
   "cell_type": "code",
   "execution_count": 15,
   "id": "d93be343-5ba2-4c67-8b93-265eba6b07cc",
   "metadata": {},
   "outputs": [
    {
     "data": {
      "text/plain": [
       "array([2, 5, 8])"
      ]
     },
     "execution_count": 15,
     "metadata": {},
     "output_type": "execute_result"
    }
   ],
   "source": [
    "arr[:,1] # all rows,col1"
   ]
  },
  {
   "cell_type": "code",
   "execution_count": 16,
   "id": "2afe92c5-c3b2-4211-b404-18d5fde97599",
   "metadata": {},
   "outputs": [
    {
     "data": {
      "text/plain": [
       "array([4, 5, 6])"
      ]
     },
     "execution_count": 16,
     "metadata": {},
     "output_type": "execute_result"
    }
   ],
   "source": [
    "arr[1,:] # 1st row , all column"
   ]
  },
  {
   "cell_type": "code",
   "execution_count": null,
   "id": "538082cb-cff5-4dd2-a784-2234ada4fb95",
   "metadata": {},
   "outputs": [],
   "source": []
  },
  {
   "cell_type": "code",
   "execution_count": 17,
   "id": "0ce03877-f0e0-4fa2-b9bb-3bdde8157efe",
   "metadata": {},
   "outputs": [
    {
     "data": {
      "text/plain": [
       "array([[2, 3],\n",
       "       [5, 6]])"
      ]
     },
     "execution_count": 17,
     "metadata": {},
     "output_type": "execute_result"
    }
   ],
   "source": [
    "arr[0:2 , 1:3] #subarray 0:2 row 0 to 1 , from col 1 to 2"
   ]
  },
  {
   "cell_type": "markdown",
   "id": "6bd02616-5ece-4b1a-a8fe-0cce5c903f85",
   "metadata": {},
   "source": [
    "<h5 style=\"color:#d946ef; margin:6px 0;\"> 🧩Boolean Indexing</h5>"
   ]
  },
  {
   "cell_type": "code",
   "execution_count": 18,
   "id": "ef737de2-abfd-4a45-840e-c03ae4c7c41d",
   "metadata": {},
   "outputs": [
    {
     "data": {
      "text/plain": [
       "array([6, 7, 8, 9])"
      ]
     },
     "execution_count": 18,
     "metadata": {},
     "output_type": "execute_result"
    }
   ],
   "source": [
    "arr[arr>5] #elements greater than 5 🧩"
   ]
  },
  {
   "cell_type": "code",
   "execution_count": 78,
   "id": "7bf7a256-0568-45a2-afa4-72a557474d77",
   "metadata": {},
   "outputs": [
    {
     "name": "stdout",
     "output_type": "stream",
     "text": [
      "Boolean indexing (arr > 3): [[False False False]\n",
      " [ True  True  True]\n",
      " [ True  True  True]]\n",
      "Filtered array: [7 8 9 4 5 6]\n"
     ]
    }
   ],
   "source": [
    "# Boolean indexing\n",
    "bool_index = arr > 3\n",
    "print(\"Boolean indexing (arr > 3):\", bool_index)\n",
    "filtered_array = arr[bool_index]\n",
    "print(\"Filtered array:\", filtered_array)"
   ]
  },
  {
   "cell_type": "markdown",
   "id": "ecdb0624-037c-40aa-8fd9-4700b5315af6",
   "metadata": {},
   "source": [
    "<h5 style=\"color:#d946ef; margin:6px 0;\"> 🧩Fancy Indexing</h5>"
   ]
  },
  {
   "cell_type": "code",
   "execution_count": 19,
   "id": "ccea7c61-c2d1-40df-b7e5-96948b3d18fc",
   "metadata": {},
   "outputs": [
    {
     "data": {
      "text/plain": [
       "array([2, 9])"
      ]
     },
     "execution_count": 19,
     "metadata": {},
     "output_type": "execute_result"
    }
   ],
   "source": [
    "arr[[0,2],[1,2]] #elements at (0,1) & (2,2)"
   ]
  },
  {
   "cell_type": "markdown",
   "id": "3ee86944-6553-4ce5-b6c4-72b446280e66",
   "metadata": {},
   "source": [
    "<h5 style=\"color:#d946ef; margin:6px 0;\"> 🧩Where</h5>"
   ]
  },
  {
   "cell_type": "code",
   "execution_count": 70,
   "id": "25e8d4d3-1990-4a84-b6e4-1c7d9cb03754",
   "metadata": {},
   "outputs": [
    {
     "data": {
      "text/plain": [
       "array([[1, 2, 3],\n",
       "       [7, 8, 9],\n",
       "       [4, 5, 6]])"
      ]
     },
     "execution_count": 70,
     "metadata": {},
     "output_type": "execute_result"
    }
   ],
   "source": [
    "arr"
   ]
  },
  {
   "cell_type": "code",
   "execution_count": 68,
   "id": "a41ea90c-28ec-40bf-ad8b-99ae3f742ac2",
   "metadata": {},
   "outputs": [
    {
     "data": {
      "text/plain": [
       "array([[ 1,  2,  3],\n",
       "       [21, 24, 27],\n",
       "       [ 4,  5, 18]])"
      ]
     },
     "metadata": {},
     "output_type": "display_data"
    }
   ],
   "source": [
    "condi_array=np.where(arr>5,arr*3,arr)\n",
    "display(condi_array)"
   ]
  },
  {
   "cell_type": "code",
   "execution_count": 69,
   "id": "fd5bfc32-56b0-48d3-82ac-1e662039c9d2",
   "metadata": {},
   "outputs": [
    {
     "data": {
      "text/plain": [
       "array([['false', 'false', 'false'],\n",
       "       ['true', 'true', 'true'],\n",
       "       ['false', 'false', 'true']], dtype='<U5')"
      ]
     },
     "metadata": {},
     "output_type": "display_data"
    }
   ],
   "source": [
    "condi_array=np.where(arr>5,\"true\",\"false\")\n",
    "display(condi_array)"
   ]
  },
  {
   "cell_type": "markdown",
   "id": "a979c3df-fa63-4ffe-89fd-17c5756e87a9",
   "metadata": {},
   "source": [
    "<h3 style=\"color:#22c55e; margin:6px 0;\">➕ 4. Array Operations</h3>"
   ]
  },
  {
   "cell_type": "code",
   "execution_count": 20,
   "id": "606b6597-77c9-4ef4-a3b2-73f4b7af7d78",
   "metadata": {},
   "outputs": [
    {
     "data": {
      "text/plain": [
       "array([1, 2, 3, 4, 5])"
      ]
     },
     "metadata": {},
     "output_type": "display_data"
    },
    {
     "data": {
      "text/plain": [
       "array([8, 9, 9, 4, 5])"
      ]
     },
     "metadata": {},
     "output_type": "display_data"
    }
   ],
   "source": [
    "a1=np.array([1,2,3,4,5])\n",
    "a2=np.array([8,9,9,4,5])\n",
    "display(a1)\n",
    "display(a2)"
   ]
  },
  {
   "cell_type": "markdown",
   "id": "c98f335d-2e18-4bee-a914-d47b18b003df",
   "metadata": {},
   "source": [
    "<h5 style=\"color:#d946ef; margin:6px 0;\"> 🧩Element-Wise/h5>"
   ]
  },
  {
   "cell_type": "code",
   "execution_count": 74,
   "id": "714f4c33-cc58-4b0b-a90e-d00b09e0601a",
   "metadata": {},
   "outputs": [
    {
     "data": {
      "text/plain": [
       "array([ 9, 11, 12,  8, 10])"
      ]
     },
     "metadata": {},
     "output_type": "display_data"
    },
    {
     "data": {
      "text/plain": [
       "array([-7, -7, -6,  0,  0])"
      ]
     },
     "metadata": {},
     "output_type": "display_data"
    },
    {
     "data": {
      "text/plain": [
       "array([ 8, 18, 27, 16, 25])"
      ]
     },
     "metadata": {},
     "output_type": "display_data"
    },
    {
     "data": {
      "text/plain": [
       "array([0.125     , 0.22222222, 0.33333333, 1.        , 1.        ])"
      ]
     },
     "metadata": {},
     "output_type": "display_data"
    },
    {
     "data": {
      "text/plain": [
       "array([    1,   512, 19683,   256,  3125])"
      ]
     },
     "metadata": {},
     "output_type": "display_data"
    }
   ],
   "source": [
    "display(a1+a2)\n",
    "display(a1-a2)\n",
    "display(a1*a2)\n",
    "display(a1/a2)\n",
    "display(a1**a2)"
   ]
  },
  {
   "cell_type": "code",
   "execution_count": 75,
   "id": "96db7906-6c0b-487c-b07e-404c9ca0b091",
   "metadata": {},
   "outputs": [
    {
     "data": {
      "text/plain": [
       "array([1, 2, 3, 4, 5, 8, 9, 9, 4, 5])"
      ]
     },
     "execution_count": 75,
     "metadata": {},
     "output_type": "execute_result"
    }
   ],
   "source": [
    "arr2=np.concatenate((a1,a2))\n",
    "arr2"
   ]
  },
  {
   "cell_type": "markdown",
   "id": "f160e963-21a6-4a94-8494-c19c8d3cb4c2",
   "metadata": {},
   "source": [
    "<h5 style=\"color:#d946ef; margin:6px 0;\"> 🧩Aggregate functions</h5>"
   ]
  },
  {
   "cell_type": "code",
   "execution_count": 22,
   "id": "e6558543-cfb6-42c5-a0d3-94c2b752f4f6",
   "metadata": {},
   "outputs": [
    {
     "data": {
      "text/plain": [
       "array([[1, 2, 3],\n",
       "       [4, 5, 6],\n",
       "       [7, 8, 9]])"
      ]
     },
     "execution_count": 22,
     "metadata": {},
     "output_type": "execute_result"
    }
   ],
   "source": [
    "arr"
   ]
  },
  {
   "cell_type": "code",
   "execution_count": 23,
   "id": "762ede63-d683-4691-bd57-acc06f161bfd",
   "metadata": {},
   "outputs": [
    {
     "data": {
      "text/plain": [
       "np.int64(45)"
      ]
     },
     "metadata": {},
     "output_type": "display_data"
    },
    {
     "data": {
      "text/plain": [
       "np.float64(5.0)"
      ]
     },
     "metadata": {},
     "output_type": "display_data"
    },
    {
     "data": {
      "text/plain": [
       "np.int64(1)"
      ]
     },
     "metadata": {},
     "output_type": "display_data"
    },
    {
     "data": {
      "text/plain": [
       "np.int64(9)"
      ]
     },
     "metadata": {},
     "output_type": "display_data"
    },
    {
     "data": {
      "text/plain": [
       "np.float64(2.581988897471611)"
      ]
     },
     "metadata": {},
     "output_type": "display_data"
    },
    {
     "data": {
      "text/plain": [
       "np.float64(6.666666666666667)"
      ]
     },
     "metadata": {},
     "output_type": "display_data"
    }
   ],
   "source": [
    "display(arr.sum())\n",
    "display(arr.mean())\n",
    "display(arr.min())\n",
    "display(arr.max())\n",
    "display(arr.std())\n",
    "display(arr.var())"
   ]
  },
  {
   "cell_type": "markdown",
   "id": "a470aaaf-faf9-471e-8fa3-7e0ff3f70801",
   "metadata": {},
   "source": [
    "<h5 style=\"color:#d946ef; margin:6px 0;\"> 🧩Axis-Based-Operations</h5>"
   ]
  },
  {
   "cell_type": "code",
   "execution_count": 45,
   "id": "3da8377e-5de5-42aa-8a31-41e8323f01ff",
   "metadata": {},
   "outputs": [
    {
     "data": {
      "text/plain": [
       "array([12, 15, 18])"
      ]
     },
     "metadata": {},
     "output_type": "display_data"
    },
    {
     "data": {
      "text/plain": [
       "array([ 6, 24, 15])"
      ]
     },
     "metadata": {},
     "output_type": "display_data"
    }
   ],
   "source": [
    "#methos1:\n",
    "display(np.sum(arr, axis=0))  # column-wise\n",
    "display(np.sum(arr, axis=1))  # row-wise"
   ]
  },
  {
   "cell_type": "code",
   "execution_count": 46,
   "id": "feee2d88-3377-48e5-9ffd-0048bfb4bf81",
   "metadata": {},
   "outputs": [
    {
     "data": {
      "text/plain": [
       "array([12, 15, 18])"
      ]
     },
     "metadata": {},
     "output_type": "display_data"
    },
    {
     "data": {
      "text/plain": [
       "array([ 6, 24, 15])"
      ]
     },
     "metadata": {},
     "output_type": "display_data"
    }
   ],
   "source": [
    "#methos2:\n",
    "display(arr.sum(axis=0))\n",
    "display(arr.sum(axis=1))"
   ]
  },
  {
   "cell_type": "code",
   "execution_count": 77,
   "id": "fd05993a-8f31-459b-a01c-6ddd4cdf83b3",
   "metadata": {},
   "outputs": [
    {
     "name": "stdout",
     "output_type": "stream",
     "text": [
      "Sum of all elements: 6\n"
     ]
    }
   ],
   "source": [
    "# Sum of all elements in an array\n",
    "sum_all = np.sum(a)\n",
    "print(\"Sum of all elements:\", sum_all)"
   ]
  },
  {
   "cell_type": "markdown",
   "id": "c463ca84-386c-4ceb-be4b-2a370d73e118",
   "metadata": {},
   "source": [
    "<h3 style=\"color:#22c55e; margin:6px 0;\">🔄 5. Reshaping & Manipulation</h3>"
   ]
  },
  {
   "cell_type": "code",
   "execution_count": 47,
   "id": "188bafb3-bb63-4850-94fb-d7a7316ede05",
   "metadata": {},
   "outputs": [
    {
     "data": {
      "text/plain": [
       "array([[1, 2, 3],\n",
       "       [7, 8, 9],\n",
       "       [4, 5, 6]])"
      ]
     },
     "execution_count": 47,
     "metadata": {},
     "output_type": "execute_result"
    }
   ],
   "source": [
    "arr.reshape(3,3)"
   ]
  },
  {
   "cell_type": "code",
   "execution_count": 48,
   "id": "3887c4d4-b6f1-4176-9f97-c76472d6d124",
   "metadata": {},
   "outputs": [
    {
     "data": {
      "text/plain": [
       "array([1, 2, 3, 7, 8, 9, 4, 5, 6])"
      ]
     },
     "execution_count": 48,
     "metadata": {},
     "output_type": "execute_result"
    }
   ],
   "source": [
    "arr.flatten() #1-D"
   ]
  },
  {
   "cell_type": "code",
   "execution_count": 49,
   "id": "0fe70627-a5e1-45a4-8e79-7b81c5df002b",
   "metadata": {},
   "outputs": [
    {
     "data": {
      "text/plain": [
       "array([[1, 7, 4],\n",
       "       [2, 8, 5],\n",
       "       [3, 9, 6]])"
      ]
     },
     "execution_count": 49,
     "metadata": {},
     "output_type": "execute_result"
    }
   ],
   "source": [
    "arr.T #transpose"
   ]
  },
  {
   "cell_type": "code",
   "execution_count": 76,
   "id": "1bac2292-c524-4a3e-966e-7340952e9902",
   "metadata": {},
   "outputs": [
    {
     "name": "stdout",
     "output_type": "stream",
     "text": [
      "Reshaped array:\n",
      " [[ 0  1  2  3]\n",
      " [ 4  5  6  7]\n",
      " [ 8  9 10 11]]\n"
     ]
    }
   ],
   "source": [
    "# Reshape an array\n",
    "reshaped = np.arange(12).reshape(3, 4)\n",
    "print(\"Reshaped array:\\n\", reshaped)"
   ]
  },
  {
   "cell_type": "markdown",
   "id": "0e828111-e404-4de3-9128-9064246a9288",
   "metadata": {},
   "source": [
    "<h5 style=\"color:#d946ef; margin:6px 0;\"> 🧩5.1 -Stacking:</h5>"
   ]
  },
  {
   "cell_type": "code",
   "execution_count": 50,
   "id": "86b120ed-84fb-4fa5-94f9-e60be4cfd938",
   "metadata": {},
   "outputs": [
    {
     "data": {
      "text/plain": [
       "array([1, 2, 3, 4, 5])"
      ]
     },
     "metadata": {},
     "output_type": "display_data"
    },
    {
     "data": {
      "text/plain": [
       "array([8, 9, 9, 4, 5])"
      ]
     },
     "metadata": {},
     "output_type": "display_data"
    }
   ],
   "source": [
    "display(a1)\n",
    "display(a2)"
   ]
  },
  {
   "cell_type": "code",
   "execution_count": 51,
   "id": "7da4e505-6809-455b-b2b7-84b671edfd18",
   "metadata": {},
   "outputs": [
    {
     "data": {
      "text/plain": [
       "array([[1, 2, 3, 4, 5],\n",
       "       [8, 9, 9, 4, 5]])"
      ]
     },
     "execution_count": 51,
     "metadata": {},
     "output_type": "execute_result"
    }
   ],
   "source": [
    "np.vstack([a1,a2])"
   ]
  },
  {
   "cell_type": "code",
   "execution_count": 52,
   "id": "85d3c92c-5238-4481-bd76-7e6bedc4f158",
   "metadata": {},
   "outputs": [
    {
     "data": {
      "text/plain": [
       "array([1, 2, 3, 4, 5, 8, 9, 9, 4, 5])"
      ]
     },
     "execution_count": 52,
     "metadata": {},
     "output_type": "execute_result"
    }
   ],
   "source": [
    "np.hstack([a1,a2])"
   ]
  },
  {
   "cell_type": "code",
   "execution_count": 53,
   "id": "5f0aa2bc-c07f-4a59-9fb2-485fccd760b0",
   "metadata": {},
   "outputs": [
    {
     "data": {
      "text/plain": [
       "array([[1, 8],\n",
       "       [2, 9],\n",
       "       [3, 9],\n",
       "       [4, 4],\n",
       "       [5, 5]])"
      ]
     },
     "execution_count": 53,
     "metadata": {},
     "output_type": "execute_result"
    }
   ],
   "source": [
    "np.column_stack([a1,a2])"
   ]
  },
  {
   "cell_type": "markdown",
   "id": "a7821d84-f1e9-4102-8589-4bf9c8d1863e",
   "metadata": {},
   "source": [
    "<h5 style=\"color:#d946ef; margin:6px 0;\"> 🧩5.2 -Splitting:</h5>"
   ]
  },
  {
   "cell_type": "code",
   "execution_count": 33,
   "id": "5d4fe40e-98ff-4158-a7d9-f64496a02c90",
   "metadata": {},
   "outputs": [
    {
     "data": {
      "text/plain": [
       "array([[ 0,  2,  4,  6],\n",
       "       [ 8, 10, 12, 14],\n",
       "       [16, 18, 20, 22],\n",
       "       [24, 26, 28, 30]])"
      ]
     },
     "execution_count": 33,
     "metadata": {},
     "output_type": "execute_result"
    }
   ],
   "source": [
    "c=np.arange(0,32,2).reshape(4,4)\n",
    "c"
   ]
  },
  {
   "cell_type": "code",
   "execution_count": 34,
   "id": "ddd14e18-ce8e-4515-a71d-ca21e4566055",
   "metadata": {},
   "outputs": [
    {
     "data": {
      "text/plain": [
       "[array([[ 0,  2,  4,  6],\n",
       "        [ 8, 10, 12, 14]]),\n",
       " array([[16, 18, 20, 22],\n",
       "        [24, 26, 28, 30]])]"
      ]
     },
     "execution_count": 34,
     "metadata": {},
     "output_type": "execute_result"
    }
   ],
   "source": [
    "np.split(c,2) #split into 2 parts"
   ]
  },
  {
   "cell_type": "code",
   "execution_count": 35,
   "id": "ac7d616f-d2f2-4872-8122-76ef2b6c7616",
   "metadata": {},
   "outputs": [
    {
     "data": {
      "text/plain": [
       "[array([[ 0],\n",
       "        [ 8],\n",
       "        [16],\n",
       "        [24]]),\n",
       " array([[ 2],\n",
       "        [10],\n",
       "        [18],\n",
       "        [26]]),\n",
       " array([[ 4],\n",
       "        [12],\n",
       "        [20],\n",
       "        [28]]),\n",
       " array([[ 6],\n",
       "        [14],\n",
       "        [22],\n",
       "        [30]])]"
      ]
     },
     "execution_count": 35,
     "metadata": {},
     "output_type": "execute_result"
    }
   ],
   "source": [
    "np.hsplit(c,4)"
   ]
  },
  {
   "cell_type": "code",
   "execution_count": 36,
   "id": "f59c5be9-5358-43ff-8bc5-19ab01460f17",
   "metadata": {},
   "outputs": [
    {
     "data": {
      "text/plain": [
       "[array([[0, 2, 4, 6]]),\n",
       " array([[ 8, 10, 12, 14]]),\n",
       " array([[16, 18, 20, 22]]),\n",
       " array([[24, 26, 28, 30]])]"
      ]
     },
     "execution_count": 36,
     "metadata": {},
     "output_type": "execute_result"
    }
   ],
   "source": [
    "np.vsplit(c,4)"
   ]
  },
  {
   "cell_type": "markdown",
   "id": "3370683f-467d-4778-98fa-d24eca185a63",
   "metadata": {},
   "source": [
    "<h3 style=\"color:#22c55e; margin:6px 0;\">🔄 6. Broadcasting </h3>\n",
    "\n",
    "- Rules for performing operations on arrays with different shapes.\n",
    "- Tip: Use broadcasting to avoid memory-heavy       loops\n",
    "- Automatic shape expansion for compatible arrays\n",
    "- Works when shapes are compatible (e.g., (3,1) with (1,4))\n",
    "\n"
   ]
  },
  {
   "cell_type": "code",
   "execution_count": 37,
   "id": "2a4d25cd-359e-48f2-b976-16b77470de02",
   "metadata": {},
   "outputs": [
    {
     "data": {
      "text/plain": [
       "array([1, 2, 3])"
      ]
     },
     "metadata": {},
     "output_type": "display_data"
    },
    {
     "data": {
      "text/plain": [
       "array([[10],\n",
       "       [20],\n",
       "       [30]])"
      ]
     },
     "metadata": {},
     "output_type": "display_data"
    },
    {
     "data": {
      "text/plain": [
       "array([[11, 12, 13],\n",
       "       [21, 22, 23],\n",
       "       [31, 32, 33]])"
      ]
     },
     "metadata": {},
     "output_type": "display_data"
    }
   ],
   "source": [
    "a=np.array([1,2,3])\n",
    "b=np.array([[10],[20],[30]])\n",
    "display(a)\n",
    "display(b)\n",
    "display(a+b)"
   ]
  },
  {
   "cell_type": "markdown",
   "id": "ba2a0f14-322a-4be4-9acc-680f710cffb2",
   "metadata": {},
   "source": [
    "<h3 style=\"color:#22c55e; margin:6px 0;\">🔄 7. Linear Algebra </h3>"
   ]
  },
  {
   "cell_type": "code",
   "execution_count": 38,
   "id": "83298bef-2906-4cb5-9a7d-29a2eb1a3f09",
   "metadata": {},
   "outputs": [
    {
     "data": {
      "text/plain": [
       "array([140])"
      ]
     },
     "metadata": {},
     "output_type": "display_data"
    },
    {
     "data": {
      "text/plain": [
       "array([140])"
      ]
     },
     "metadata": {},
     "output_type": "display_data"
    },
    {
     "data": {
      "text/plain": [
       "array([140])"
      ]
     },
     "metadata": {},
     "output_type": "display_data"
    },
    {
     "data": {
      "text/plain": [
       "array([[ 4.50359963e+14, -2.25179981e+14, -9.00719925e+14,\n",
       "         6.75539944e+14],\n",
       "       [-1.20095990e+15,  1.35107989e+15,  9.00719925e+14,\n",
       "        -1.05083991e+15],\n",
       "       [ 1.05083991e+15, -2.02661983e+15,  9.00719925e+14,\n",
       "         7.50599938e+13],\n",
       "       [-3.00239975e+14,  9.00719925e+14, -9.00719925e+14,\n",
       "         3.00239975e+14]])"
      ]
     },
     "metadata": {},
     "output_type": "display_data"
    },
    {
     "data": {
      "text/plain": [
       "np.float64(-4.7331654313260826e-29)"
      ]
     },
     "metadata": {},
     "output_type": "display_data"
    },
    {
     "data": {
      "text/plain": [
       "EigResult(eigenvalues=array([ 6.49284984e+01, -4.92849839e+00, -3.04550265e-15,  9.05867932e-17]), eigenvectors=array([[-0.11417645, -0.7327781 , -0.48846795, -0.01936986],\n",
       "       [-0.3300046 , -0.28974835,  0.83598112, -0.38216644],\n",
       "       [-0.54583275,  0.15328139, -0.20655839,  0.82244247],\n",
       "       [-0.76166089,  0.59631113, -0.14095478, -0.42090617]]))"
      ]
     },
     "metadata": {},
     "output_type": "display_data"
    }
   ],
   "source": [
    "display(np.dot(a,b)) #matrix multiplication\n",
    "display(a@b)#matrix multiplication\n",
    "display(np.matmul(a,b))   #matrix multiplication\n",
    "display(np.linalg.inv(c))  #inverse\n",
    "display(np.linalg.det(c)) # determinant\n",
    "display(np.linalg.eig(c)) # eigenvalues & vectors"
   ]
  },
  {
   "cell_type": "markdown",
   "id": "a6c8e781-91d4-4c0c-bb3a-24ad16f47d36",
   "metadata": {},
   "source": [
    "<h3 style=\"color:#22c55e; margin:6px 0;\">🔄 8. Useful Functions </h3>"
   ]
  },
  {
   "cell_type": "code",
   "execution_count": 39,
   "id": "270e636b-fe83-48ae-8f5b-873c5be3e20f",
   "metadata": {},
   "outputs": [
    {
     "data": {
      "text/plain": [
       "array([1, 2, 3, 4, 5, 6, 7, 8, 9])"
      ]
     },
     "metadata": {},
     "output_type": "display_data"
    },
    {
     "data": {
      "text/plain": [
       "array([[1, 2, 3],\n",
       "       [4, 5, 6],\n",
       "       [7, 8, 9]])"
      ]
     },
     "metadata": {},
     "output_type": "display_data"
    },
    {
     "data": {
      "text/plain": [
       "array([[0, 1, 2],\n",
       "       [0, 1, 2],\n",
       "       [0, 1, 2]])"
      ]
     },
     "metadata": {},
     "output_type": "display_data"
    },
    {
     "data": {
      "text/plain": [
       "np.int64(8)"
      ]
     },
     "metadata": {},
     "output_type": "display_data"
    },
    {
     "data": {
      "text/plain": [
       "np.int64(0)"
      ]
     },
     "metadata": {},
     "output_type": "display_data"
    },
    {
     "data": {
      "text/plain": [
       "array([[0, 0, 0],\n",
       "       [0, 0, 1],\n",
       "       [1, 1, 1]])"
      ]
     },
     "metadata": {},
     "output_type": "display_data"
    },
    {
     "data": {
      "text/plain": [
       "array([[False,  True,  True],\n",
       "       [False, False, False],\n",
       "       [False, False, False]])"
      ]
     },
     "metadata": {},
     "output_type": "display_data"
    }
   ],
   "source": [
    "display(np.unique(arr))\n",
    "display(np.sort(arr))\n",
    "display(np.argsort(arr))\n",
    "display(np.argmax(arr))\n",
    "display(np.argmin(arr))\n",
    "display(np.where(arr>5,1,0))\n",
    "display(np.isin(arr,[2,3]))\n"
   ]
  },
  {
   "cell_type": "markdown",
   "id": "a1bd95a5-2e9d-4b38-b884-51f5725cedc5",
   "metadata": {},
   "source": [
    "<h3 style=\"color:#22c55e; margin:6px 0;\"> 🧼 10. Handling Missing Data (NaN)</h3>"
   ]
  },
  {
   "cell_type": "code",
   "execution_count": 58,
   "id": "bf9b442b-89dc-4bb4-ad12-ba8daac5a14b",
   "metadata": {},
   "outputs": [
    {
     "data": {
      "text/plain": [
       "array([False, False,  True, False])"
      ]
     },
     "metadata": {},
     "output_type": "display_data"
    },
    {
     "data": {
      "text/plain": [
       "np.float64(2.3333333333333335)"
      ]
     },
     "metadata": {},
     "output_type": "display_data"
    },
    {
     "data": {
      "text/plain": [
       "array([[False, False, False],\n",
       "       [False, False, False],\n",
       "       [False, False, False]])"
      ]
     },
     "metadata": {},
     "output_type": "display_data"
    },
    {
     "data": {
      "text/plain": [
       "array([[1, 2, 3],\n",
       "       [7, 8, 9],\n",
       "       [4, 5, 6]])"
      ]
     },
     "metadata": {},
     "output_type": "display_data"
    }
   ],
   "source": [
    "arr1 = np.array([1, 2, np.nan, 4])\n",
    "display(np.isnan(arr1)) #check NaN \n",
    "np.nan_to_num(arr1)  # replace NaN with 0\n",
    "display(np.nanmean(arr1)) # mean ignoring NaN\n",
    "display(np.isinf(arr))\n",
    "display(np.clip(arr, 0, 10)  )"
   ]
  },
  {
   "cell_type": "markdown",
   "id": "22c3cdac-38fb-42e3-8be7-9779ad3277bc",
   "metadata": {},
   "source": [
    "<h3 style=\"color:#22c55e; margin:6px 0;\">🎲 11. Random Module Utilities </h3>"
   ]
  },
  {
   "cell_type": "code",
   "execution_count": 41,
   "id": "69640a4a-5c37-48f3-937f-8d3efab3da91",
   "metadata": {},
   "outputs": [
    {
     "data": {
      "text/plain": [
       "array([[0.20335034, 0.98222304],\n",
       "       [0.21768059, 0.77669518],\n",
       "       [0.57962265, 0.6818707 ]])"
      ]
     },
     "metadata": {},
     "output_type": "display_data"
    },
    {
     "data": {
      "text/plain": [
       "array([8, 6, 1, 6, 3], dtype=int32)"
      ]
     },
     "metadata": {},
     "output_type": "display_data"
    },
    {
     "data": {
      "text/plain": [
       "array([[8, 3, 2],\n",
       "       [5, 9, 1],\n",
       "       [1, 9, 7]], dtype=int32)"
      ]
     },
     "metadata": {},
     "output_type": "display_data"
    },
    {
     "data": {
      "text/plain": [
       "None"
      ]
     },
     "metadata": {},
     "output_type": "display_data"
    },
    {
     "data": {
      "text/plain": [
       "array([[1, 2, 3],\n",
       "       [7, 8, 9],\n",
       "       [4, 5, 6]])"
      ]
     },
     "metadata": {},
     "output_type": "display_data"
    }
   ],
   "source": [
    "display(np.random.rand(3,2))\n",
    "display(np.random.randint(1,10,5))\n",
    "display(np.random.randint(0, 10, size=(3, 3)))\n",
    "display(np.random.shuffle(arr))\n",
    "display (np.random.permutation (arr))\n",
    "        "
   ]
  },
  {
   "cell_type": "code",
   "execution_count": 42,
   "id": "71dc0790-11e7-4e4f-9019-f1c81cc7b9a1",
   "metadata": {},
   "outputs": [],
   "source": [
    "np.random.seed(42)\n",
    "#→ make results repeatable\n",
    "#Always fix random seed (np.random.seed) for reproducibility.."
   ]
  },
  {
   "cell_type": "code",
   "execution_count": 81,
   "id": "df274a85-ea50-4603-b2c3-b4a2014a85b4",
   "metadata": {},
   "outputs": [
    {
     "name": "stdout",
     "output_type": "stream",
     "text": [
      "Random array with seed:\n",
      " [[0.37454012 0.95071431]\n",
      " [0.73199394 0.59865848]]\n"
     ]
    }
   ],
   "source": [
    "# Seed for reproducibility\n",
    "np.random.seed(42)\n",
    "random_seeded = np.random.random((2, 2))\n",
    "print(\"Random array with seed:\\n\", random_seeded)"
   ]
  },
  {
   "cell_type": "code",
   "execution_count": 80,
   "id": "c10fcfe2-3541-45b4-9294-b7e86a3aa69c",
   "metadata": {},
   "outputs": [
    {
     "name": "stdout",
     "output_type": "stream",
     "text": [
      "Random array:\n",
      " [[0.70807258 0.02058449 0.96990985]\n",
      " [0.83244264 0.21233911 0.18182497]\n",
      " [0.18340451 0.30424224 0.52475643]]\n"
     ]
    }
   ],
   "source": [
    "# Random numbers\n",
    "random_array = np.random.random((3, 3))  # random values in a given shape\n",
    "print(\"Random array:\\n\", random_array)"
   ]
  },
  {
   "cell_type": "markdown",
   "id": "03e08f01-ba9c-46a4-a47b-0540464c7a25",
   "metadata": {},
   "source": [
    "<h3 style=\"color:#22c55e; margin:6px 0;\">🎲 12. Conversions </h3>"
   ]
  },
  {
   "cell_type": "code",
   "execution_count": 43,
   "id": "74a59f77-137a-49ad-8041-7fa9a1779dce",
   "metadata": {},
   "outputs": [
    {
     "data": {
      "text/plain": [
       "[[1, 2, 3], [7, 8, 9], [4, 5, 6]]"
      ]
     },
     "metadata": {},
     "output_type": "display_data"
    },
    {
     "data": {
      "text/plain": [
       "array([[1, 2, 3],\n",
       "       [7, 8, 9],\n",
       "       [4, 5, 6]])"
      ]
     },
     "metadata": {},
     "output_type": "display_data"
    }
   ],
   "source": [
    "display(arr.tolist())      # to Python list\n",
    "display(arr.astype(int))  # change type"
   ]
  },
  {
   "cell_type": "markdown",
   "id": "b51023b1-14de-43e9-864a-0549db63c149",
   "metadata": {},
   "source": [
    "<h3 style=\"color:#22c55e; margin:6px 0;\">🧠 13. NumPy + Pandas Synergy</h3>"
   ]
  },
  {
   "cell_type": "code",
   "execution_count": 44,
   "id": "f9a32ade-fa6b-4b84-ab16-703d1ca6b92d",
   "metadata": {},
   "outputs": [
    {
     "data": {
      "text/html": [
       "<div>\n",
       "<style scoped>\n",
       "    .dataframe tbody tr th:only-of-type {\n",
       "        vertical-align: middle;\n",
       "    }\n",
       "\n",
       "    .dataframe tbody tr th {\n",
       "        vertical-align: top;\n",
       "    }\n",
       "\n",
       "    .dataframe thead th {\n",
       "        text-align: right;\n",
       "    }\n",
       "</style>\n",
       "<table border=\"1\" class=\"dataframe\">\n",
       "  <thead>\n",
       "    <tr style=\"text-align: right;\">\n",
       "      <th></th>\n",
       "      <th>0</th>\n",
       "      <th>1</th>\n",
       "      <th>2</th>\n",
       "    </tr>\n",
       "  </thead>\n",
       "  <tbody>\n",
       "    <tr>\n",
       "      <th>0</th>\n",
       "      <td>1</td>\n",
       "      <td>2</td>\n",
       "      <td>3</td>\n",
       "    </tr>\n",
       "    <tr>\n",
       "      <th>1</th>\n",
       "      <td>7</td>\n",
       "      <td>8</td>\n",
       "      <td>9</td>\n",
       "    </tr>\n",
       "    <tr>\n",
       "      <th>2</th>\n",
       "      <td>4</td>\n",
       "      <td>5</td>\n",
       "      <td>6</td>\n",
       "    </tr>\n",
       "  </tbody>\n",
       "</table>\n",
       "</div>"
      ],
      "text/plain": [
       "   0  1  2\n",
       "0  1  2  3\n",
       "1  7  8  9\n",
       "2  4  5  6"
      ]
     },
     "execution_count": 44,
     "metadata": {},
     "output_type": "execute_result"
    }
   ],
   "source": [
    "import pandas as pd\n",
    "df = pd.DataFrame(arr)\n",
    "df"
   ]
  },
  {
   "cell_type": "markdown",
   "id": "370286c8-682d-43c0-9939-c1c99bc7a0ec",
   "metadata": {},
   "source": [
    "<h3 style=\"color:#22c55e; margin:6px 0;\">🧠 14. File I/O</h3>"
   ]
  },
  {
   "cell_type": "markdown",
   "id": "e1ea911b-8e28-4a9c-8123-d2e6666447f1",
   "metadata": {},
   "source": [
    "```python\n",
    "- Save: np.save('file.npy', arr)\n",
    "- Load: np.load('file.npy')\n",
    "- CSV: np.genfromtxt('data.csv', delimiter=',')\n",
    "\n",
    "\n",
    "\n",
    "\n"
   ]
  },
  {
   "cell_type": "markdown",
   "id": "eb250ec5-6fc9-406b-af4d-e408efad4fa7",
   "metadata": {},
   "source": [
    "<h3 style=\"color:#22c55e; margin:6px 0;\">🧠15. Histogram I/O</h3>"
   ]
  },
  {
   "cell_type": "code",
   "execution_count": 55,
   "id": "63c73979-0380-4118-9099-7a08f92f84dd",
   "metadata": {},
   "outputs": [
    {
     "data": {
      "text/plain": [
       "array([1, 1, 1, 1, 0, 1, 1, 1, 1, 1])"
      ]
     },
     "execution_count": 55,
     "metadata": {},
     "output_type": "execute_result"
    }
   ],
   "source": [
    "hist, bins = np.histogram(arr, bins=10)\n",
    "hist"
   ]
  },
  {
   "cell_type": "code",
   "execution_count": null,
   "id": "ce6ec9f1-6cb5-49d9-ab8e-f7a557ece0d8",
   "metadata": {},
   "outputs": [],
   "source": []
  },
  {
   "cell_type": "markdown",
   "id": "16d4f0ef-0d61-40b8-b236-704aac4492b6",
   "metadata": {},
   "source": [
    "<h3 style=\"color:#60a5fa; margin:6px 0;\">📘Vectors</h3>"
   ]
  },
  {
   "cell_type": "code",
   "execution_count": 59,
   "id": "27cbb7de-cd1c-4fac-9619-6723c678d800",
   "metadata": {},
   "outputs": [
    {
     "data": {
      "text/plain": [
       "array([1, 2, 3])"
      ]
     },
     "execution_count": 59,
     "metadata": {},
     "output_type": "execute_result"
    }
   ],
   "source": [
    "vector=np.array([1,2,3])\n",
    "vector"
   ]
  },
  {
   "cell_type": "markdown",
   "id": "3a87feb9-8777-4080-bad6-9b6a8902132a",
   "metadata": {},
   "source": [
    "<h3 style=\"color:#60a5fa; margin:6px 0;\">📘Matrix</h3>"
   ]
  },
  {
   "cell_type": "code",
   "execution_count": 60,
   "id": "59d752ad-201b-42f2-838e-691315db955d",
   "metadata": {},
   "outputs": [
    {
     "data": {
      "text/plain": [
       "array([[1, 2, 3],\n",
       "       [4, 5, 6]])"
      ]
     },
     "execution_count": 60,
     "metadata": {},
     "output_type": "execute_result"
    }
   ],
   "source": [
    "matrix=np.array([[1,2,3],[4,5,6]])\n",
    "matrix"
   ]
  },
  {
   "cell_type": "markdown",
   "id": "700d8d52-3fc1-4f9b-a9cd-9ab0bcf135a4",
   "metadata": {},
   "source": [
    "<h3 style=\"color:#60a5fa; margin:6px 0;\">📘Tensor</h3>"
   ]
  },
  {
   "cell_type": "code",
   "execution_count": 63,
   "id": "d4525cf8-18dd-48f7-9bea-32ec03923948",
   "metadata": {},
   "outputs": [
    {
     "data": {
      "text/plain": [
       "array([[[1, 2, 3],\n",
       "        [4, 5, 6]],\n",
       "\n",
       "       [[1, 2, 3],\n",
       "        [4, 5, 6]]])"
      ]
     },
     "execution_count": 63,
     "metadata": {},
     "output_type": "execute_result"
    }
   ],
   "source": [
    "tensor=np.array([[[1,2,3],[4,5,6]],[[1,2,3],[4,5,6]]])\n",
    "tensor #-> multi-dimensional array"
   ]
  },
  {
   "cell_type": "markdown",
   "id": "dfa7f9c5-9168-48c8-9443-d9467b1cd80f",
   "metadata": {},
   "source": [
    "<h3 style=\"color:#22c55e; margin:6px 0;\">🧠16.Filtering with mask </h3>"
   ]
  },
  {
   "cell_type": "code",
   "execution_count": 66,
   "id": "5fca7e67-78d9-465f-a080-f8bd77ea8806",
   "metadata": {},
   "outputs": [
    {
     "data": {
      "text/plain": [
       "array([7, 8, 9, 6])"
      ]
     },
     "execution_count": 66,
     "metadata": {},
     "output_type": "execute_result"
    }
   ],
   "source": [
    "mask=arr>5\n",
    "arr[mask]"
   ]
  },
  {
   "cell_type": "code",
   "execution_count": 67,
   "id": "8bfb9d71-02b4-4be7-b4d0-87fa4c51e2b6",
   "metadata": {},
   "outputs": [
    {
     "data": {
      "text/plain": [
       "array([1, 2, 3, 4])"
      ]
     },
     "execution_count": 67,
     "metadata": {},
     "output_type": "execute_result"
    }
   ],
   "source": [
    "x=arr<5\n",
    "arr[x]"
   ]
  },
  {
   "cell_type": "code",
   "execution_count": null,
   "id": "d341bf1e-9d2e-454d-8123-0034eb4f9e3f",
   "metadata": {},
   "outputs": [],
   "source": []
  },
  {
   "cell_type": "markdown",
   "id": "a7482bd3-146e-4479-8b71-6384333af56d",
   "metadata": {},
   "source": [
    "# 🧠 NumPy Memory Map for Data Analysis\n",
    "\n",
    "## 📌 1. Array Creation\n",
    "- `np.array()`, `np.zeros()`, `np.ones()`, `np.eye()`\n",
    "- `np.arange()`, `np.linspace()`\n",
    "\n",
    "## 📐 2. Array Properties\n",
    "- `.shape`, `.ndim`, `.size`, `.dtype`, `.itemsize`\n",
    "\n",
    "## ✂️ 3. Indexing & Slicing\n",
    "- `arr[0, 1]`, `arr[:, 1]`, `arr[1:, :]`\n",
    "- Boolean indexing: `arr[arr > 2]`\n",
    "\n",
    "## 🔄 4. Reshaping & Manipulation\n",
    "- `reshape()`, `flatten()`, `transpose()`\n",
    "- `concatenate()`, `split()`\n",
    "\n",
    "## ➕ 5. Math Operations\n",
    "- Element-wise: `+`, `-`, `*`, `/`, `**`\n",
    "- Aggregations: `sum()`, `mean()`, `std()`, `min()`, `max()`\n",
    "- Axis-based: `np.sum(arr, axis=0)`\n",
    "\n",
    "## 📊 6. Statistics\n",
    "- `median()`, `percentile()`, `corrcoef()`, `histogram()`\n",
    "\n",
    "## 🎲 7. Random Module\n",
    "- `rand()`, `randint()`, `seed()`\n",
    "\n",
    "## 📁 8. File I/O\n",
    "- `np.save()`, `np.load()`\n",
    "- `np.genfromtxt()` for CSVs\n",
    "\n",
    "## 🧮 9. Linear Algebra\n",
    "- `inv()`, `det()`, `eig()`, `solve()`, `norm()`\n",
    "\n",
    "## 🧩 10. Broadcasting\n",
    "- Automatic shape expansion for compatible arrays\n",
    "\n",
    "## ⚡ 11. Performance Tips\n",
    "- `vectorize()`, `memmap()`, `set_printoptions()`\n",
    "- `%timeit` for benchmarking\n",
    "\n",
    "## 🧠 12. Logical & Set Ops\n",
    "- `any()`, `all()`, `logical_and()`, `unique()`, `intersect1d()`\n",
    "\n",
    "## 🧼 13. Handling Missing Data\n",
    "- `isnan()`, `isinf()`, replacement logic\n",
    "\n",
    "## 📦 14. Structured Arrays\n",
    "- Custom `dtype` for mixed-type tabular data\n",
    "\n",
    "## 🔗 15. NumPy + Pandas\n",
    "- Convert arrays to DataFrames: `pd.DataFrame(arr)`\n",
    "- Use NumPy inside `apply()` for speed\n",
    "\n",
    "---\n",
    "\n",
    "## 🌟 Pro Tips\n",
    "- `np.where()` for conditional logic\n",
    "- `np.clip()` to clean outliers\n",
    "- `np.argsort()` for ranking\n",
    "- `np.cumsum()`, `np.diff()` for time series\n",
    "- `np.tile()`, `np.repeat()` for reshaping\n",
    "- `np.allclose()` for float comparison\n",
    "- `np.lib.stride_tricks.sliding_window_view()` for advanced windowing\n",
    "\n",
    "---\n",
    "\n",
    "## 🚀 Showcase Ideas\n",
    "- ✅ Mini-project: Pure NumPy EDA on Iris Dataset  \n",
    "- 📸 Carousel: “10 NumPy Tricks That Made My Code 10x Faster”  \n",
    "- 📘 README: “Why I Chose NumPy First for Data Analysis”\n"
   ]
  },
  {
   "cell_type": "code",
   "execution_count": null,
   "id": "be72b816-e7e5-4488-8a1f-ba38e095e32a",
   "metadata": {},
   "outputs": [],
   "source": [
    "structured array"
   ]
  }
 ],
 "metadata": {
  "kernelspec": {
   "display_name": "Python [conda env:base] *",
   "language": "python",
   "name": "conda-base-py"
  },
  "language_info": {
   "codemirror_mode": {
    "name": "ipython",
    "version": 3
   },
   "file_extension": ".py",
   "mimetype": "text/x-python",
   "name": "python",
   "nbconvert_exporter": "python",
   "pygments_lexer": "ipython3",
   "version": "3.13.5"
  }
 },
 "nbformat": 4,
 "nbformat_minor": 5
}
