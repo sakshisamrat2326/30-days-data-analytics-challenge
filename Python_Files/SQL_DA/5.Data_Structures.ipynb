{
 "cells": [
  {
   "cell_type": "code",
   "execution_count": null,
   "id": "92292500-9ac9-4160-835e-708d96245668",
   "metadata": {},
   "outputs": [],
   "source": [
    "#list tuple dictionary set"
   ]
  },
  {
   "cell_type": "markdown",
   "id": "e86bb327-54e1-49b6-ba95-cac2d7d53233",
   "metadata": {},
   "source": [
    "# 📌 Python Lists \n",
    "\n",
    "## 1. Introduction\n",
    "- A **list** is a **mutable**, **ordered** collection in Python.\n",
    "- Can store **heterogeneous data** (integers, floats, strings, lists, etc.).\n",
    "- Allows **Duplicates**\n",
    "- Syntax: `my_list = [1, 2, 3, \"apple\", 4.5]`\n",
    "\n",
    "---\n",
    "\n",
    "## 2. Creating Lists\n",
    "```python\n",
    "lst = []                 # empty list\n",
    "lst = [1, 2, 3]          # simple list\n",
    "lst = list((1, 2, 3))    # using list() constructor\n",
    "lst = [0] * 5            # [0, 0, 0, 0, 0]\n",
    "lst = [i for i in range(5)]  # list comprehension → [0,1,2,3,4]\n",
    "\n"
   ]
  },
  {
   "cell_type": "markdown",
   "id": "9fb365b0-9290-48f5-8081-9614df9d3390",
   "metadata": {},
   "source": [
    "<h2 data-start=\"860\" data-end=\"884\">3. Accessing Elements</h2>"
   ]
  },
  {
   "cell_type": "code",
   "execution_count": 8,
   "id": "5647fe0a-35ef-4c4d-bb3b-82a1ab219f71",
   "metadata": {},
   "outputs": [
    {
     "name": "stdout",
     "output_type": "stream",
     "text": [
      "\n"
     ]
    },
    {
     "data": {
      "text/plain": [
       "2"
      ]
     },
     "execution_count": 8,
     "metadata": {},
     "output_type": "execute_result"
    }
   ],
   "source": [
    "lst=[2,5,67,\"hey\",7.5,True,print()]\n",
    "lst[0]"
   ]
  },
  {
   "cell_type": "code",
   "execution_count": 9,
   "id": "0ac7f914-c882-4c73-9ccc-975989de6816",
   "metadata": {},
   "outputs": [],
   "source": [
    "lst[-1] #last element \n",
    "# ✅ Trick: Negative indices count from the end\n"
   ]
  },
  {
   "cell_type": "code",
   "execution_count": 10,
   "id": "66029f21-1925-4d5e-8c20-1dde6d5aaab3",
   "metadata": {},
   "outputs": [
    {
     "data": {
      "text/plain": [
       "True"
      ]
     },
     "execution_count": 10,
     "metadata": {},
     "output_type": "execute_result"
    }
   ],
   "source": [
    "lst[-2] #last second element "
   ]
  },
  {
   "cell_type": "code",
   "execution_count": 11,
   "id": "107d178d-6ffd-4094-a7e2-74c94a073e88",
   "metadata": {},
   "outputs": [
    {
     "data": {
      "text/plain": [
       "[5, 67, 'hey', 7.5]"
      ]
     },
     "execution_count": 11,
     "metadata": {},
     "output_type": "execute_result"
    }
   ],
   "source": [
    "lst[1:5] #list slicing first index is normal but for last if we want to access till 4 we write 5 \n",
    "\n",
    "# 1: from 0th\n",
    "#5 : from 1st "
   ]
  },
  {
   "cell_type": "code",
   "execution_count": 13,
   "id": "0375ca5b-22b0-4bce-8286-60937be4b80a",
   "metadata": {},
   "outputs": [
    {
     "data": {
      "text/plain": [
       "[2, 67, 7.5, None]"
      ]
     },
     "execution_count": 13,
     "metadata": {},
     "output_type": "execute_result"
    }
   ],
   "source": [
    "lst[::2] #step slicing after 2 (one after one)"
   ]
  },
  {
   "cell_type": "markdown",
   "id": "d4b79d74-a0d4-4bad-9c61-26b9b989f7a2",
   "metadata": {},
   "source": [
    "### using loops traverse"
   ]
  },
  {
   "cell_type": "code",
   "execution_count": 15,
   "id": "a077e098-8454-4c77-8f0c-e4c1724945c9",
   "metadata": {},
   "outputs": [
    {
     "name": "stdout",
     "output_type": "stream",
     "text": [
      "2\n",
      "5\n",
      "67\n",
      "hey\n",
      "7.5\n",
      "True\n",
      "None\n"
     ]
    }
   ],
   "source": [
    "# 1. element access (we can access index)\n",
    "for i in range(len(lst)):\n",
    "    print(lst[i]) "
   ]
  },
  {
   "cell_type": "code",
   "execution_count": 16,
   "id": "ebcd58da-b198-4f24-b9f1-014fdc9879d1",
   "metadata": {},
   "outputs": [
    {
     "name": "stdout",
     "output_type": "stream",
     "text": [
      "0\n",
      "1\n",
      "2\n",
      "3\n",
      "4\n",
      "5\n",
      "6\n"
     ]
    }
   ],
   "source": [
    "# 2. Index access \n",
    "for i in range(len(lst)):\n",
    "    print(i) "
   ]
  },
  {
   "cell_type": "code",
   "execution_count": 17,
   "id": "7e7c8eea-207e-4acd-8ba1-fb44f1bf607b",
   "metadata": {},
   "outputs": [
    {
     "name": "stdout",
     "output_type": "stream",
     "text": [
      "2\n",
      "5\n",
      "67\n",
      "hey\n",
      "7.5\n",
      "True\n",
      "None\n"
     ]
    }
   ],
   "source": [
    "# 3. directly access on values (we can't acccess index)\n",
    "for i in lst:\n",
    "    print (i)"
   ]
  },
  {
   "cell_type": "code",
   "execution_count": 18,
   "id": "2f03205a-9e0a-41e6-8306-41f3bc5b5386",
   "metadata": {},
   "outputs": [
    {
     "data": {
      "text/plain": [
       "['__add__',\n",
       " '__class__',\n",
       " '__class_getitem__',\n",
       " '__contains__',\n",
       " '__delattr__',\n",
       " '__delitem__',\n",
       " '__dir__',\n",
       " '__doc__',\n",
       " '__eq__',\n",
       " '__format__',\n",
       " '__ge__',\n",
       " '__getattribute__',\n",
       " '__getitem__',\n",
       " '__getstate__',\n",
       " '__gt__',\n",
       " '__hash__',\n",
       " '__iadd__',\n",
       " '__imul__',\n",
       " '__init__',\n",
       " '__init_subclass__',\n",
       " '__iter__',\n",
       " '__le__',\n",
       " '__len__',\n",
       " '__lt__',\n",
       " '__mul__',\n",
       " '__ne__',\n",
       " '__new__',\n",
       " '__reduce__',\n",
       " '__reduce_ex__',\n",
       " '__repr__',\n",
       " '__reversed__',\n",
       " '__rmul__',\n",
       " '__setattr__',\n",
       " '__setitem__',\n",
       " '__sizeof__',\n",
       " '__str__',\n",
       " '__subclasshook__',\n",
       " 'append',\n",
       " 'clear',\n",
       " 'copy',\n",
       " 'count',\n",
       " 'extend',\n",
       " 'index',\n",
       " 'insert',\n",
       " 'pop',\n",
       " 'remove',\n",
       " 'reverse',\n",
       " 'sort']"
      ]
     },
     "execution_count": 18,
     "metadata": {},
     "output_type": "execute_result"
    }
   ],
   "source": [
    "dir(list) #functions also included"
   ]
  },
  {
   "cell_type": "code",
   "execution_count": 19,
   "id": "8de33291-83f9-4b5b-9b2c-2165022a851d",
   "metadata": {},
   "outputs": [
    {
     "name": "stdout",
     "output_type": "stream",
     "text": [
      "Help on class list in module builtins:\n",
      "\n",
      "class list(object)\n",
      " |  list(iterable=(), /)\n",
      " |\n",
      " |  Built-in mutable sequence.\n",
      " |\n",
      " |  If no argument is given, the constructor creates a new empty list.\n",
      " |  The argument must be an iterable if specified.\n",
      " |\n",
      " |  Methods defined here:\n",
      " |\n",
      " |  __add__(self, value, /)\n",
      " |      Return self+value.\n",
      " |\n",
      " |  __contains__(self, key, /)\n",
      " |      Return bool(key in self).\n",
      " |\n",
      " |  __delitem__(self, key, /)\n",
      " |      Delete self[key].\n",
      " |\n",
      " |  __eq__(self, value, /)\n",
      " |      Return self==value.\n",
      " |\n",
      " |  __ge__(self, value, /)\n",
      " |      Return self>=value.\n",
      " |\n",
      " |  __getattribute__(self, name, /)\n",
      " |      Return getattr(self, name).\n",
      " |\n",
      " |  __getitem__(self, index, /)\n",
      " |      Return self[index].\n",
      " |\n",
      " |  __gt__(self, value, /)\n",
      " |      Return self>value.\n",
      " |\n",
      " |  __iadd__(self, value, /)\n",
      " |      Implement self+=value.\n",
      " |\n",
      " |  __imul__(self, value, /)\n",
      " |      Implement self*=value.\n",
      " |\n",
      " |  __init__(self, /, *args, **kwargs)\n",
      " |      Initialize self.  See help(type(self)) for accurate signature.\n",
      " |\n",
      " |  __iter__(self, /)\n",
      " |      Implement iter(self).\n",
      " |\n",
      " |  __le__(self, value, /)\n",
      " |      Return self<=value.\n",
      " |\n",
      " |  __len__(self, /)\n",
      " |      Return len(self).\n",
      " |\n",
      " |  __lt__(self, value, /)\n",
      " |      Return self<value.\n",
      " |\n",
      " |  __mul__(self, value, /)\n",
      " |      Return self*value.\n",
      " |\n",
      " |  __ne__(self, value, /)\n",
      " |      Return self!=value.\n",
      " |\n",
      " |  __repr__(self, /)\n",
      " |      Return repr(self).\n",
      " |\n",
      " |  __reversed__(self, /)\n",
      " |      Return a reverse iterator over the list.\n",
      " |\n",
      " |  __rmul__(self, value, /)\n",
      " |      Return value*self.\n",
      " |\n",
      " |  __setitem__(self, key, value, /)\n",
      " |      Set self[key] to value.\n",
      " |\n",
      " |  __sizeof__(self, /)\n",
      " |      Return the size of the list in memory, in bytes.\n",
      " |\n",
      " |  append(self, object, /)\n",
      " |      Append object to the end of the list.\n",
      " |\n",
      " |  clear(self, /)\n",
      " |      Remove all items from list.\n",
      " |\n",
      " |  copy(self, /)\n",
      " |      Return a shallow copy of the list.\n",
      " |\n",
      " |  count(self, value, /)\n",
      " |      Return number of occurrences of value.\n",
      " |\n",
      " |  extend(self, iterable, /)\n",
      " |      Extend list by appending elements from the iterable.\n",
      " |\n",
      " |  index(self, value, start=0, stop=9223372036854775807, /)\n",
      " |      Return first index of value.\n",
      " |\n",
      " |      Raises ValueError if the value is not present.\n",
      " |\n",
      " |  insert(self, index, object, /)\n",
      " |      Insert object before index.\n",
      " |\n",
      " |  pop(self, index=-1, /)\n",
      " |      Remove and return item at index (default last).\n",
      " |\n",
      " |      Raises IndexError if list is empty or index is out of range.\n",
      " |\n",
      " |  remove(self, value, /)\n",
      " |      Remove first occurrence of value.\n",
      " |\n",
      " |      Raises ValueError if the value is not present.\n",
      " |\n",
      " |  reverse(self, /)\n",
      " |      Reverse *IN PLACE*.\n",
      " |\n",
      " |  sort(self, /, *, key=None, reverse=False)\n",
      " |      Sort the list in ascending order and return None.\n",
      " |\n",
      " |      The sort is in-place (i.e. the list itself is modified) and stable (i.e. the\n",
      " |      order of two equal elements is maintained).\n",
      " |\n",
      " |      If a key function is given, apply it once to each list item and sort them,\n",
      " |      ascending or descending, according to their function values.\n",
      " |\n",
      " |      The reverse flag can be set to sort in descending order.\n",
      " |\n",
      " |  ----------------------------------------------------------------------\n",
      " |  Class methods defined here:\n",
      " |\n",
      " |  __class_getitem__(object, /)\n",
      " |      See PEP 585\n",
      " |\n",
      " |  ----------------------------------------------------------------------\n",
      " |  Static methods defined here:\n",
      " |\n",
      " |  __new__(*args, **kwargs)\n",
      " |      Create and return a new object.  See help(type) for accurate signature.\n",
      " |\n",
      " |  ----------------------------------------------------------------------\n",
      " |  Data and other attributes defined here:\n",
      " |\n",
      " |  __hash__ = None\n",
      "\n"
     ]
    }
   ],
   "source": [
    "help(list) # use case gets print"
   ]
  },
  {
   "cell_type": "markdown",
   "id": "2054c527-0181-4494-b520-b48c5110ff64",
   "metadata": {},
   "source": [
    "<h2 data-start=\"860\" data-end=\"884\">4. Modifying Lists</h2>"
   ]
  },
  {
   "cell_type": "code",
   "execution_count": 29,
   "id": "3581bbd9-8507-4890-9477-10358437106c",
   "metadata": {},
   "outputs": [],
   "source": [
    "l=[5,2,9,\"hey\",5,6] "
   ]
  },
  {
   "cell_type": "code",
   "execution_count": 30,
   "id": "151e5ca6-843f-4448-8942-496dfc31ef84",
   "metadata": {},
   "outputs": [],
   "source": [
    "#1. at the last position appends,single item\n",
    "l.append(10) "
   ]
  },
  {
   "cell_type": "code",
   "execution_count": 32,
   "id": "6c377365-1d04-4e7d-bc04-027773c46c7f",
   "metadata": {},
   "outputs": [
    {
     "data": {
      "text/plain": [
       "[5, 2, 9, 'hey', 5, 6, 10]"
      ]
     },
     "execution_count": 32,
     "metadata": {},
     "output_type": "execute_result"
    }
   ],
   "source": [
    "l"
   ]
  },
  {
   "cell_type": "code",
   "execution_count": 33,
   "id": "64a885b4-6f9f-4f09-9946-db132fc25eba",
   "metadata": {},
   "outputs": [],
   "source": [
    "#2.extend([]) => multiple elements at the last\n",
    "l.extend([20,80])"
   ]
  },
  {
   "cell_type": "code",
   "execution_count": 34,
   "id": "d78201a4-0b47-49c0-be10-43d95b328093",
   "metadata": {},
   "outputs": [
    {
     "data": {
      "text/plain": [
       "[5, 2, 9, 'hey', 5, 6, 10, 20, 80]"
      ]
     },
     "execution_count": 34,
     "metadata": {},
     "output_type": "execute_result"
    }
   ],
   "source": [
    "l"
   ]
  },
  {
   "cell_type": "code",
   "execution_count": 35,
   "id": "34888f1d-ca3c-49d4-8b4f-b68b4fa4a35a",
   "metadata": {},
   "outputs": [
    {
     "data": {
      "text/plain": [
       "[45, 5, 2, 9, 'hey', 5, 6, 10, 20, 80]"
      ]
     },
     "execution_count": 35,
     "metadata": {},
     "output_type": "execute_result"
    }
   ],
   "source": [
    "#3.insert => insert at the index (index,element)\n",
    "l.insert(0,45)\n",
    "l"
   ]
  },
  {
   "cell_type": "code",
   "execution_count": 42,
   "id": "ac65b199-4a6a-4406-8ad9-0c70e40eb5b2",
   "metadata": {},
   "outputs": [],
   "source": [
    "l1=[1,2,2,3,4,5,6]"
   ]
  },
  {
   "cell_type": "code",
   "execution_count": 43,
   "id": "2df556cd-5954-45ba-9c2d-24051bc1bf37",
   "metadata": {},
   "outputs": [],
   "source": [
    "#4.remove => 1st occurance get removed\n",
    "l1.remove(2) #=> first occurrence of 2 got removed\n",
    "#[1,2,3,4,5,6]"
   ]
  },
  {
   "cell_type": "code",
   "execution_count": 45,
   "id": "affabd22-c16c-4f04-a39f-06a70e9c0e5d",
   "metadata": {},
   "outputs": [
    {
     "data": {
      "text/plain": [
       "[1, 2, 3, 4, 5]"
      ]
     },
     "execution_count": 45,
     "metadata": {},
     "output_type": "execute_result"
    }
   ],
   "source": [
    "#5.pop() => removes last element \n",
    "l1.pop()\n",
    "l1"
   ]
  },
  {
   "cell_type": "code",
   "execution_count": 46,
   "id": "16d16a03-393c-419c-a365-113851e61e60",
   "metadata": {},
   "outputs": [
    {
     "data": {
      "text/plain": [
       "[1, 3, 4, 5]"
      ]
     },
     "execution_count": 46,
     "metadata": {},
     "output_type": "execute_result"
    }
   ],
   "source": [
    "#6.pop(1) #removes element at index 1\n",
    "l1.pop(1) #2 got removed\n",
    "l1"
   ]
  },
  {
   "cell_type": "code",
   "execution_count": 47,
   "id": "adaef228-c86e-435c-8a6c-afd4579daa18",
   "metadata": {},
   "outputs": [
    {
     "data": {
      "text/plain": [
       "[1, 4, 5]"
      ]
     },
     "execution_count": 47,
     "metadata": {},
     "output_type": "execute_result"
    }
   ],
   "source": [
    "#7.del list[0] => index at 0th element got removed\n",
    "del l1[1]\n",
    "l1\n"
   ]
  },
  {
   "cell_type": "code",
   "execution_count": 48,
   "id": "3ae6fbf1-65ff-4be7-9b0b-eabbb8b5e579",
   "metadata": {},
   "outputs": [
    {
     "data": {
      "text/plain": [
       "[35, 4, 5]"
      ]
     },
     "execution_count": 48,
     "metadata": {},
     "output_type": "execute_result"
    }
   ],
   "source": [
    "#8.updation= \"change\" element at the specific position => l[0]=x\n",
    "l1[0]=35\n",
    "l1"
   ]
  },
  {
   "cell_type": "markdown",
   "id": "bb5b2fc3-8ee1-46a4-829a-c2e8885a4e40",
   "metadata": {},
   "source": [
    " <h2 data-start=\"860\" data-end=\"884\">5. Searching & Counting</h2>"
   ]
  },
  {
   "cell_type": "code",
   "execution_count": 49,
   "id": "fe65e925-4f6a-4cce-a02d-e87be756a8ad",
   "metadata": {},
   "outputs": [
    {
     "data": {
      "text/plain": [
       "1"
      ]
     },
     "execution_count": 49,
     "metadata": {},
     "output_type": "execute_result"
    }
   ],
   "source": [
    "l2=[10,20,30,20,40]\n",
    "l2.index(20) # returns first index ->1"
   ]
  },
  {
   "cell_type": "code",
   "execution_count": 50,
   "id": "a22ee5e4-cd58-420c-a81a-cfb9244c0c07",
   "metadata": {},
   "outputs": [
    {
     "data": {
      "text/plain": [
       "2"
      ]
     },
     "execution_count": 50,
     "metadata": {},
     "output_type": "execute_result"
    }
   ],
   "source": [
    "l2.count(20) #counts occurrence of 20-> 2"
   ]
  },
  {
   "cell_type": "markdown",
   "id": "a9e949fc-2b39-4462-bf98-a7095408d7d1",
   "metadata": {},
   "source": [
    "<h2 data-start=\"860\" data-end=\"884\">6. Sorting & Reversing</h2>"
   ]
  },
  {
   "cell_type": "code",
   "execution_count": 51,
   "id": "0573580e-5fef-4f34-870c-baa1fa7db5a3",
   "metadata": {},
   "outputs": [
    {
     "data": {
      "text/plain": [
       "[10, 20, 20, 30, 40]"
      ]
     },
     "execution_count": 51,
     "metadata": {},
     "output_type": "execute_result"
    }
   ],
   "source": [
    "l2.sort() #ascending\n",
    "l2"
   ]
  },
  {
   "cell_type": "code",
   "execution_count": 52,
   "id": "3922ef63-1c4e-440c-95d8-63fa76e35337",
   "metadata": {},
   "outputs": [
    {
     "data": {
      "text/plain": [
       "[40, 30, 20, 20, 10]"
      ]
     },
     "execution_count": 52,
     "metadata": {},
     "output_type": "execute_result"
    }
   ],
   "source": [
    "l2.sort(reverse =True) #descending\n",
    "l2"
   ]
  },
  {
   "cell_type": "code",
   "execution_count": 53,
   "id": "1ab8c29c-0de3-44d1-a8e0-30a7dae90b1f",
   "metadata": {},
   "outputs": [
    {
     "data": {
      "text/plain": [
       "[10, 20, 20, 30, 40]"
      ]
     },
     "execution_count": 53,
     "metadata": {},
     "output_type": "execute_result"
    }
   ],
   "source": [
    "sorted (l2) #returns new sorted list"
   ]
  },
  {
   "cell_type": "code",
   "execution_count": 54,
   "id": "898f8772-9e5b-42b3-aa66-ec94b17a189c",
   "metadata": {},
   "outputs": [],
   "source": [
    "l2.reverse () #reverse in-place"
   ]
  },
  {
   "cell_type": "code",
   "execution_count": 55,
   "id": "3ae8b22d-4f03-4350-aac9-7da92e4a7c99",
   "metadata": {},
   "outputs": [
    {
     "data": {
      "text/plain": [
       "[10, 20, 20, 30, 40]"
      ]
     },
     "execution_count": 55,
     "metadata": {},
     "output_type": "execute_result"
    }
   ],
   "source": [
    "l2"
   ]
  },
  {
   "cell_type": "markdown",
   "id": "82c2d619-8f19-47aa-abe4-cfe86dc2f7d3",
   "metadata": {},
   "source": [
    "<h2 data-start=\"860\" data-end=\"884\">7. Useful Built-in Functions</h2>"
   ]
  },
  {
   "cell_type": "code",
   "execution_count": 57,
   "id": "3dab3d8c-cfb4-492b-ac0e-9df73e0ec998",
   "metadata": {},
   "outputs": [
    {
     "data": {
      "text/plain": [
       "5"
      ]
     },
     "execution_count": 57,
     "metadata": {},
     "output_type": "execute_result"
    }
   ],
   "source": [
    "#1.number of elements in the list\n",
    "len(l2) "
   ]
  },
  {
   "cell_type": "code",
   "execution_count": 58,
   "id": "6d75abe4-0d2b-4914-b436-ee5e02fa56b0",
   "metadata": {},
   "outputs": [
    {
     "data": {
      "text/plain": [
       "40"
      ]
     },
     "execution_count": 58,
     "metadata": {},
     "output_type": "execute_result"
    }
   ],
   "source": [
    "#2.largest element\n",
    "max(l2)"
   ]
  },
  {
   "cell_type": "code",
   "execution_count": 59,
   "id": "0aa1e9bf-1f81-4151-be01-66581b096a3c",
   "metadata": {},
   "outputs": [
    {
     "data": {
      "text/plain": [
       "10"
      ]
     },
     "execution_count": 59,
     "metadata": {},
     "output_type": "execute_result"
    }
   ],
   "source": [
    "#3.smallest\n",
    "min(l2)"
   ]
  },
  {
   "cell_type": "code",
   "execution_count": 60,
   "id": "6cd2643a-2a8b-4381-a53f-319945fb1bff",
   "metadata": {},
   "outputs": [
    {
     "data": {
      "text/plain": [
       "120"
      ]
     },
     "execution_count": 60,
     "metadata": {},
     "output_type": "execute_result"
    }
   ],
   "source": [
    "#4.sum of elements\n",
    "sum(l2)\n"
   ]
  },
  {
   "cell_type": "code",
   "execution_count": 61,
   "id": "530dbed4-352f-4bf2-af06-ef52c14600c5",
   "metadata": {},
   "outputs": [
    {
     "data": {
      "text/plain": [
       "True"
      ]
     },
     "execution_count": 61,
     "metadata": {},
     "output_type": "execute_result"
    }
   ],
   "source": [
    "#5.any(list) => true if any element is truthy\n",
    "any(l2)"
   ]
  },
  {
   "cell_type": "code",
   "execution_count": 62,
   "id": "2316f426-bdc6-481d-99fb-e0f92b248434",
   "metadata": {},
   "outputs": [
    {
     "data": {
      "text/plain": [
       "True"
      ]
     },
     "execution_count": 62,
     "metadata": {},
     "output_type": "execute_result"
    }
   ],
   "source": [
    "#6. all(list) => true if all elements are truthy\n",
    "all(l2)"
   ]
  },
  {
   "cell_type": "markdown",
   "id": "b9924fa3-b692-4370-8664-9d11f78288d7",
   "metadata": {},
   "source": [
    "<h2 data-start=\"860\" data-end=\"884\">8.Copying List</h2>"
   ]
  },
  {
   "cell_type": "code",
   "execution_count": 63,
   "id": "0dfb69bf-54a5-4109-8ad6-181ea7c70e8f",
   "metadata": {},
   "outputs": [],
   "source": [
    "#1. same reference (shallow copy)\n",
    "a=[1,2,3]\n",
    "b=a\n",
    "b[0]=100  # changes a too"
   ]
  },
  {
   "cell_type": "code",
   "execution_count": 64,
   "id": "41c9be9e-8dbb-43d9-9677-0f4a357daecc",
   "metadata": {},
   "outputs": [
    {
     "data": {
      "text/plain": [
       "[100, 2, 3]"
      ]
     },
     "execution_count": 64,
     "metadata": {},
     "output_type": "execute_result"
    }
   ],
   "source": [
    "a "
   ]
  },
  {
   "cell_type": "code",
   "execution_count": 65,
   "id": "a55060df-25c9-44c0-8f43-b6a6fdb894fb",
   "metadata": {},
   "outputs": [],
   "source": [
    "#2.proper copy\n",
    "c=a.copy() #proper copy => doesn't chanegs a if any changes in c"
   ]
  },
  {
   "cell_type": "code",
   "execution_count": 66,
   "id": "02623636-cea8-4e9e-87e4-7e687f8a4fb3",
   "metadata": {},
   "outputs": [
    {
     "data": {
      "text/plain": [
       "[100, 2, 3]"
      ]
     },
     "execution_count": 66,
     "metadata": {},
     "output_type": "execute_result"
    }
   ],
   "source": [
    "c"
   ]
  },
  {
   "cell_type": "code",
   "execution_count": 67,
   "id": "dc08bd53-036f-4dc3-989e-88625dab6115",
   "metadata": {},
   "outputs": [
    {
     "data": {
      "text/plain": [
       "[200, 2, 3]"
      ]
     },
     "execution_count": 67,
     "metadata": {},
     "output_type": "execute_result"
    }
   ],
   "source": [
    "c[0]=200\n",
    "c"
   ]
  },
  {
   "cell_type": "code",
   "execution_count": 68,
   "id": "3261a135-2b9f-4f66-a3bd-0c3617aef972",
   "metadata": {},
   "outputs": [
    {
     "data": {
      "text/plain": [
       "[100, 2, 3]"
      ]
     },
     "execution_count": 68,
     "metadata": {},
     "output_type": "execute_result"
    }
   ],
   "source": [
    "a"
   ]
  },
  {
   "cell_type": "code",
   "execution_count": 69,
   "id": "73f53b38-1c57-4c84-8b82-2c63456deaf6",
   "metadata": {},
   "outputs": [
    {
     "data": {
      "text/plain": [
       "[100, 2, 3]"
      ]
     },
     "execution_count": 69,
     "metadata": {},
     "output_type": "execute_result"
    }
   ],
   "source": [
    "#3. another way => doesn't changes a\n",
    "d=list(a)\n",
    "d"
   ]
  },
  {
   "cell_type": "code",
   "execution_count": 70,
   "id": "0381e149-d4db-47ba-9d90-51fb05f961bc",
   "metadata": {},
   "outputs": [
    {
     "data": {
      "text/plain": [
       "[100, 2, 3]"
      ]
     },
     "execution_count": 70,
     "metadata": {},
     "output_type": "execute_result"
    }
   ],
   "source": [
    "d[0]=300\n",
    "a"
   ]
  },
  {
   "cell_type": "code",
   "execution_count": 71,
   "id": "261ae6e2-5c18-4dde-b26c-dd9285734d5f",
   "metadata": {},
   "outputs": [],
   "source": [
    "#4.slicing copy\n",
    "e=a[:]"
   ]
  },
  {
   "cell_type": "code",
   "execution_count": 72,
   "id": "07d585aa-6d23-4860-988b-b55b2de0f778",
   "metadata": {},
   "outputs": [
    {
     "data": {
      "text/plain": [
       "[100, 2, 3]"
      ]
     },
     "execution_count": 72,
     "metadata": {},
     "output_type": "execute_result"
    }
   ],
   "source": [
    "e"
   ]
  },
  {
   "cell_type": "code",
   "execution_count": 73,
   "id": "5553644d-7db1-4184-9b11-f52eb7a6dbdc",
   "metadata": {},
   "outputs": [
    {
     "data": {
      "text/plain": [
       "[100, 2, 3]"
      ]
     },
     "execution_count": 73,
     "metadata": {},
     "output_type": "execute_result"
    }
   ],
   "source": [
    "a"
   ]
  },
  {
   "cell_type": "markdown",
   "id": "0e47e735-c429-4124-8452-892cceb57841",
   "metadata": {},
   "source": [
    "<h2 data-start=\"860\" data-end=\"884\">9. Nested list</h2>"
   ]
  },
  {
   "cell_type": "code",
   "execution_count": 74,
   "id": "3a092f59-9a03-4d9a-8206-ed5a1795a7a6",
   "metadata": {},
   "outputs": [
    {
     "data": {
      "text/plain": [
       "2"
      ]
     },
     "execution_count": 74,
     "metadata": {},
     "output_type": "execute_result"
    }
   ],
   "source": [
    "matrix = [[1,2,3],[4,5,6],[7,8,9]]\n",
    "matrix[0][1]   # 0th indexed list's 1st indexed element "
   ]
  },
  {
   "cell_type": "markdown",
   "id": "65c0186b-b1bd-41ca-a2f1-2b956b65e169",
   "metadata": {},
   "source": [
    "<h2 data-start=\"860\" data-end=\"884\">9.List copmrehension</h2>"
   ]
  },
  {
   "cell_type": "code",
   "execution_count": 75,
   "id": "b3eb8a72-74ac-4f51-8881-f435db03e795",
   "metadata": {},
   "outputs": [],
   "source": [
    "squ=[x** 2 for x in range (5)]"
   ]
  },
  {
   "cell_type": "code",
   "execution_count": 76,
   "id": "e0b9e483-0dd3-4928-adc8-2e6ac6f89545",
   "metadata": {},
   "outputs": [
    {
     "data": {
      "text/plain": [
       "[0, 1, 4, 9, 16]"
      ]
     },
     "execution_count": 76,
     "metadata": {},
     "output_type": "execute_result"
    }
   ],
   "source": [
    "squ"
   ]
  },
  {
   "cell_type": "code",
   "execution_count": 77,
   "id": "8f25bc06-b4ed-4375-852f-fc7112d3bf7b",
   "metadata": {},
   "outputs": [
    {
     "data": {
      "text/plain": [
       "[0, 2, 4, 6, 8]"
      ]
     },
     "execution_count": 77,
     "metadata": {},
     "output_type": "execute_result"
    }
   ],
   "source": [
    "evens=[x for x in range(10) if x%2==0]\n",
    "evens"
   ]
  },
  {
   "cell_type": "code",
   "execution_count": 78,
   "id": "6aa1273a-450a-4104-868c-50691be47765",
   "metadata": {},
   "outputs": [
    {
     "data": {
      "text/plain": [
       "[(1, 3), (1, 4), (2, 3), (2, 4)]"
      ]
     },
     "execution_count": 78,
     "metadata": {},
     "output_type": "execute_result"
    }
   ],
   "source": [
    "pairs=[(x,y) for x in [1,2] for y in [3,4]]\n",
    "pairs"
   ]
  },
  {
   "cell_type": "markdown",
   "id": "b8252f7a-5dc9-4c43-879b-eb83707cdad4",
   "metadata": {},
   "source": [
    "<h2 data-start=\"860\" data-end=\"884\">11. Membership Operator</h2>"
   ]
  },
  {
   "cell_type": "code",
   "execution_count": 79,
   "id": "de4fd3fc-7394-4c21-a55f-8199da6cfe5b",
   "metadata": {},
   "outputs": [
    {
     "data": {
      "text/plain": [
       "False"
      ]
     },
     "execution_count": 79,
     "metadata": {},
     "output_type": "execute_result"
    }
   ],
   "source": [
    "5 in [l2]"
   ]
  },
  {
   "cell_type": "code",
   "execution_count": 80,
   "id": "a7112371-1a13-4c17-8a71-d6ca8fd1248b",
   "metadata": {},
   "outputs": [
    {
     "data": {
      "text/plain": [
       "True"
      ]
     },
     "execution_count": 80,
     "metadata": {},
     "output_type": "execute_result"
    }
   ],
   "source": [
    "5 in [1,2,3,4,5,6]"
   ]
  },
  {
   "cell_type": "code",
   "execution_count": 81,
   "id": "21d2b855-1213-4d74-a533-77d3a900f4a8",
   "metadata": {},
   "outputs": [
    {
     "data": {
      "text/plain": [
       "True"
      ]
     },
     "execution_count": 81,
     "metadata": {},
     "output_type": "execute_result"
    }
   ],
   "source": [
    "10 not in [l2]"
   ]
  },
  {
   "cell_type": "markdown",
   "id": "61889a6f-084b-4623-a2c2-e23ac906ba8a",
   "metadata": {},
   "source": [
    "<h2 data-start=\"860\" data-end=\"884\">12. Iterating List list</h2>"
   ]
  },
  {
   "cell_type": "code",
   "execution_count": 82,
   "id": "0353b7fa-19a9-40ec-b4d0-ccac3098ec01",
   "metadata": {},
   "outputs": [
    {
     "name": "stdout",
     "output_type": "stream",
     "text": [
      "100\n",
      "5\n",
      "67\n",
      "hey\n",
      "7.5\n",
      "True\n",
      "None\n",
      "60\n",
      "60\n",
      "70\n",
      "80\n",
      "70\n",
      "80\n",
      "60\n"
     ]
    }
   ],
   "source": [
    "for item in lst:print(item)"
   ]
  },
  {
   "cell_type": "markdown",
   "id": "337f0836-9592-4a4f-8b6d-499c54c62eb8",
   "metadata": {},
   "source": [
    "##### note:\n",
    "```python\n",
    "for i in list:\n",
    "    print(i) #directly access over values not index "
   ]
  },
  {
   "cell_type": "code",
   "execution_count": 83,
   "id": "b6a719e9-2714-443b-b551-656fe70b6949",
   "metadata": {},
   "outputs": [
    {
     "name": "stdout",
     "output_type": "stream",
     "text": [
      "0 100\n",
      "1 5\n",
      "2 67\n",
      "3 hey\n",
      "4 7.5\n",
      "5 True\n",
      "6 None\n",
      "7 60\n",
      "8 60\n",
      "9 70\n",
      "10 80\n",
      "11 70\n",
      "12 80\n",
      "13 60\n"
     ]
    }
   ],
   "source": [
    "for i, val in enumerate (lst):print(i,val) #index+value"
   ]
  },
  {
   "cell_type": "code",
   "execution_count": 87,
   "id": "d1e9c866-0cbc-4b08-ab71-04ba79fba2a6",
   "metadata": {},
   "outputs": [
    {
     "name": "stdout",
     "output_type": "stream",
     "text": [
      "positive elements are:\n",
      "45\n",
      "67\n",
      "55\n",
      "0\n",
      "negative elements are:\n",
      "-45\n"
     ]
    }
   ],
   "source": [
    "#que: print positive and negative elements of the list\n",
    "l=[-45,45,67,89-34,0]\n",
    "print(\"positive elements are:\")\n",
    "for i in l:\n",
    "    if i>=0:\n",
    "        print(i)\n",
    "        \n",
    "print(\"negative elements are:\")\n",
    "for i in l:\n",
    "    if i<0:\n",
    "        print(i) \n",
    " # can'r use else coz eill be together       "
   ]
  },
  {
   "cell_type": "code",
   "execution_count": 88,
   "id": "707383dc-aff4-4612-9916-b4d392bea85e",
   "metadata": {},
   "outputs": [
    {
     "name": "stdout",
     "output_type": "stream",
     "text": [
      "72.75\n"
     ]
    }
   ],
   "source": [
    "#que2:mean of list elements\n",
    "l=[90,89,45,67]\n",
    "sum=0\n",
    "for i in l:\n",
    "    sum=sum+i\n",
    "print(sum/len(l))"
   ]
  },
  {
   "cell_type": "code",
   "execution_count": 92,
   "id": "342243b3-c057-4991-adf2-f53cd174a24e",
   "metadata": {},
   "outputs": [
    {
     "name": "stdout",
     "output_type": "stream",
     "text": [
      "largest element is 90  at index 6\n"
     ]
    }
   ],
   "source": [
    "#que3: find greatest element and peint index too\n",
    "l=[23,24,26,49,45,68,90]\n",
    "largest=0\n",
    "for i in range(len(l)):\n",
    "    if l[i]>largest:\n",
    "        largest =l[i]\n",
    "        index=i\n",
    "        \n",
    "print(f\"largest element is {largest}  at index {i}\")\n",
    "    "
   ]
  },
  {
   "cell_type": "code",
   "execution_count": 93,
   "id": "49920987-a4b2-494e-ab62-e7bd088af5ee",
   "metadata": {},
   "outputs": [
    {
     "name": "stdout",
     "output_type": "stream",
     "text": [
      "68 90\n"
     ]
    }
   ],
   "source": [
    "#que4:print second alrgest\n",
    "largest=l[0]\n",
    "sec_larg=l[0]\n",
    "for i in l:\n",
    "    if i > largest:\n",
    "        sec_larg=largest\n",
    "        largest =i\n",
    "    elif i> sec_larg:\n",
    "        sec_larg=i\n",
    "\n",
    "print(sec_larg , largest)        "
   ]
  },
  {
   "cell_type": "code",
   "execution_count": 95,
   "id": "98b15211-1f8d-41ee-b1fc-b1d4fc258349",
   "metadata": {},
   "outputs": [
    {
     "name": "stdout",
     "output_type": "stream",
     "text": [
      "list isn't sorted\n"
     ]
    }
   ],
   "source": [
    "# que5: check if list if sorted or not\n",
    "for i in range (len(a)-1): #if we don't use a-1 then \"index out of bound\" becuase index is 4 we're seeing 5\n",
    "    if a[i] < a[i+1]:\n",
    "        continue \n",
    "    else:\n",
    "        print(\"list isn't sorted\")"
   ]
  },
  {
   "cell_type": "markdown",
   "id": "a7edcc3c-e52b-49ea-a0ad-910484ecbc4f",
   "metadata": {},
   "source": [
    "# 📌 Python Tuples"
   ]
  },
  {
   "cell_type": "markdown",
   "id": "4dd84c8f-eb3a-4f27-b7d2-dc7d8a8e3d3f",
   "metadata": {},
   "source": [
    "\n",
    "\n",
    "## 1. Introduction\n",
    "- Tuple = ordered, immutable collection.\n",
    "- Faster than lists (since immutable).\n",
    "- Used when data should not change (coordinates, database records).\n",
    "\n",
    "```python\n",
    "t = (1, 2, 3)\n",
    "t2 = (1,)        # single element tuple (comma required)\n",
    "t3 = tuple([4,5,6])\n"
   ]
  },
  {
   "cell_type": "markdown",
   "id": "da3fea24-e7e3-4818-8e5a-3f4baff04ccb",
   "metadata": {},
   "source": [
    "<h2 data-start=\"637\" data-end=\"652\">2. Accessing</h2>"
   ]
  },
  {
   "cell_type": "code",
   "execution_count": 97,
   "id": "9598914a-7569-4223-a05d-3f9031cb8e36",
   "metadata": {},
   "outputs": [
    {
     "data": {
      "text/plain": [
       "10"
      ]
     },
     "execution_count": 97,
     "metadata": {},
     "output_type": "execute_result"
    }
   ],
   "source": [
    "t=(10,20,30,40)\n",
    "t[0]\n"
   ]
  },
  {
   "cell_type": "code",
   "execution_count": 98,
   "id": "50fdf5f7-1f90-45e1-8ea9-5a8eb74be13f",
   "metadata": {},
   "outputs": [
    {
     "data": {
      "text/plain": [
       "40"
      ]
     },
     "execution_count": 98,
     "metadata": {},
     "output_type": "execute_result"
    }
   ],
   "source": [
    "t[-1]"
   ]
  },
  {
   "cell_type": "code",
   "execution_count": 99,
   "id": "f807050d-7a34-4270-b622-6bb153e5aff8",
   "metadata": {},
   "outputs": [
    {
     "data": {
      "text/plain": [
       "(20, 30)"
      ]
     },
     "execution_count": 99,
     "metadata": {},
     "output_type": "execute_result"
    }
   ],
   "source": [
    "t[1:3]"
   ]
  },
  {
   "cell_type": "markdown",
   "id": "60933704-ae29-4b50-a036-bb4192f00cb8",
   "metadata": {},
   "source": [
    "<h2 data-start=\"637\" data-end=\"652\">3. Operations</h2>"
   ]
  },
  {
   "cell_type": "code",
   "execution_count": 101,
   "id": "5562e9c4-5713-4984-92fc-21d404af265f",
   "metadata": {},
   "outputs": [
    {
     "data": {
      "text/plain": [
       "(10, 20, 30, 40, 50, 60)"
      ]
     },
     "execution_count": 101,
     "metadata": {},
     "output_type": "execute_result"
    }
   ],
   "source": [
    "#1. concatination\n",
    "result=t+(50,60)\n",
    "result"
   ]
  },
  {
   "cell_type": "code",
   "execution_count": 102,
   "id": "640162ae-1b20-416c-a181-593e4a613075",
   "metadata": {},
   "outputs": [
    {
     "data": {
      "text/plain": [
       "(10, 20, 30, 40)"
      ]
     },
     "execution_count": 102,
     "metadata": {},
     "output_type": "execute_result"
    }
   ],
   "source": [
    "t"
   ]
  },
  {
   "cell_type": "code",
   "execution_count": 103,
   "id": "00d897bb-c12b-4700-95d6-09a66c54f99d",
   "metadata": {},
   "outputs": [
    {
     "data": {
      "text/plain": [
       "(10, 20, 30, 40, 50)"
      ]
     },
     "execution_count": 103,
     "metadata": {},
     "output_type": "execute_result"
    }
   ],
   "source": [
    "t + (50,)"
   ]
  },
  {
   "cell_type": "code",
   "execution_count": 107,
   "id": "801c7a83-c985-4ac5-be1a-f40b33a83f0b",
   "metadata": {},
   "outputs": [
    {
     "data": {
      "text/plain": [
       "(10, 20, 30, 40, 10, 20, 30, 40)"
      ]
     },
     "execution_count": 107,
     "metadata": {},
     "output_type": "execute_result"
    }
   ],
   "source": [
    "#2. repetition\n",
    "t * 2"
   ]
  },
  {
   "cell_type": "code",
   "execution_count": 108,
   "id": "bf24ee0a-847d-46ef-a297-69818c68e2e5",
   "metadata": {},
   "outputs": [
    {
     "data": {
      "text/plain": [
       "4"
      ]
     },
     "execution_count": 108,
     "metadata": {},
     "output_type": "execute_result"
    }
   ],
   "source": [
    "#3. length => len(t)\n",
    "len(t)"
   ]
  },
  {
   "cell_type": "markdown",
   "id": "0068704e-b7e9-4462-813a-0b0b6fac3121",
   "metadata": {},
   "source": [
    "<h2 data-start=\"637\" data-end=\"652\">4. Packing , Unpacking</h2>"
   ]
  },
  {
   "cell_type": "code",
   "execution_count": 109,
   "id": "4fd0bb7f-603d-4b0a-99d1-eaa0c6cf3f5d",
   "metadata": {},
   "outputs": [],
   "source": [
    "a=(1,2,3)\n",
    "x,y,z=a"
   ]
  },
  {
   "cell_type": "code",
   "execution_count": 110,
   "id": "2340ccc7-ec35-4b9a-874d-44a62176ae5f",
   "metadata": {},
   "outputs": [
    {
     "data": {
      "text/plain": [
       "1"
      ]
     },
     "execution_count": 110,
     "metadata": {},
     "output_type": "execute_result"
    }
   ],
   "source": [
    "x"
   ]
  },
  {
   "cell_type": "code",
   "execution_count": 111,
   "id": "2f0f0b81-d27e-4426-8bee-1f45da0453a3",
   "metadata": {},
   "outputs": [
    {
     "data": {
      "text/plain": [
       "2"
      ]
     },
     "execution_count": 111,
     "metadata": {},
     "output_type": "execute_result"
    }
   ],
   "source": [
    "y"
   ]
  },
  {
   "cell_type": "code",
   "execution_count": 112,
   "id": "3f561bb8-efba-428c-969b-d9cffeadc6d4",
   "metadata": {},
   "outputs": [
    {
     "data": {
      "text/plain": [
       "3"
      ]
     },
     "execution_count": 112,
     "metadata": {},
     "output_type": "execute_result"
    }
   ],
   "source": [
    "z"
   ]
  },
  {
   "cell_type": "code",
   "execution_count": null,
   "id": "510aded1-f9d7-4611-a107-f38e6521a08e",
   "metadata": {},
   "outputs": [],
   "source": []
  },
  {
   "cell_type": "markdown",
   "id": "423070b5-65b9-4c7d-9f91-ad7bbbc0c082",
   "metadata": {},
   "source": [
    "<h2 data-start=\"637\" data-end=\"652\">4. Traversing</h2>"
   ]
  },
  {
   "cell_type": "code",
   "execution_count": null,
   "id": "e4c17361-eb61-43f9-a51c-fae17f6f9960",
   "metadata": {},
   "outputs": [],
   "source": [
    "#traversed like a list\n",
    "# like a string"
   ]
  },
  {
   "cell_type": "code",
   "execution_count": 115,
   "id": "a20c6317-a1be-482d-87fc-fdd1213f02d2",
   "metadata": {},
   "outputs": [
    {
     "name": "stdout",
     "output_type": "stream",
     "text": [
      "10\n",
      "20\n",
      "30\n",
      "40\n"
     ]
    }
   ],
   "source": [
    "for i in range(len(t)):\n",
    "    print (t[i])"
   ]
  },
  {
   "cell_type": "code",
   "execution_count": 129,
   "id": "9eda2948-cedc-4ea8-b651-d92bfcfefec9",
   "metadata": {},
   "outputs": [
    {
     "name": "stdout",
     "output_type": "stream",
     "text": [
      "10\n",
      "20\n",
      "30\n",
      "40\n"
     ]
    }
   ],
   "source": [
    "for i in t:\n",
    "    print(i)"
   ]
  },
  {
   "cell_type": "code",
   "execution_count": 116,
   "id": "d5443cd8-1a72-4e61-b00a-0fa35c071a43",
   "metadata": {},
   "outputs": [
    {
     "name": "stdout",
     "output_type": "stream",
     "text": [
      "10\n",
      "20\n",
      "30\n",
      "40\n"
     ]
    }
   ],
   "source": [
    "for i in t:\n",
    "    print(i)\n",
    "#but o/p treated as an index"
   ]
  },
  {
   "cell_type": "code",
   "execution_count": 118,
   "id": "1396e5ce-0696-410d-a1a5-78c032f1f0a7",
   "metadata": {},
   "outputs": [
    {
     "name": "stdout",
     "output_type": "stream",
     "text": [
      "0 10\n",
      "1 20\n",
      "2 30\n",
      "3 40\n"
     ]
    }
   ],
   "source": [
    "for index, val in enumerate (t):\n",
    "    print(index,val)"
   ]
  },
  {
   "cell_type": "markdown",
   "id": "ee2362a1-d260-4c0f-a4d5-4dc137de8092",
   "metadata": {},
   "source": [
    "# 📌 Sets in Python"
   ]
  },
  {
   "cell_type": "markdown",
   "id": "135e3ebd-3919-4763-800e-9114773bc4d1",
   "metadata": {},
   "source": [
    "## 1. Introduction\n",
    "- unordered => can't access through index vaalues\n",
    "- unique\n",
    "- mutable , but elements must be immutable\n",
    "- great for removing duplicates\n",
    "- semi-heterogenous -> can store some data types like string , numbers,tuples but not everything\n",
    "\n",
    "```python\n",
    "s={1,2,3,4}\n",
    "s2=set([1,2,3,4]) # {1,2,3,4}"
   ]
  },
  {
   "cell_type": "markdown",
   "id": "e91d46ec-ed23-4d39-8ae4-ba1389fee96f",
   "metadata": {},
   "source": [
    "<h2 data-start=\"1376\" data-end=\"1399\">2. Adding &amp; Removing</h2>"
   ]
  },
  {
   "cell_type": "code",
   "execution_count": 120,
   "id": "2ce2f7ad-5738-4cbf-844a-3bc1e2b6fa38",
   "metadata": {},
   "outputs": [],
   "source": [
    "s={1,2,3,4,5,6,7}"
   ]
  },
  {
   "cell_type": "code",
   "execution_count": 121,
   "id": "c6b57ee3-6f44-42b9-ae98-795ee712e7a3",
   "metadata": {},
   "outputs": [],
   "source": [
    "#1. add\n",
    "s.add(5)"
   ]
  },
  {
   "cell_type": "code",
   "execution_count": 122,
   "id": "8d0dc218-d3ae-4664-a496-3fbf96b9c2d5",
   "metadata": {},
   "outputs": [
    {
     "data": {
      "text/plain": [
       "{1, 2, 3, 4, 5, 6, 7}"
      ]
     },
     "execution_count": 122,
     "metadata": {},
     "output_type": "execute_result"
    }
   ],
   "source": [
    "s"
   ]
  },
  {
   "cell_type": "code",
   "execution_count": 123,
   "id": "8ec4aca8-ad8f-45d5-a7b4-d5571f9e8ba0",
   "metadata": {},
   "outputs": [
    {
     "data": {
      "text/plain": [
       "{1, 2, 3, 4, 5, 6, 7, 8, 9}"
      ]
     },
     "metadata": {},
     "output_type": "display_data"
    }
   ],
   "source": [
    "#2. update\n",
    "s.update([8,9])\n",
    "display (s)"
   ]
  },
  {
   "cell_type": "code",
   "execution_count": 124,
   "id": "44060bd3-4f96-4ed2-ad31-aa39f0ba2075",
   "metadata": {},
   "outputs": [
    {
     "data": {
      "text/plain": [
       "{1, 2, 4, 5, 6, 7, 8, 9}"
      ]
     },
     "metadata": {},
     "output_type": "display_data"
    }
   ],
   "source": [
    "#3. remove => error if not presenr\n",
    "s.remove(3)\n",
    "display (s)"
   ]
  },
  {
   "cell_type": "code",
   "execution_count": 127,
   "id": "37dcbc54-4b5d-49e5-80e6-70a1d33743fe",
   "metadata": {},
   "outputs": [
    {
     "data": {
      "text/plain": [
       "{1, 2, 4, 5, 6, 7, 8, 9}"
      ]
     },
     "metadata": {},
     "output_type": "display_data"
    }
   ],
   "source": [
    "#4.discard => safe remove, no error\n",
    "s.discard(10)\n",
    "display(s) #10 isn't present , still no error"
   ]
  },
  {
   "cell_type": "code",
   "execution_count": 128,
   "id": "a2fb11d6-740c-435d-9237-dd45d4ade63b",
   "metadata": {},
   "outputs": [
    {
     "data": {
      "text/plain": [
       "{2, 4, 5, 6, 7, 8, 9}"
      ]
     },
     "metadata": {},
     "output_type": "display_data"
    }
   ],
   "source": [
    "#5.pop() #removes random element\n",
    "s.pop()\n",
    "display(s)"
   ]
  },
  {
   "cell_type": "code",
   "execution_count": null,
   "id": "fbc82203-41fb-4069-a1c9-2738bea199ee",
   "metadata": {},
   "outputs": [],
   "source": []
  },
  {
   "cell_type": "code",
   "execution_count": 131,
   "id": "fc862b9d-7025-4efe-9cc4-bd55729a8450",
   "metadata": {},
   "outputs": [
    {
     "name": "stdout",
     "output_type": "stream",
     "text": [
      "2\n",
      "4\n",
      "5\n",
      "6\n",
      "7\n",
      "8\n",
      "9\n"
     ]
    }
   ],
   "source": [
    "\n",
    "for i in s:\n",
    "    print(i) # random values if string present"
   ]
  },
  {
   "cell_type": "code",
   "execution_count": 132,
   "id": "8db370de-9d10-437b-9d95-4c68bec3329a",
   "metadata": {},
   "outputs": [
    {
     "data": {
      "text/plain": [
       "set()"
      ]
     },
     "metadata": {},
     "output_type": "display_data"
    }
   ],
   "source": [
    "s.clear()\n",
    "display(s)"
   ]
  },
  {
   "cell_type": "markdown",
   "id": "ee59e2c5-9b45-44e8-85b1-eb6684f0bc1d",
   "metadata": {},
   "source": [
    "<h2 data-start=\"1573\" data-end=\"1593\">3. Set Operations</h2>"
   ]
  },
  {
   "cell_type": "markdown",
   "id": "94dd4ac0-bdae-42b6-8747-66da507ca547",
   "metadata": {},
   "source": [
    "```python\n",
    "a = {1,2,3}\n",
    "b = {3,4,5}\n",
    "\n",
    "a | b  or union_set= a.union(b)                      # union → {1,2,3,4,5} o\n",
    "a & b  or intersection_set=a.intersectionb           # intersection → {3}\n",
    "a - b  or diff=a.difference b                        # difference → {1,2}\n",
    "a ^ b  or symmetric_diff= a.symmetric_difference b   # symmetric difference → {1,2,4,5} common parts removed \n",
    " "
   ]
  },
  {
   "cell_type": "code",
   "execution_count": 139,
   "id": "a9a52fad-c0b1-4f3a-939a-b220fca3d37d",
   "metadata": {},
   "outputs": [],
   "source": [
    "A={1,2,3,4}\n",
    "B={4,5,6,7,3,8}"
   ]
  },
  {
   "cell_type": "code",
   "execution_count": 140,
   "id": "1596e88a-59c7-4db1-8140-eb745b53111f",
   "metadata": {},
   "outputs": [
    {
     "data": {
      "text/plain": [
       "{1, 2, 3, 4, 5, 6, 7, 8}"
      ]
     },
     "metadata": {},
     "output_type": "display_data"
    }
   ],
   "source": [
    "s1=A|B\n",
    "display(s1)"
   ]
  },
  {
   "cell_type": "code",
   "execution_count": 141,
   "id": "49c68bd0-241b-4d1b-bfe0-272a67fe2dc3",
   "metadata": {},
   "outputs": [
    {
     "data": {
      "text/plain": [
       "{3, 4}"
      ]
     },
     "metadata": {},
     "output_type": "display_data"
    }
   ],
   "source": [
    "s2= A&B\n",
    "display(s2) #nothing common here\n"
   ]
  },
  {
   "cell_type": "code",
   "execution_count": 142,
   "id": "7e6ba083-2073-446f-a3c3-e1388a160873",
   "metadata": {},
   "outputs": [
    {
     "data": {
      "text/plain": [
       "{1, 2}"
      ]
     },
     "metadata": {},
     "output_type": "display_data"
    }
   ],
   "source": [
    "s3= A-B\n",
    "display(s3)"
   ]
  },
  {
   "cell_type": "code",
   "execution_count": 143,
   "id": "3024b0eb-83b2-456d-89db-b7ee5742f9a9",
   "metadata": {},
   "outputs": [
    {
     "data": {
      "text/plain": [
       "{1, 2, 5, 6, 7, 8}"
      ]
     },
     "metadata": {},
     "output_type": "display_data"
    }
   ],
   "source": [
    "s4=A^B #common parts removed\n",
    "display(s4)"
   ]
  },
  {
   "cell_type": "markdown",
   "id": "da737a34-775e-4cae-b18f-c801e29f45a7",
   "metadata": {},
   "source": [
    "# 📌 Dictionaries in Python"
   ]
  },
  {
   "cell_type": "markdown",
   "id": "8edda19d-74fb-4082-9497-d24d304ce678",
   "metadata": {},
   "source": [
    "## 1. Introduction\n",
    "- Dictionary = key-value pairs\n",
    "- key -> immutable(str,int,tuple),acts like index values that we use in List\n",
    "- values -> can be anything\n",
    "- order: dic follows insertion order\n",
    "- Heterogeneous : can even store another dictionary\n",
    "- semi-immutable -> keys can't be changed, but values can\n",
    "- Syntax:\n",
    "  ```python\n",
    " d = {\"name\": \"Sakshi\", \"age\": 21}\n",
    "\n"
   ]
  },
  {
   "cell_type": "markdown",
   "id": "f8ef9692-a298-4aa6-87d5-ec241555d114",
   "metadata": {},
   "source": [
    "<h2 data-start=\"2300\" data-end=\"2314\">2. Creating</h2>"
   ]
  },
  {
   "cell_type": "markdown",
   "id": "aeca1193-1e34-470a-bc77-c8fe910d9f5b",
   "metadata": {},
   "source": [
    "```python\n",
    "d={} #empty\n",
    "d={\"a\":1, \"b\":2}\n",
    "d=dict(x=1,y=2) #dict() constructor\n",
    "d=dict([(\"a\",1),(\"b\",2)]) #from tuples"
   ]
  },
  {
   "cell_type": "code",
   "execution_count": 144,
   "id": "0defd915-8f89-4fb3-b811-8d855fda8cd7",
   "metadata": {},
   "outputs": [],
   "source": [
    "student = {\n",
    "    \"name\": \"Sakshi\",\n",
    "    \"age\": 21,\n",
    "    \"course\": \"Data Analytics\",\n",
    "    \"skills\": [\"Python\", \"SQL\", \"Excel\"],\n",
    "    \"is_graduated\": False,\n",
    "    \n",
    "}\n"
   ]
  },
  {
   "cell_type": "markdown",
   "id": "f7491e3b-7ad3-417c-8703-11ff6be44c8f",
   "metadata": {},
   "source": [
    "## 3. Accessing "
   ]
  },
  {
   "cell_type": "code",
   "execution_count": 152,
   "id": "c381d701-e9f3-44bd-a8bf-d8fbf4d460a2",
   "metadata": {},
   "outputs": [
    {
     "data": {
      "text/plain": [
       "'Sakshi'"
      ]
     },
     "metadata": {},
     "output_type": "display_data"
    },
    {
     "data": {
      "text/plain": [
       "21"
      ]
     },
     "metadata": {},
     "output_type": "display_data"
    }
   ],
   "source": [
    "#1.\n",
    "display(student[\"name\"])\n",
    "#2.\n",
    "display(student.get(\"age\"))\n"
   ]
  },
  {
   "cell_type": "code",
   "execution_count": 151,
   "id": "d722de6f-43c0-48fd-aadd-e31ed023a136",
   "metadata": {},
   "outputs": [
    {
     "data": {
      "text/plain": [
       "0"
      ]
     },
     "execution_count": 151,
     "metadata": {},
     "output_type": "execute_result"
    }
   ],
   "source": [
    "#3.\n",
    "student.get(\"z\",0)  # default value if key missing , \"z\" does not exist, return the default value 0 instead of throwing an error."
   ]
  },
  {
   "cell_type": "markdown",
   "id": "38accc0c-5b6d-483c-9124-d56354ce4600",
   "metadata": {},
   "source": [
    "## 4.Modifying"
   ]
  },
  {
   "cell_type": "markdown",
   "id": "2ee9569b-fe39-4dc2-840d-2f06066a71e1",
   "metadata": {},
   "source": [
    "```python\n",
    "d[\"c\"] = 3          # add\n",
    "d[\"a\"] = 100        # update\n",
    "d.update({\"d\":4})\n"
   ]
  },
  {
   "cell_type": "code",
   "execution_count": 156,
   "id": "05bd2506-f13f-49a5-b006-eb37b66e5af5",
   "metadata": {},
   "outputs": [
    {
     "data": {
      "text/plain": [
       "{'name': 'Alex',\n",
       " 'age': 21,\n",
       " 'course': 'Data Analytics',\n",
       " 'skills': ['Python', 'SQL', 'Excel'],\n",
       " 'is_graduated': False,\n",
       " 'college': 'ASU University',\n",
       " 'course2': 'MS in IT'}"
      ]
     },
     "metadata": {},
     "output_type": "display_data"
    }
   ],
   "source": [
    "student[\"name\"]=\"Alex\" #updating\n",
    "student[\"course2\"]=\"MS in IT\" # course2 doesn't exist so creating\n",
    "display(student)"
   ]
  },
  {
   "cell_type": "code",
   "execution_count": 157,
   "id": "028b5afb-f55a-4121-b6c7-acb8609d9c26",
   "metadata": {},
   "outputs": [
    {
     "data": {
      "text/plain": [
       "{'name': 'Alex',\n",
       " 'age': 21,\n",
       " 'course': 'Data Analytics',\n",
       " 'skills': ['Python', 'SQL', 'Excel'],\n",
       " 'is_graduated': False,\n",
       " 'college': 'ASU University',\n",
       " 'course2': 'MS in IT'}"
      ]
     },
     "metadata": {},
     "output_type": "display_data"
    }
   ],
   "source": [
    "student.update({\"college\":\"ASU University\"})\n",
    "display(student)"
   ]
  },
  {
   "cell_type": "code",
   "execution_count": 158,
   "id": "0b18a631-8351-4391-8f7c-dbcbcc8aef8f",
   "metadata": {},
   "outputs": [
    {
     "data": {
      "text/plain": [
       "{'name': 'Alex',\n",
       " 'course': 'Data Analytics',\n",
       " 'skills': ['Python', 'SQL', 'Excel'],\n",
       " 'is_graduated': False,\n",
       " 'college': 'ASU University',\n",
       " 'course2': 'MS in IT'}"
      ]
     },
     "metadata": {},
     "output_type": "display_data"
    }
   ],
   "source": [
    "#delete \n",
    "del student[\"age\"]\n",
    "display(student)"
   ]
  },
  {
   "cell_type": "code",
   "execution_count": 159,
   "id": "92725649-dd43-4bf0-863a-a0f400dccd70",
   "metadata": {},
   "outputs": [
    {
     "data": {
      "text/plain": [
       "'MS in IT'"
      ]
     },
     "execution_count": 159,
     "metadata": {},
     "output_type": "execute_result"
    }
   ],
   "source": [
    "student.pop('course2') #removes and returns value"
   ]
  },
  {
   "cell_type": "code",
   "execution_count": 160,
   "id": "1e1da702-78fa-49aa-a96a-576b327cd61c",
   "metadata": {},
   "outputs": [
    {
     "data": {
      "text/plain": [
       "('college', 'ASU University')"
      ]
     },
     "execution_count": 160,
     "metadata": {},
     "output_type": "execute_result"
    }
   ],
   "source": [
    "student.popitem() #removes last inserted item & returns it as well"
   ]
  },
  {
   "cell_type": "markdown",
   "id": "e5250db2-62da-45aa-8b88-03ab90ef6e13",
   "metadata": {},
   "source": [
    "## 6.Iterating "
   ]
  },
  {
   "cell_type": "code",
   "execution_count": 161,
   "id": "06a91c05-5000-49aa-9426-6ebd32f35447",
   "metadata": {},
   "outputs": [],
   "source": [
    "student={'name': 'Alex',\n",
    " 'age': 21,\n",
    " 'course': 'Data Analytics',\n",
    " 'skills': ['Python', 'SQL', 'Excel'],\n",
    " 'is_graduated': False,\n",
    " 'college': 'ASU University',\n",
    " 'course2': 'MS in IT'}"
   ]
  },
  {
   "cell_type": "code",
   "execution_count": 162,
   "id": "11f5ced7-6741-45ea-b669-1b8994eded25",
   "metadata": {},
   "outputs": [
    {
     "name": "stdout",
     "output_type": "stream",
     "text": [
      "name\n",
      "age\n",
      "course\n",
      "skills\n",
      "is_graduated\n",
      "college\n",
      "course2\n"
     ]
    }
   ],
   "source": [
    "for key in student: print (key)"
   ]
  },
  {
   "cell_type": "code",
   "execution_count": 163,
   "id": "212b74d7-70f9-49e2-a182-10d185609d8d",
   "metadata": {},
   "outputs": [
    {
     "name": "stdout",
     "output_type": "stream",
     "text": [
      "Alex\n",
      "21\n",
      "Data Analytics\n",
      "['Python', 'SQL', 'Excel']\n",
      "False\n",
      "ASU University\n",
      "MS in IT\n"
     ]
    }
   ],
   "source": [
    "for val in student.values(): print(val)"
   ]
  },
  {
   "cell_type": "code",
   "execution_count": 167,
   "id": "f5209c5a-f2c4-4f31-bfd0-8406073d4b59",
   "metadata": {},
   "outputs": [
    {
     "name": "stdout",
     "output_type": "stream",
     "text": [
      "name Alex\n",
      "age 21\n",
      "course Data Analytics\n",
      "skills ['Python', 'SQL', 'Excel']\n",
      "is_graduated False\n",
      "college ASU University\n",
      "course2 MS in IT\n"
     ]
    }
   ],
   "source": [
    "for k,v in student.items(): print(k,v)"
   ]
  },
  {
   "cell_type": "code",
   "execution_count": 168,
   "id": "7996ae57-3621-41b7-9c88-0bfeb2f7ff12",
   "metadata": {},
   "outputs": [
    {
     "name": "stdout",
     "output_type": "stream",
     "text": [
      "name\n",
      "age\n",
      "course\n",
      "skills\n",
      "is_graduated\n",
      "college\n",
      "course2\n"
     ]
    }
   ],
   "source": [
    "for i in student:   # or student.keys (but no need ,its iterating on keys only)\n",
    "    print(i) #acce keys"
   ]
  },
  {
   "cell_type": "code",
   "execution_count": 170,
   "id": "308e24f8-957c-467e-9683-7cedef15b00c",
   "metadata": {},
   "outputs": [
    {
     "name": "stdout",
     "output_type": "stream",
     "text": [
      "Alex\n",
      "21\n",
      "Data Analytics\n",
      "['Python', 'SQL', 'Excel']\n",
      "False\n",
      "ASU University\n",
      "MS in IT\n"
     ]
    }
   ],
   "source": [
    "for i in student:\n",
    "    print (student[i]) # access values"
   ]
  },
  {
   "cell_type": "markdown",
   "id": "d83c3e1b-359e-40d0-b902-0340f03d91c2",
   "metadata": {},
   "source": [
    "## 7.Dictionary Methods"
   ]
  },
  {
   "cell_type": "markdown",
   "id": "28c206df-bb46-4dd2-97fc-6e6c63d76320",
   "metadata": {},
   "source": [
    "```python\n",
    "d.keys()       # all keys\n",
    "d.values()     # all values\n",
    "d.items()      # (key,value) pairs\n"
   ]
  },
  {
   "cell_type": "code",
   "execution_count": 171,
   "id": "45c16b80-e94b-49d4-afa2-b2e6ead26c5f",
   "metadata": {},
   "outputs": [
    {
     "name": "stdout",
     "output_type": "stream",
     "text": [
      "Help on class dict in module builtins:\n",
      "\n",
      "class dict(object)\n",
      " |  dict() -> new empty dictionary\n",
      " |  dict(mapping) -> new dictionary initialized from a mapping object's\n",
      " |      (key, value) pairs\n",
      " |  dict(iterable) -> new dictionary initialized as if via:\n",
      " |      d = {}\n",
      " |      for k, v in iterable:\n",
      " |          d[k] = v\n",
      " |  dict(**kwargs) -> new dictionary initialized with the name=value pairs\n",
      " |      in the keyword argument list.  For example:  dict(one=1, two=2)\n",
      " |\n",
      " |  Methods defined here:\n",
      " |\n",
      " |  __contains__(self, key, /)\n",
      " |      True if the dictionary has the specified key, else False.\n",
      " |\n",
      " |  __delitem__(self, key, /)\n",
      " |      Delete self[key].\n",
      " |\n",
      " |  __eq__(self, value, /)\n",
      " |      Return self==value.\n",
      " |\n",
      " |  __ge__(self, value, /)\n",
      " |      Return self>=value.\n",
      " |\n",
      " |  __getattribute__(self, name, /)\n",
      " |      Return getattr(self, name).\n",
      " |\n",
      " |  __getitem__(self, key, /)\n",
      " |      Return self[key].\n",
      " |\n",
      " |  __gt__(self, value, /)\n",
      " |      Return self>value.\n",
      " |\n",
      " |  __init__(self, /, *args, **kwargs)\n",
      " |      Initialize self.  See help(type(self)) for accurate signature.\n",
      " |\n",
      " |  __ior__(self, value, /)\n",
      " |      Return self|=value.\n",
      " |\n",
      " |  __iter__(self, /)\n",
      " |      Implement iter(self).\n",
      " |\n",
      " |  __le__(self, value, /)\n",
      " |      Return self<=value.\n",
      " |\n",
      " |  __len__(self, /)\n",
      " |      Return len(self).\n",
      " |\n",
      " |  __lt__(self, value, /)\n",
      " |      Return self<value.\n",
      " |\n",
      " |  __ne__(self, value, /)\n",
      " |      Return self!=value.\n",
      " |\n",
      " |  __or__(self, value, /)\n",
      " |      Return self|value.\n",
      " |\n",
      " |  __repr__(self, /)\n",
      " |      Return repr(self).\n",
      " |\n",
      " |  __reversed__(self, /)\n",
      " |      Return a reverse iterator over the dict keys.\n",
      " |\n",
      " |  __ror__(self, value, /)\n",
      " |      Return value|self.\n",
      " |\n",
      " |  __setitem__(self, key, value, /)\n",
      " |      Set self[key] to value.\n",
      " |\n",
      " |  __sizeof__(self, /)\n",
      " |      Return the size of the dict in memory, in bytes.\n",
      " |\n",
      " |  clear(self, /)\n",
      " |      Remove all items from the dict.\n",
      " |\n",
      " |  copy(self, /)\n",
      " |      Return a shallow copy of the dict.\n",
      " |\n",
      " |  get(self, key, default=None, /)\n",
      " |      Return the value for key if key is in the dictionary, else default.\n",
      " |\n",
      " |  items(self, /)\n",
      " |      Return a set-like object providing a view on the dict's items.\n",
      " |\n",
      " |  keys(self, /)\n",
      " |      Return a set-like object providing a view on the dict's keys.\n",
      " |\n",
      " |  pop(self, key, default=<unrepresentable>, /)\n",
      " |      D.pop(k[,d]) -> v, remove specified key and return the corresponding value.\n",
      " |\n",
      " |      If the key is not found, return the default if given; otherwise,\n",
      " |      raise a KeyError.\n",
      " |\n",
      " |  popitem(self, /)\n",
      " |      Remove and return a (key, value) pair as a 2-tuple.\n",
      " |\n",
      " |      Pairs are returned in LIFO (last-in, first-out) order.\n",
      " |      Raises KeyError if the dict is empty.\n",
      " |\n",
      " |  setdefault(self, key, default=None, /)\n",
      " |      Insert key with a value of default if key is not in the dictionary.\n",
      " |\n",
      " |      Return the value for key if key is in the dictionary, else default.\n",
      " |\n",
      " |  update(...)\n",
      " |      D.update([E, ]**F) -> None.  Update D from mapping/iterable E and F.\n",
      " |      If E is present and has a .keys() method, then does:  for k in E.keys(): D[k] = E[k]\n",
      " |      If E is present and lacks a .keys() method, then does:  for k, v in E: D[k] = v\n",
      " |      In either case, this is followed by: for k in F:  D[k] = F[k]\n",
      " |\n",
      " |  values(self, /)\n",
      " |      Return an object providing a view on the dict's values.\n",
      " |\n",
      " |  ----------------------------------------------------------------------\n",
      " |  Class methods defined here:\n",
      " |\n",
      " |  __class_getitem__(object, /)\n",
      " |      See PEP 585\n",
      " |\n",
      " |  fromkeys(iterable, value=None, /)\n",
      " |      Create a new dictionary with keys from iterable and values set to value.\n",
      " |\n",
      " |  ----------------------------------------------------------------------\n",
      " |  Static methods defined here:\n",
      " |\n",
      " |  __new__(*args, **kwargs)\n",
      " |      Create and return a new object.  See help(type) for accurate signature.\n",
      " |\n",
      " |  ----------------------------------------------------------------------\n",
      " |  Data and other attributes defined here:\n",
      " |\n",
      " |  __hash__ = None\n",
      "\n"
     ]
    }
   ],
   "source": [
    "help(dict)"
   ]
  },
  {
   "cell_type": "code",
   "execution_count": 172,
   "id": "c47e77a2-6882-4b2a-9146-ced8719e41c8",
   "metadata": {},
   "outputs": [],
   "source": [
    "# que: write a python script to merge two dict\n",
    "f1_info = {\n",
    "    \"Sport\": \"Formula 1\",\n",
    "    \"Cars\": \"Fastest racing cars in the world\",\n",
    "    \"Drivers\": \"Compete for World Championship\",\n",
    "    \"Speed\": \"Over 300 km/h\"\n",
    "}\n"
   ]
  },
  {
   "cell_type": "code",
   "execution_count": 173,
   "id": "cafd9ef8-f3b0-48e0-95a6-e94239b5d44c",
   "metadata": {},
   "outputs": [],
   "source": [
    "f1_terms = {\n",
    "    \"Pole Position\": \"Starting first on the grid\",\n",
    "    \"Pit Stop\": \"Changing tires/refueling/repairs during race\",\n",
    "    \"DRS\": \"Drag Reduction System for more speed\",\n",
    "    \"Safety Car\": \"Controls race speed after accidents\"\n",
    "}\n"
   ]
  },
  {
   "cell_type": "code",
   "execution_count": 174,
   "id": "d562e386-83f3-44c1-87c0-b1438d91cf70",
   "metadata": {},
   "outputs": [
    {
     "data": {
      "text/plain": [
       "{'Sport': 'Formula 1',\n",
       " 'Cars': 'Fastest racing cars in the world',\n",
       " 'Drivers': 'Compete for World Championship',\n",
       " 'Speed': 'Over 300 km/h',\n",
       " 'Pole Position': 'Starting first on the grid',\n",
       " 'Pit Stop': 'Changing tires/refueling/repairs during race',\n",
       " 'DRS': 'Drag Reduction System for more speed',\n",
       " 'Safety Car': 'Controls race speed after accidents'}"
      ]
     },
     "metadata": {},
     "output_type": "display_data"
    }
   ],
   "source": [
    "for i in f1_terms:\n",
    "    f1_info[i]=f1_terms[i]\n",
    "display(f1_info)    "
   ]
  },
  {
   "cell_type": "code",
   "execution_count": 175,
   "id": "184745c2-bbf7-4755-89bd-4b88789f4103",
   "metadata": {},
   "outputs": [
    {
     "name": "stdout",
     "output_type": "stream",
     "text": [
      "1000\n"
     ]
    }
   ],
   "source": [
    "# sum all the values in dictionary\n",
    "d1={10:100,20:200,30:300,40:400}\n",
    "sum=0\n",
    "for i in d1:\n",
    "    sum = sum+d1[i]\n",
    "print(sum)    "
   ]
  },
  {
   "cell_type": "code",
   "execution_count": 179,
   "id": "bc2660b0-5146-4698-b75e-adf6096cb6b7",
   "metadata": {},
   "outputs": [
    {
     "data": {
      "text/plain": [
       "{10: 100, 20: 200, 40: 800, 50: 500, 60: 600}"
      ]
     },
     "metadata": {},
     "output_type": "display_data"
    },
    {
     "data": {
      "text/plain": [
       "{40: 400, 50: 500, 60: 600}"
      ]
     },
     "metadata": {},
     "output_type": "display_data"
    }
   ],
   "source": [
    "#program to adding values by common keys\n",
    "d1={10:100,20:200,40:400}\n",
    "d2={40:400,50:500,60:600}\n",
    "for i in d2:\n",
    "    if i in d1.keys():\n",
    "        d1[i]+=d2[i]\n",
    "    else:\n",
    "        d1[i]=d2[i]\n",
    "display(d1)  \n",
    "display(d2)\n",
    "        "
   ]
  },
  {
   "cell_type": "code",
   "execution_count": null,
   "id": "acaa04c8-c97b-428e-8ee1-9e3d72ce67d3",
   "metadata": {},
   "outputs": [],
   "source": []
  }
 ],
 "metadata": {
  "kernelspec": {
   "display_name": "Python [conda env:base] *",
   "language": "python",
   "name": "conda-base-py"
  },
  "language_info": {
   "codemirror_mode": {
    "name": "ipython",
    "version": 3
   },
   "file_extension": ".py",
   "mimetype": "text/x-python",
   "name": "python",
   "nbconvert_exporter": "python",
   "pygments_lexer": "ipython3",
   "version": "3.13.5"
  }
 },
 "nbformat": 4,
 "nbformat_minor": 5
}
