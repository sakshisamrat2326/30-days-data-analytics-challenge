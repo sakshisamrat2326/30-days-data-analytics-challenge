{
 "cells": [
  {
   "cell_type": "code",
   "execution_count": 2,
   "id": "6caf245b-4557-4285-8266-cc9786c5c58a",
   "metadata": {},
   "outputs": [],
   "source": [
    "import pandas as pd\n",
    "import numpy as np"
   ]
  },
  {
   "cell_type": "code",
   "execution_count": 6,
   "id": "5c1c9d0c-bca6-4185-9f35-ecf3611da85d",
   "metadata": {},
   "outputs": [
    {
     "data": {
      "text/html": [
       "<div>\n",
       "<style scoped>\n",
       "    .dataframe tbody tr th:only-of-type {\n",
       "        vertical-align: middle;\n",
       "    }\n",
       "\n",
       "    .dataframe tbody tr th {\n",
       "        vertical-align: top;\n",
       "    }\n",
       "\n",
       "    .dataframe thead th {\n",
       "        text-align: right;\n",
       "    }\n",
       "</style>\n",
       "<table border=\"1\" class=\"dataframe\">\n",
       "  <thead>\n",
       "    <tr style=\"text-align: right;\">\n",
       "      <th></th>\n",
       "      <th>match_id</th>\n",
       "      <th>inning</th>\n",
       "      <th>batting_team</th>\n",
       "      <th>bowling_team</th>\n",
       "      <th>over</th>\n",
       "      <th>ball</th>\n",
       "      <th>batter</th>\n",
       "      <th>bowler</th>\n",
       "      <th>non_striker</th>\n",
       "      <th>batsman_runs</th>\n",
       "      <th>extra_runs</th>\n",
       "      <th>total_runs</th>\n",
       "      <th>extras_type</th>\n",
       "      <th>is_wicket</th>\n",
       "      <th>player_dismissed</th>\n",
       "      <th>dismissal_kind</th>\n",
       "      <th>fielder</th>\n",
       "      <th>match_year</th>\n",
       "    </tr>\n",
       "  </thead>\n",
       "  <tbody>\n",
       "    <tr>\n",
       "      <th>0</th>\n",
       "      <td>1</td>\n",
       "      <td>1</td>\n",
       "      <td>Kolkata Knight Riders</td>\n",
       "      <td>Royal Challengers Bengaluru</td>\n",
       "      <td>0</td>\n",
       "      <td>1</td>\n",
       "      <td>SC Ganguly</td>\n",
       "      <td>P Kumar</td>\n",
       "      <td>BB McCullum</td>\n",
       "      <td>0</td>\n",
       "      <td>1</td>\n",
       "      <td>1</td>\n",
       "      <td>legbyes</td>\n",
       "      <td>0</td>\n",
       "      <td>NA</td>\n",
       "      <td>NA</td>\n",
       "      <td>NaN</td>\n",
       "      <td>2008</td>\n",
       "    </tr>\n",
       "    <tr>\n",
       "      <th>1</th>\n",
       "      <td>1</td>\n",
       "      <td>1</td>\n",
       "      <td>Kolkata Knight Riders</td>\n",
       "      <td>Royal Challengers Bengaluru</td>\n",
       "      <td>0</td>\n",
       "      <td>2</td>\n",
       "      <td>BB McCullum</td>\n",
       "      <td>P Kumar</td>\n",
       "      <td>SC Ganguly</td>\n",
       "      <td>0</td>\n",
       "      <td>0</td>\n",
       "      <td>0</td>\n",
       "      <td></td>\n",
       "      <td>0</td>\n",
       "      <td>NA</td>\n",
       "      <td>NA</td>\n",
       "      <td>NaN</td>\n",
       "      <td>2008</td>\n",
       "    </tr>\n",
       "    <tr>\n",
       "      <th>2</th>\n",
       "      <td>1</td>\n",
       "      <td>1</td>\n",
       "      <td>Kolkata Knight Riders</td>\n",
       "      <td>Royal Challengers Bengaluru</td>\n",
       "      <td>0</td>\n",
       "      <td>3</td>\n",
       "      <td>BB McCullum</td>\n",
       "      <td>P Kumar</td>\n",
       "      <td>SC Ganguly</td>\n",
       "      <td>0</td>\n",
       "      <td>1</td>\n",
       "      <td>1</td>\n",
       "      <td>wides</td>\n",
       "      <td>0</td>\n",
       "      <td>NA</td>\n",
       "      <td>NA</td>\n",
       "      <td>NaN</td>\n",
       "      <td>2008</td>\n",
       "    </tr>\n",
       "    <tr>\n",
       "      <th>3</th>\n",
       "      <td>1</td>\n",
       "      <td>1</td>\n",
       "      <td>Kolkata Knight Riders</td>\n",
       "      <td>Royal Challengers Bengaluru</td>\n",
       "      <td>0</td>\n",
       "      <td>4</td>\n",
       "      <td>BB McCullum</td>\n",
       "      <td>P Kumar</td>\n",
       "      <td>SC Ganguly</td>\n",
       "      <td>0</td>\n",
       "      <td>0</td>\n",
       "      <td>0</td>\n",
       "      <td></td>\n",
       "      <td>0</td>\n",
       "      <td>NA</td>\n",
       "      <td>NA</td>\n",
       "      <td>NaN</td>\n",
       "      <td>2008</td>\n",
       "    </tr>\n",
       "    <tr>\n",
       "      <th>4</th>\n",
       "      <td>1</td>\n",
       "      <td>1</td>\n",
       "      <td>Kolkata Knight Riders</td>\n",
       "      <td>Royal Challengers Bengaluru</td>\n",
       "      <td>0</td>\n",
       "      <td>5</td>\n",
       "      <td>BB McCullum</td>\n",
       "      <td>P Kumar</td>\n",
       "      <td>SC Ganguly</td>\n",
       "      <td>0</td>\n",
       "      <td>0</td>\n",
       "      <td>0</td>\n",
       "      <td></td>\n",
       "      <td>0</td>\n",
       "      <td>NA</td>\n",
       "      <td>NA</td>\n",
       "      <td>NaN</td>\n",
       "      <td>2008</td>\n",
       "    </tr>\n",
       "  </tbody>\n",
       "</table>\n",
       "</div>"
      ],
      "text/plain": [
       "   match_id  inning                  batting_team  \\\n",
       "0         1       1  Kolkata Knight Riders          \n",
       "1         1       1  Kolkata Knight Riders          \n",
       "2         1       1  Kolkata Knight Riders          \n",
       "3         1       1  Kolkata Knight Riders          \n",
       "4         1       1  Kolkata Knight Riders          \n",
       "\n",
       "                   bowling_team  over  ball                    batter  \\\n",
       "0  Royal Challengers Bengaluru      0     1  SC Ganguly                 \n",
       "1  Royal Challengers Bengaluru      0     2  BB McCullum                \n",
       "2  Royal Challengers Bengaluru      0     3  BB McCullum                \n",
       "3  Royal Challengers Bengaluru      0     4  BB McCullum                \n",
       "4  Royal Challengers Bengaluru      0     5  BB McCullum                \n",
       "\n",
       "                     bowler               non_striker  batsman_runs  \\\n",
       "0  P Kumar                   BB McCullum                          0   \n",
       "1  P Kumar                   SC Ganguly                           0   \n",
       "2  P Kumar                   SC Ganguly                           0   \n",
       "3  P Kumar                   SC Ganguly                           0   \n",
       "4  P Kumar                   SC Ganguly                           0   \n",
       "\n",
       "   extra_runs  total_runs   extras_type  is_wicket          player_dismissed  \\\n",
       "0           1           1  legbyes               0  NA                         \n",
       "1           0           0                        0  NA                         \n",
       "2           1           1  wides                 0  NA                         \n",
       "3           0           0                        0  NA                         \n",
       "4           0           0                        0  NA                         \n",
       "\n",
       "           dismissal_kind fielder  match_year  \n",
       "0  NA                         NaN        2008  \n",
       "1  NA                         NaN        2008  \n",
       "2  NA                         NaN        2008  \n",
       "3  NA                         NaN        2008  \n",
       "4  NA                         NaN        2008  "
      ]
     },
     "execution_count": 6,
     "metadata": {},
     "output_type": "execute_result"
    }
   ],
   "source": [
    "df= pd.read_csv(r\"C:\\Users\\Sakshi\\Downloads\\IPL_Histroy_2008-2024.csv\")\n",
    "df.head()"
   ]
  },
  {
   "cell_type": "code",
   "execution_count": 9,
   "id": "1342078a-2c40-48c7-8537-373afa32a5a4",
   "metadata": {},
   "outputs": [
    {
     "name": "stdout",
     "output_type": "stream",
     "text": [
      "<class 'pandas.core.frame.DataFrame'>\n",
      "RangeIndex: 260920 entries, 0 to 260919\n",
      "Data columns (total 18 columns):\n",
      " #   Column            Non-Null Count   Dtype \n",
      "---  ------            --------------   ----- \n",
      " 0   match_id          260920 non-null  int64 \n",
      " 1   inning            260920 non-null  int64 \n",
      " 2   batting_team      260920 non-null  object\n",
      " 3   bowling_team      260920 non-null  object\n",
      " 4   over              260920 non-null  int64 \n",
      " 5   ball              260920 non-null  int64 \n",
      " 6   batter            260920 non-null  object\n",
      " 7   bowler            260920 non-null  object\n",
      " 8   non_striker       260920 non-null  object\n",
      " 9   batsman_runs      260920 non-null  int64 \n",
      " 10  extra_runs        260920 non-null  int64 \n",
      " 11  total_runs        260920 non-null  int64 \n",
      " 12  extras_type       260920 non-null  object\n",
      " 13  is_wicket         260920 non-null  int64 \n",
      " 14  player_dismissed  260920 non-null  object\n",
      " 15  dismissal_kind    260920 non-null  object\n",
      " 16  fielder           9354 non-null    object\n",
      " 17  match_year        260920 non-null  int64 \n",
      "dtypes: int64(9), object(9)\n",
      "memory usage: 35.8+ MB\n"
     ]
    },
    {
     "data": {
      "text/html": [
       "<div>\n",
       "<style scoped>\n",
       "    .dataframe tbody tr th:only-of-type {\n",
       "        vertical-align: middle;\n",
       "    }\n",
       "\n",
       "    .dataframe tbody tr th {\n",
       "        vertical-align: top;\n",
       "    }\n",
       "\n",
       "    .dataframe thead th {\n",
       "        text-align: right;\n",
       "    }\n",
       "</style>\n",
       "<table border=\"1\" class=\"dataframe\">\n",
       "  <thead>\n",
       "    <tr style=\"text-align: right;\">\n",
       "      <th></th>\n",
       "      <th>match_id</th>\n",
       "      <th>inning</th>\n",
       "      <th>over</th>\n",
       "      <th>ball</th>\n",
       "      <th>batsman_runs</th>\n",
       "      <th>extra_runs</th>\n",
       "      <th>total_runs</th>\n",
       "      <th>is_wicket</th>\n",
       "      <th>match_year</th>\n",
       "    </tr>\n",
       "  </thead>\n",
       "  <tbody>\n",
       "    <tr>\n",
       "      <th>count</th>\n",
       "      <td>260920.000000</td>\n",
       "      <td>260920.000000</td>\n",
       "      <td>260920.000000</td>\n",
       "      <td>260920.000000</td>\n",
       "      <td>260920.000000</td>\n",
       "      <td>260920.000000</td>\n",
       "      <td>260920.000000</td>\n",
       "      <td>260920.000000</td>\n",
       "      <td>260920.000000</td>\n",
       "    </tr>\n",
       "    <tr>\n",
       "      <th>mean</th>\n",
       "      <td>550.080454</td>\n",
       "      <td>1.483531</td>\n",
       "      <td>9.197677</td>\n",
       "      <td>3.624486</td>\n",
       "      <td>1.265001</td>\n",
       "      <td>0.067806</td>\n",
       "      <td>1.332807</td>\n",
       "      <td>0.049632</td>\n",
       "      <td>2016.161007</td>\n",
       "    </tr>\n",
       "    <tr>\n",
       "      <th>std</th>\n",
       "      <td>316.471716</td>\n",
       "      <td>0.502643</td>\n",
       "      <td>5.683484</td>\n",
       "      <td>1.814920</td>\n",
       "      <td>1.639298</td>\n",
       "      <td>0.343265</td>\n",
       "      <td>1.626416</td>\n",
       "      <td>0.217184</td>\n",
       "      <td>4.951596</td>\n",
       "    </tr>\n",
       "    <tr>\n",
       "      <th>min</th>\n",
       "      <td>1.000000</td>\n",
       "      <td>1.000000</td>\n",
       "      <td>0.000000</td>\n",
       "      <td>1.000000</td>\n",
       "      <td>0.000000</td>\n",
       "      <td>0.000000</td>\n",
       "      <td>0.000000</td>\n",
       "      <td>0.000000</td>\n",
       "      <td>2008.000000</td>\n",
       "    </tr>\n",
       "    <tr>\n",
       "      <th>25%</th>\n",
       "      <td>277.000000</td>\n",
       "      <td>1.000000</td>\n",
       "      <td>4.000000</td>\n",
       "      <td>2.000000</td>\n",
       "      <td>0.000000</td>\n",
       "      <td>0.000000</td>\n",
       "      <td>0.000000</td>\n",
       "      <td>0.000000</td>\n",
       "      <td>2012.000000</td>\n",
       "    </tr>\n",
       "    <tr>\n",
       "      <th>50%</th>\n",
       "      <td>551.000000</td>\n",
       "      <td>1.000000</td>\n",
       "      <td>9.000000</td>\n",
       "      <td>4.000000</td>\n",
       "      <td>1.000000</td>\n",
       "      <td>0.000000</td>\n",
       "      <td>1.000000</td>\n",
       "      <td>0.000000</td>\n",
       "      <td>2016.000000</td>\n",
       "    </tr>\n",
       "    <tr>\n",
       "      <th>75%</th>\n",
       "      <td>825.000000</td>\n",
       "      <td>2.000000</td>\n",
       "      <td>14.000000</td>\n",
       "      <td>5.000000</td>\n",
       "      <td>1.000000</td>\n",
       "      <td>0.000000</td>\n",
       "      <td>1.000000</td>\n",
       "      <td>0.000000</td>\n",
       "      <td>2021.000000</td>\n",
       "    </tr>\n",
       "    <tr>\n",
       "      <th>max</th>\n",
       "      <td>1095.000000</td>\n",
       "      <td>6.000000</td>\n",
       "      <td>19.000000</td>\n",
       "      <td>11.000000</td>\n",
       "      <td>6.000000</td>\n",
       "      <td>7.000000</td>\n",
       "      <td>7.000000</td>\n",
       "      <td>1.000000</td>\n",
       "      <td>2024.000000</td>\n",
       "    </tr>\n",
       "  </tbody>\n",
       "</table>\n",
       "</div>"
      ],
      "text/plain": [
       "            match_id         inning           over           ball  \\\n",
       "count  260920.000000  260920.000000  260920.000000  260920.000000   \n",
       "mean      550.080454       1.483531       9.197677       3.624486   \n",
       "std       316.471716       0.502643       5.683484       1.814920   \n",
       "min         1.000000       1.000000       0.000000       1.000000   \n",
       "25%       277.000000       1.000000       4.000000       2.000000   \n",
       "50%       551.000000       1.000000       9.000000       4.000000   \n",
       "75%       825.000000       2.000000      14.000000       5.000000   \n",
       "max      1095.000000       6.000000      19.000000      11.000000   \n",
       "\n",
       "        batsman_runs     extra_runs     total_runs      is_wicket  \\\n",
       "count  260920.000000  260920.000000  260920.000000  260920.000000   \n",
       "mean        1.265001       0.067806       1.332807       0.049632   \n",
       "std         1.639298       0.343265       1.626416       0.217184   \n",
       "min         0.000000       0.000000       0.000000       0.000000   \n",
       "25%         0.000000       0.000000       0.000000       0.000000   \n",
       "50%         1.000000       0.000000       1.000000       0.000000   \n",
       "75%         1.000000       0.000000       1.000000       0.000000   \n",
       "max         6.000000       7.000000       7.000000       1.000000   \n",
       "\n",
       "          match_year  \n",
       "count  260920.000000  \n",
       "mean     2016.161007  \n",
       "std         4.951596  \n",
       "min      2008.000000  \n",
       "25%      2012.000000  \n",
       "50%      2016.000000  \n",
       "75%      2021.000000  \n",
       "max      2024.000000  "
      ]
     },
     "execution_count": 9,
     "metadata": {},
     "output_type": "execute_result"
    }
   ],
   "source": [
    "df.info()\n",
    "df.describe()\n"
   ]
  },
  {
   "cell_type": "code",
   "execution_count": 11,
   "id": "79d17e2e-072b-46f1-9838-485621c19c5a",
   "metadata": {},
   "outputs": [
    {
     "data": {
      "text/plain": [
       "Index(['match_id', 'inning', 'batting_team', 'bowling_team', 'over', 'ball',\n",
       "       'batter', 'bowler', 'non_striker', 'batsman_runs', 'extra_runs',\n",
       "       'total_runs', 'extras_type', 'is_wicket', 'player_dismissed',\n",
       "       'dismissal_kind', 'fielder', 'match_year'],\n",
       "      dtype='object')"
      ]
     },
     "execution_count": 11,
     "metadata": {},
     "output_type": "execute_result"
    }
   ],
   "source": [
    "df.columns"
   ]
  },
  {
   "cell_type": "markdown",
   "id": "8efb5e4b-53d8-432a-8c1f-f74caae5e5d6",
   "metadata": {},
   "source": [
    "#### handling missing values"
   ]
  },
  {
   "cell_type": "code",
   "execution_count": 13,
   "id": "f5f41ec2-0fb1-4e0d-976f-35059c95ea11",
   "metadata": {},
   "outputs": [],
   "source": [
    "df.dropna(subset=['batter', 'bowler', 'total_runs'], inplace=True)"
   ]
  },
  {
   "cell_type": "code",
   "execution_count": 14,
   "id": "99961076-8b92-45bf-a3e4-fbad785cb528",
   "metadata": {},
   "outputs": [],
   "source": [
    "# 3. Fill missing values for less important fields\n",
    "df['extras_type'] = df['extras_type'].fillna(\"None\")\n",
    "df['fielder'] = df['fielder'].fillna(\"None\")\n",
    "df['dismissal_kind'] = df['dismissal_kind'].fillna(\"Not Out\")\n",
    "df['player_dismissed'] = df['player_dismissed'].fillna(\"None\")"
   ]
  },
  {
   "cell_type": "code",
   "execution_count": 15,
   "id": "323a255a-bd67-4bf3-a29d-a9c9aadab879",
   "metadata": {},
   "outputs": [],
   "source": [
    "# 4. Convert datatypes\n",
    "df['match_id'] = df['match_id'].astype(int)\n",
    "df['inning'] = df['inning'].astype(int)\n",
    "df['over'] = df['over'].astype(int)\n",
    "df['ball'] = df['ball'].astype(int)\n",
    "df['batsman_runs'] = df['batsman_runs'].astype(int)\n",
    "df['extra_runs'] = df['extra_runs'].astype(int)\n",
    "df['total_runs'] = df['total_runs'].astype(int)\n",
    "df['is_wicket'] = df['is_wicket'].astype(int)\n",
    "df['match_year'] = df['match_year'].astype(int)"
   ]
  },
  {
   "cell_type": "code",
   "execution_count": 16,
   "id": "9103a5a3-8d82-40d1-958d-fcdd232fa6c8",
   "metadata": {},
   "outputs": [],
   "source": [
    "# 5. Standardize team names (remove case differences, trailing spaces, etc.)\n",
    "df['batting_team'] = df['batting_team'].str.strip().str.title()\n",
    "df['bowling_team'] = df['bowling_team'].str.strip().str.title()"
   ]
  },
  {
   "cell_type": "code",
   "execution_count": 18,
   "id": "dde8f785-4089-438d-a2a1-1837a857885a",
   "metadata": {},
   "outputs": [],
   "source": [
    "# 6. Optional: Remove superfluous columns (if not needed for analysis)\n",
    "df.drop(columns=['non_striker'], inplace=True)"
   ]
  },
  {
   "cell_type": "code",
   "execution_count": 19,
   "id": "7c741abf-82f0-495f-80f7-9f185a836532",
   "metadata": {},
   "outputs": [
    {
     "name": "stdout",
     "output_type": "stream",
     "text": [
      "match_id            0\n",
      "inning              0\n",
      "batting_team        0\n",
      "bowling_team        0\n",
      "over                0\n",
      "ball                0\n",
      "batter              0\n",
      "bowler              0\n",
      "batsman_runs        0\n",
      "extra_runs          0\n",
      "total_runs          0\n",
      "extras_type         0\n",
      "is_wicket           0\n",
      "player_dismissed    0\n",
      "dismissal_kind      0\n",
      "fielder             0\n",
      "match_year          0\n",
      "dtype: int64\n",
      "   match_id  inning           batting_team                 bowling_team  over  \\\n",
      "0         1       1  Kolkata Knight Riders  Royal Challengers Bengaluru     0   \n",
      "1         1       1  Kolkata Knight Riders  Royal Challengers Bengaluru     0   \n",
      "2         1       1  Kolkata Knight Riders  Royal Challengers Bengaluru     0   \n",
      "3         1       1  Kolkata Knight Riders  Royal Challengers Bengaluru     0   \n",
      "4         1       1  Kolkata Knight Riders  Royal Challengers Bengaluru     0   \n",
      "\n",
      "   ball                    batter                    bowler  batsman_runs  \\\n",
      "0     1  SC Ganguly                P Kumar                              0   \n",
      "1     2  BB McCullum               P Kumar                              0   \n",
      "2     3  BB McCullum               P Kumar                              0   \n",
      "3     4  BB McCullum               P Kumar                              0   \n",
      "4     5  BB McCullum               P Kumar                              0   \n",
      "\n",
      "   extra_runs  total_runs   extras_type  is_wicket          player_dismissed  \\\n",
      "0           1           1  legbyes               0  NA                         \n",
      "1           0           0                        0  NA                         \n",
      "2           1           1  wides                 0  NA                         \n",
      "3           0           0                        0  NA                         \n",
      "4           0           0                        0  NA                         \n",
      "\n",
      "           dismissal_kind fielder  match_year  \n",
      "0  NA                        None        2008  \n",
      "1  NA                        None        2008  \n",
      "2  NA                        None        2008  \n",
      "3  NA                        None        2008  \n",
      "4  NA                        None        2008  \n"
     ]
    }
   ],
   "source": [
    "# 7. Verify cleaned dataset\n",
    "print(df.isnull().sum())   # should be minimal now\n",
    "print(df.head())"
   ]
  },
  {
   "cell_type": "code",
   "execution_count": 20,
   "id": "e23f0998-f155-4978-a132-a8987a616d18",
   "metadata": {},
   "outputs": [],
   "source": [
    "df.to_csv(r\"C:\\Users\\Sakshi\\Downloads\\IPL_History_Cleaned.csv\", index=False)\n"
   ]
  },
  {
   "cell_type": "code",
   "execution_count": 21,
   "id": "02c09cd7-495d-4c10-8074-41a281e3eb91",
   "metadata": {},
   "outputs": [],
   "source": [
    "df1=pd.read_csv(r\"C:\\Users\\Sakshi\\Downloads\\IPL_History_Cleaned.csv\")"
   ]
  },
  {
   "cell_type": "code",
   "execution_count": 25,
   "id": "bbaf150e-124a-4491-a651-bcb1415cbdec",
   "metadata": {},
   "outputs": [],
   "source": [
    "# List numeric columns to clean\n",
    "numeric_cols = ['match_id', 'inning', 'over', 'ball',\n",
    "                'batsman_runs', 'extra_runs', 'total_runs',\n",
    "                'is_wicket', 'match_year']"
   ]
  },
  {
   "cell_type": "code",
   "execution_count": 23,
   "id": "e09763f9-a862-4c00-98d1-612fed5db836",
   "metadata": {},
   "outputs": [
    {
     "name": "stdout",
     "output_type": "stream",
     "text": [
      "['match_id', 'inning', 'batting_team', 'bowling_team', 'over', 'ball', 'batter', 'bowler', 'batsman_runs', 'extra_runs', 'total_runs', 'extras_type', 'is_wicket', 'player_dismissed', 'dismissal_kind', 'fielder', 'match_year']\n"
     ]
    }
   ],
   "source": [
    "print(df1.columns.tolist())\n"
   ]
  },
  {
   "cell_type": "code",
   "execution_count": 26,
   "id": "eb149d98-ef77-4401-8407-a9f1a0b54a2f",
   "metadata": {},
   "outputs": [],
   "source": [
    "# Convert to numeric, force invalid values to NaN\n",
    "for col in numeric_cols:\n",
    "    df[col] = pd.to_numeric(df[col], errors=\"coerce\")"
   ]
  },
  {
   "cell_type": "code",
   "execution_count": 27,
   "id": "05ef7ed0-1d34-4042-ae10-c795a77e3a6f",
   "metadata": {},
   "outputs": [],
   "source": [
    "df = df.fillna(0)"
   ]
  },
  {
   "cell_type": "code",
   "execution_count": 28,
   "id": "e7631dcf-b258-49d0-bdd8-ca2861b1c0db",
   "metadata": {},
   "outputs": [],
   "source": [
    "# Save back as cleaned CSV\n",
    "df.to_csv(r\"C:\\Users\\Sakshi\\Downloads\\IPL_History_Cleaned_Final.csv\", index=False)"
   ]
  },
  {
   "cell_type": "code",
   "execution_count": 32,
   "id": "aa9bca93-8e37-4900-8f34-7cc6e4305214",
   "metadata": {},
   "outputs": [
    {
     "data": {
      "text/plain": [
       "Index(['match_id', 'inning', 'batting_team', 'bowling_team', 'over', 'ball',\n",
       "       'batter', 'bowler', 'batsman_runs', 'extra_runs', 'total_runs',\n",
       "       'extras_type', 'is_wicket', 'player_dismissed', 'dismissal_kind',\n",
       "       'fielder', 'match_year'],\n",
       "      dtype='object')"
      ]
     },
     "execution_count": 32,
     "metadata": {},
     "output_type": "execute_result"
    }
   ],
   "source": [
    "df1.columns"
   ]
  },
  {
   "cell_type": "code",
   "execution_count": 33,
   "id": "245e0f29-b199-4c28-bd46-3251b125bc4a",
   "metadata": {},
   "outputs": [],
   "source": [
    "df1.columns = df1.columns.str.strip()  # removes leading/trailing spaces\n"
   ]
  },
  {
   "cell_type": "code",
   "execution_count": 35,
   "id": "4198579e-02c1-401d-9ae2-ac5a2dc63484",
   "metadata": {},
   "outputs": [],
   "source": [
    "df1.to_csv(r\"C:\\Users\\Sakshi\\Downloads\\IPL_History_Cleaned_Final_Stripped.csv\", index=False)\n"
   ]
  },
  {
   "cell_type": "code",
   "execution_count": null,
   "id": "07f91b04-8920-433b-ba6c-2657d5e3ef3d",
   "metadata": {},
   "outputs": [],
   "source": []
  }
 ],
 "metadata": {
  "kernelspec": {
   "display_name": "Python [conda env:base] *",
   "language": "python",
   "name": "conda-base-py"
  },
  "language_info": {
   "codemirror_mode": {
    "name": "ipython",
    "version": 3
   },
   "file_extension": ".py",
   "mimetype": "text/x-python",
   "name": "python",
   "nbconvert_exporter": "python",
   "pygments_lexer": "ipython3",
   "version": "3.13.5"
  }
 },
 "nbformat": 4,
 "nbformat_minor": 5
}
