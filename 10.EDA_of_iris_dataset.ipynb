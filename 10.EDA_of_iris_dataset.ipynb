{
 "cells": [
  {
   "cell_type": "markdown",
   "id": "8f0b524f-d0f9-4115-9fc8-7704fd088cef",
   "metadata": {},
   "source": [
    "<h1 data-start=\"350\" data-end=\"401\">🌸 NumPy For Data Analysis</h1>"
   ]
  },
  {
   "cell_type": "code",
   "execution_count": 1,
   "id": "6dd64b05-3257-4f99-85bb-04bdf98766d9",
   "metadata": {},
   "outputs": [
    {
     "name": "stdout",
     "output_type": "stream",
     "text": [
      "Requirement already satisfied: kaggle in c:\\users\\sakshi\\anaconda3\\lib\\site-packages (1.7.4.5)\n",
      "Requirement already satisfied: bleach in c:\\users\\sakshi\\anaconda3\\lib\\site-packages (from kaggle) (6.2.0)\n",
      "Requirement already satisfied: certifi>=14.05.14 in c:\\users\\sakshi\\anaconda3\\lib\\site-packages (from kaggle) (2025.7.14)\n",
      "Requirement already satisfied: charset-normalizer in c:\\users\\sakshi\\anaconda3\\lib\\site-packages (from kaggle) (3.3.2)\n",
      "Requirement already satisfied: idna in c:\\users\\sakshi\\anaconda3\\lib\\site-packages (from kaggle) (3.7)\n",
      "Requirement already satisfied: protobuf in c:\\users\\sakshi\\anaconda3\\lib\\site-packages (from kaggle) (5.29.3)\n",
      "Requirement already satisfied: python-dateutil>=2.5.3 in c:\\users\\sakshi\\anaconda3\\lib\\site-packages (from kaggle) (2.9.0.post0)\n",
      "Requirement already satisfied: python-slugify in c:\\users\\sakshi\\anaconda3\\lib\\site-packages (from kaggle) (5.0.2)\n",
      "Requirement already satisfied: requests in c:\\users\\sakshi\\anaconda3\\lib\\site-packages (from kaggle) (2.32.3)\n",
      "Requirement already satisfied: setuptools>=21.0.0 in c:\\users\\sakshi\\anaconda3\\lib\\site-packages (from kaggle) (72.1.0)\n",
      "Requirement already satisfied: six>=1.10 in c:\\users\\sakshi\\anaconda3\\lib\\site-packages (from kaggle) (1.17.0)\n",
      "Requirement already satisfied: text-unidecode in c:\\users\\sakshi\\anaconda3\\lib\\site-packages (from kaggle) (1.3)\n",
      "Requirement already satisfied: tqdm in c:\\users\\sakshi\\anaconda3\\lib\\site-packages (from kaggle) (4.67.1)\n",
      "Requirement already satisfied: urllib3>=1.15.1 in c:\\users\\sakshi\\anaconda3\\lib\\site-packages (from kaggle) (2.3.0)\n",
      "Requirement already satisfied: webencodings in c:\\users\\sakshi\\anaconda3\\lib\\site-packages (from kaggle) (0.5.1)\n",
      "Requirement already satisfied: colorama in c:\\users\\sakshi\\anaconda3\\lib\\site-packages (from tqdm->kaggle) (0.4.6)\n"
     ]
    }
   ],
   "source": [
    "!pip install kaggle\n"
   ]
  },
  {
   "cell_type": "code",
   "execution_count": 2,
   "id": "c1cdd252-d661-4eca-b3c5-cfc8410bf71e",
   "metadata": {},
   "outputs": [
    {
     "name": "stdout",
     "output_type": "stream",
     "text": [
      "['kaggle.json']\n"
     ]
    }
   ],
   "source": [
    "import os\n",
    "print(os.listdir(\"C:/Users/Sakshi/.kaggle\"))\n"
   ]
  },
  {
   "cell_type": "code",
   "execution_count": 3,
   "id": "ebf39149-f456-45ac-883f-3a836d990fa7",
   "metadata": {},
   "outputs": [],
   "source": [
    "os.chmod(\"C:/Users/Sakshi/.kaggle/kaggle.json\", 600)\n"
   ]
  },
  {
   "cell_type": "code",
   "execution_count": 4,
   "id": "9bc80e18-1992-4821-81e4-fdb73d291a04",
   "metadata": {},
   "outputs": [
    {
     "name": "stdout",
     "output_type": "stream",
     "text": [
      "ref                                                     title                                                size  lastUpdated                 downloadCount  voteCount  usabilityRating  \n",
      "------------------------------------------------------  ---------------------------------------------  ----------  --------------------------  -------------  ---------  ---------------  \n",
      "uciml/iris                                              Iris Species                                         3687  2016-09-27 07:38:05.440000         742633       4373  0.7941176        \n",
      "himanshunakrani/iris-dataset                            Iris dataset                                         1006  2022-07-20 18:50:06.277000          68357        279  1.0              \n",
      "arshid/iris-flower-dataset                              Iris Flower Dataset                                  1010  2018-03-22 15:18:06.097000         219350       1009  0.8235294        \n",
      "vikrishnan/iris-dataset                                 Iris Dataset                                          999  2017-08-03 16:00:44.663000          55135        173  0.7647059        \n",
      "vijayaadithyanvg/iris-dataset                           IRIS DATASET                                         1023  2023-01-14 07:44:53.600000           3067         39  1.0              \n",
      "jillanisofttech/iris-dataset-uci                        Iris dataset uci                                     1307  2021-11-06 15:11:47.420000           3502         41  1.0              \n",
      "parulpandey/palmer-archipelago-antarctica-penguin-data  Palmer Archipelago (Antarctica) penguin data        11558  2020-06-09 10:14:54.563000         103179        684  0.9705882        \n",
      "taweilo/iris-dataset-elarged-with-smote                 IRIS dataset - Classification                        8977  2025-01-09 03:40:24.350000           2349         34  1.0              \n",
      "chuckyin/iris-datasets                                  Iris datasets                                        1307  2017-03-10 09:35:43.153000           4437         30  0.7352941        \n",
      "jeffheaton/iris-computer-vision                         Iris Computer Vision                              5587253  2020-11-24 21:23:29.833000           4712         40  0.875            \n",
      "rtatman/iris-dataset-json-version                       Iris Dataset (JSON Version)                          1345  2018-04-06 20:21:31.507000          29919        102  0.75             \n",
      "endofnight17j03/iris-classification                     Iris_Classification                                  1010  2023-09-14 20:46:02.420000           1626         80  1.0              \n",
      "therohk/ireland-historical-news                         Irish Times - Waxy-Wany News                     54275097  2021-09-25 10:52:48.483000           4460        163  1.0              \n",
      "sakshisatre/iris-dataset                                Iris Dataset                                         1024  2024-03-30 15:42:43.447000           1165         43  1.0              \n",
      "arslanali4343/iris-species                              Iris Species                                         1702  2020-07-02 06:09:09.680000            716         84  0.5625           \n",
      "b'samybaladram/iris-dataset-extended                      \\xf0\\x9f\\x8c\\xba Iris Dataset Extended                            109170  2023-10-27 12:28:22.797000           2698         41  1.0              '\n",
      "saurabh00007/iriscsv                                    Iris.csv                                             1307  2017-11-09 07:34:35.167000         185762        336  0.4117647        \n",
      "arunjangir245/irisraw                                   irisraw                                              1017  2023-10-15 07:05:07.410000            540         95  1.0              \n",
      "sims22/irisflowerdatasets                               IRIS-FLOWER-DATASETS                                 2025  2022-12-26 18:33:34.887000           3698         32  0.9411765        \n",
      "sondosaabed/casia-iris-thousand                         CASIA-Iris-Thousand                             514629968  2024-06-14 17:35:40.447000           1888         12  1.0              \n"
     ]
    }
   ],
   "source": [
    "!kaggle datasets list -s iris\n"
   ]
  },
  {
   "cell_type": "code",
   "execution_count": 5,
   "id": "c94a3d2c-ead5-4824-854b-462bb179c9fb",
   "metadata": {},
   "outputs": [
    {
     "name": "stdout",
     "output_type": "stream",
     "text": [
      "Dataset URL: https://www.kaggle.com/datasets/uciml/iris\n",
      "License(s): CC0-1.0\n",
      "iris.zip: Skipping, found more recently modified local copy (use --force to force download)\n"
     ]
    }
   ],
   "source": [
    "!kaggle datasets download -d uciml/iris -p ./iris_data\n"
   ]
  },
  {
   "cell_type": "code",
   "execution_count": 6,
   "id": "70ca099a-f739-4614-96b2-84b99a9250bc",
   "metadata": {},
   "outputs": [],
   "source": [
    "import zipfile\n",
    "\n",
    "with zipfile.ZipFile(\"./iris_data/iris.zip\", 'r') as zip_ref:\n",
    "    zip_ref.extractall(\"./iris_data\")\n"
   ]
  },
  {
   "cell_type": "code",
   "execution_count": 92,
   "id": "10f530b0-4646-42a7-8513-170c7eebf3f7",
   "metadata": {},
   "outputs": [],
   "source": [
    "\n",
    "import numpy as np\n",
    "file_path = r\"C:\\Users\\Sakshi\\Desktop\\python1\\iris_data\\Iris.csv\"  # adjust if your file is elsewhere\n",
    "data = np.genfromtxt(file_path, delimiter=\",\", dtype=str)\n"
   ]
  },
  {
   "cell_type": "code",
   "execution_count": 75,
   "id": "db012083-ed7a-4eaf-8889-4b1b68139e7f",
   "metadata": {},
   "outputs": [
    {
     "name": "stdout",
     "output_type": "stream",
     "text": [
      "Iris.csv\n",
      "Iris\n"
     ]
    }
   ],
   "source": [
    "import os\n",
    "\n",
    "file_path = r\"C:\\Users\\Sakshi\\Desktop\\python1\\iris_data\\Iris.csv\"\n",
    "\n",
    "# File name with extension\n",
    "file_name = os.path.basename(file_path)\n",
    "print(file_name)  # Iris.csv\n",
    "\n",
    "# File name without extension\n",
    "name_only = os.path.splitext(file_name)[0]\n",
    "print(name_only)  # Iris\n"
   ]
  },
  {
   "cell_type": "code",
   "execution_count": 99,
   "id": "251cdd0e-5cc6-413c-b5e2-8b84bf7efdab",
   "metadata": {},
   "outputs": [],
   "source": [
    "from sklearn.datasets import load_iris\n",
    "data = load_iris()\n",
    "X = data['data']           # numeric features\n",
    "y = data['target']         # labels as 0,1,2\n"
   ]
  },
  {
   "cell_type": "code",
   "execution_count": 7,
   "id": "6358ef9a-4824-42af-9140-94b1c0a4ec76",
   "metadata": {},
   "outputs": [
    {
     "name": "stdout",
     "output_type": "stream",
     "text": [
      "[['1' '5.1' '3.5' '1.4' '0.2' 'Iris-setosa']\n",
      " ['2' '4.9' '3.0' '1.4' '0.2' 'Iris-setosa']\n",
      " ['3' '4.7' '3.2' '1.3' '0.2' 'Iris-setosa']\n",
      " ['4' '4.6' '3.1' '1.5' '0.2' 'Iris-setosa']\n",
      " ['5' '5.0' '3.6' '1.4' '0.2' 'Iris-setosa']]\n"
     ]
    }
   ],
   "source": [
    "import numpy as np\n",
    "\n",
    "# load CSV (skip header row, since Iris.csv has column names)\n",
    "data = np.genfromtxt(\"./iris_data/Iris.csv\", delimiter=\",\", skip_header=1, dtype=str)\n",
    "\n",
    "# first 5 rows\n",
    "print(data[:5])\n"
   ]
  },
  {
   "cell_type": "code",
   "execution_count": 8,
   "id": "75377ec2-8663-4c84-84e6-f521bf601940",
   "metadata": {},
   "outputs": [],
   "source": [
    "from sklearn.datasets import load_iris"
   ]
  },
  {
   "cell_type": "markdown",
   "id": "040b16f6-981d-4034-9293-f91ef2569a6d",
   "metadata": {},
   "source": [
    "## 📦 Step 1: Load the Dataset"
   ]
  },
  {
   "cell_type": "code",
   "execution_count": 22,
   "id": "5df80639-08cd-4a71-bcc3-9c799c4f122d",
   "metadata": {},
   "outputs": [
    {
     "name": "stdout",
     "output_type": "stream",
     "text": [
      "✅ File loaded successfully!\n",
      "Shape: (150, 6)\n",
      "   Id  SepalLengthCm  SepalWidthCm  PetalLengthCm  PetalWidthCm      Species\n",
      "0   1            5.1           3.5            1.4           0.2  Iris-setosa\n",
      "1   2            4.9           3.0            1.4           0.2  Iris-setosa\n",
      "2   3            4.7           3.2            1.3           0.2  Iris-setosa\n",
      "3   4            4.6           3.1            1.5           0.2  Iris-setosa\n",
      "4   5            5.0           3.6            1.4           0.2  Iris-setosa\n"
     ]
    }
   ],
   "source": [
    "import os\n",
    "import pandas as pd\n",
    "\n",
    "# your dataset path\n",
    "file_path = r\"C:\\Users\\Sakshi\\Desktop\\python1\\iris_data\\Iris.csv\"\n",
    "\n",
    "# check if file exists\n",
    "if os.path.exists(file_path):\n",
    "    df = pd.read_csv(file_path)\n",
    "    print(\"✅ File loaded successfully!\")\n",
    "    print(\"Shape:\", df.shape)\n",
    "    print(df.head())\n",
    "else:\n",
    "    print(\"❌ File not found at:\", file_path)\n",
    "    print(\"Current working directory:\", os.getcwd())\n",
    "    print(\"👉 Tip: Make sure the path is correct or change with os.chdir()\")\n"
   ]
  },
  {
   "cell_type": "code",
   "execution_count": 27,
   "id": "5cad00c1-b5e9-4c45-a539-174b680fc630",
   "metadata": {},
   "outputs": [],
   "source": [
    "#load data(skip header row,last column=Labels)\n",
    "data = np.genfromtxt(\"C:\\\\Users\\\\Sakshi\\\\Desktop\\\\python1\\\\iris_data\\\\Iris.csv\", \n",
    "                     delimiter=\",\", dtype=str)\n"
   ]
  },
  {
   "cell_type": "code",
   "execution_count": 33,
   "id": "250e6b22-3280-4c01-9c67-470cf6325c09",
   "metadata": {},
   "outputs": [
    {
     "name": "stdout",
     "output_type": "stream",
     "text": [
      "['Id' 'SepalLengthCm' 'SepalWidthCm' 'PetalLengthCm' 'PetalWidthCm'\n",
      " 'Species']\n",
      "[['1' '5.1' '3.5' '1.4' '0.2' 'Iris-setosa']\n",
      " ['2' '4.9' '3.0' '1.4' '0.2' 'Iris-setosa']\n",
      " ['3' '4.7' '3.2' '1.3' '0.2' 'Iris-setosa']\n",
      " ['4' '4.6' '3.1' '1.5' '0.2' 'Iris-setosa']\n",
      " ['5' '5.0' '3.6' '1.4' '0.2' 'Iris-setosa']\n",
      " ['6' '5.4' '3.9' '1.7' '0.4' 'Iris-setosa']\n",
      " ['7' '4.6' '3.4' '1.4' '0.3' 'Iris-setosa']\n",
      " ['8' '5.0' '3.4' '1.5' '0.2' 'Iris-setosa']\n",
      " ['9' '4.4' '2.9' '1.4' '0.2' 'Iris-setosa']\n",
      " ['10' '4.9' '3.1' '1.5' '0.1' 'Iris-setosa']\n",
      " ['11' '5.4' '3.7' '1.5' '0.2' 'Iris-setosa']\n",
      " ['12' '4.8' '3.4' '1.6' '0.2' 'Iris-setosa']\n",
      " ['13' '4.8' '3.0' '1.4' '0.1' 'Iris-setosa']\n",
      " ['14' '4.3' '3.0' '1.1' '0.1' 'Iris-setosa']\n",
      " ['15' '5.8' '4.0' '1.2' '0.2' 'Iris-setosa']\n",
      " ['16' '5.7' '4.4' '1.5' '0.4' 'Iris-setosa']\n",
      " ['17' '5.4' '3.9' '1.3' '0.4' 'Iris-setosa']\n",
      " ['18' '5.1' '3.5' '1.4' '0.3' 'Iris-setosa']\n",
      " ['19' '5.7' '3.8' '1.7' '0.3' 'Iris-setosa']\n",
      " ['20' '5.1' '3.8' '1.5' '0.3' 'Iris-setosa']\n",
      " ['21' '5.4' '3.4' '1.7' '0.2' 'Iris-setosa']\n",
      " ['22' '5.1' '3.7' '1.5' '0.4' 'Iris-setosa']\n",
      " ['23' '4.6' '3.6' '1.0' '0.2' 'Iris-setosa']\n",
      " ['24' '5.1' '3.3' '1.7' '0.5' 'Iris-setosa']\n",
      " ['25' '4.8' '3.4' '1.9' '0.2' 'Iris-setosa']\n",
      " ['26' '5.0' '3.0' '1.6' '0.2' 'Iris-setosa']\n",
      " ['27' '5.0' '3.4' '1.6' '0.4' 'Iris-setosa']\n",
      " ['28' '5.2' '3.5' '1.5' '0.2' 'Iris-setosa']\n",
      " ['29' '5.2' '3.4' '1.4' '0.2' 'Iris-setosa']\n",
      " ['30' '4.7' '3.2' '1.6' '0.2' 'Iris-setosa']\n",
      " ['31' '4.8' '3.1' '1.6' '0.2' 'Iris-setosa']\n",
      " ['32' '5.4' '3.4' '1.5' '0.4' 'Iris-setosa']\n",
      " ['33' '5.2' '4.1' '1.5' '0.1' 'Iris-setosa']\n",
      " ['34' '5.5' '4.2' '1.4' '0.2' 'Iris-setosa']\n",
      " ['35' '4.9' '3.1' '1.5' '0.1' 'Iris-setosa']\n",
      " ['36' '5.0' '3.2' '1.2' '0.2' 'Iris-setosa']\n",
      " ['37' '5.5' '3.5' '1.3' '0.2' 'Iris-setosa']\n",
      " ['38' '4.9' '3.1' '1.5' '0.1' 'Iris-setosa']\n",
      " ['39' '4.4' '3.0' '1.3' '0.2' 'Iris-setosa']\n",
      " ['40' '5.1' '3.4' '1.5' '0.2' 'Iris-setosa']\n",
      " ['41' '5.0' '3.5' '1.3' '0.3' 'Iris-setosa']\n",
      " ['42' '4.5' '2.3' '1.3' '0.3' 'Iris-setosa']\n",
      " ['43' '4.4' '3.2' '1.3' '0.2' 'Iris-setosa']\n",
      " ['44' '5.0' '3.5' '1.6' '0.6' 'Iris-setosa']\n",
      " ['45' '5.1' '3.8' '1.9' '0.4' 'Iris-setosa']\n",
      " ['46' '4.8' '3.0' '1.4' '0.3' 'Iris-setosa']\n",
      " ['47' '5.1' '3.8' '1.6' '0.2' 'Iris-setosa']\n",
      " ['48' '4.6' '3.2' '1.4' '0.2' 'Iris-setosa']\n",
      " ['49' '5.3' '3.7' '1.5' '0.2' 'Iris-setosa']\n",
      " ['50' '5.0' '3.3' '1.4' '0.2' 'Iris-setosa']\n",
      " ['51' '7.0' '3.2' '4.7' '1.4' 'Iris-versicolor']\n",
      " ['52' '6.4' '3.2' '4.5' '1.5' 'Iris-versicolor']\n",
      " ['53' '6.9' '3.1' '4.9' '1.5' 'Iris-versicolor']\n",
      " ['54' '5.5' '2.3' '4.0' '1.3' 'Iris-versicolor']\n",
      " ['55' '6.5' '2.8' '4.6' '1.5' 'Iris-versicolor']\n",
      " ['56' '5.7' '2.8' '4.5' '1.3' 'Iris-versicolor']\n",
      " ['57' '6.3' '3.3' '4.7' '1.6' 'Iris-versicolor']\n",
      " ['58' '4.9' '2.4' '3.3' '1.0' 'Iris-versicolor']\n",
      " ['59' '6.6' '2.9' '4.6' '1.3' 'Iris-versicolor']\n",
      " ['60' '5.2' '2.7' '3.9' '1.4' 'Iris-versicolor']\n",
      " ['61' '5.0' '2.0' '3.5' '1.0' 'Iris-versicolor']\n",
      " ['62' '5.9' '3.0' '4.2' '1.5' 'Iris-versicolor']\n",
      " ['63' '6.0' '2.2' '4.0' '1.0' 'Iris-versicolor']\n",
      " ['64' '6.1' '2.9' '4.7' '1.4' 'Iris-versicolor']\n",
      " ['65' '5.6' '2.9' '3.6' '1.3' 'Iris-versicolor']\n",
      " ['66' '6.7' '3.1' '4.4' '1.4' 'Iris-versicolor']\n",
      " ['67' '5.6' '3.0' '4.5' '1.5' 'Iris-versicolor']\n",
      " ['68' '5.8' '2.7' '4.1' '1.0' 'Iris-versicolor']\n",
      " ['69' '6.2' '2.2' '4.5' '1.5' 'Iris-versicolor']\n",
      " ['70' '5.6' '2.5' '3.9' '1.1' 'Iris-versicolor']\n",
      " ['71' '5.9' '3.2' '4.8' '1.8' 'Iris-versicolor']\n",
      " ['72' '6.1' '2.8' '4.0' '1.3' 'Iris-versicolor']\n",
      " ['73' '6.3' '2.5' '4.9' '1.5' 'Iris-versicolor']\n",
      " ['74' '6.1' '2.8' '4.7' '1.2' 'Iris-versicolor']\n",
      " ['75' '6.4' '2.9' '4.3' '1.3' 'Iris-versicolor']\n",
      " ['76' '6.6' '3.0' '4.4' '1.4' 'Iris-versicolor']\n",
      " ['77' '6.8' '2.8' '4.8' '1.4' 'Iris-versicolor']\n",
      " ['78' '6.7' '3.0' '5.0' '1.7' 'Iris-versicolor']\n",
      " ['79' '6.0' '2.9' '4.5' '1.5' 'Iris-versicolor']\n",
      " ['80' '5.7' '2.6' '3.5' '1.0' 'Iris-versicolor']\n",
      " ['81' '5.5' '2.4' '3.8' '1.1' 'Iris-versicolor']\n",
      " ['82' '5.5' '2.4' '3.7' '1.0' 'Iris-versicolor']\n",
      " ['83' '5.8' '2.7' '3.9' '1.2' 'Iris-versicolor']\n",
      " ['84' '6.0' '2.7' '5.1' '1.6' 'Iris-versicolor']\n",
      " ['85' '5.4' '3.0' '4.5' '1.5' 'Iris-versicolor']\n",
      " ['86' '6.0' '3.4' '4.5' '1.6' 'Iris-versicolor']\n",
      " ['87' '6.7' '3.1' '4.7' '1.5' 'Iris-versicolor']\n",
      " ['88' '6.3' '2.3' '4.4' '1.3' 'Iris-versicolor']\n",
      " ['89' '5.6' '3.0' '4.1' '1.3' 'Iris-versicolor']\n",
      " ['90' '5.5' '2.5' '4.0' '1.3' 'Iris-versicolor']\n",
      " ['91' '5.5' '2.6' '4.4' '1.2' 'Iris-versicolor']\n",
      " ['92' '6.1' '3.0' '4.6' '1.4' 'Iris-versicolor']\n",
      " ['93' '5.8' '2.6' '4.0' '1.2' 'Iris-versicolor']\n",
      " ['94' '5.0' '2.3' '3.3' '1.0' 'Iris-versicolor']\n",
      " ['95' '5.6' '2.7' '4.2' '1.3' 'Iris-versicolor']\n",
      " ['96' '5.7' '3.0' '4.2' '1.2' 'Iris-versicolor']\n",
      " ['97' '5.7' '2.9' '4.2' '1.3' 'Iris-versicolor']\n",
      " ['98' '6.2' '2.9' '4.3' '1.3' 'Iris-versicolor']\n",
      " ['99' '5.1' '2.5' '3.0' '1.1' 'Iris-versicolor']\n",
      " ['100' '5.7' '2.8' '4.1' '1.3' 'Iris-versicolor']\n",
      " ['101' '6.3' '3.3' '6.0' '2.5' 'Iris-virginica']\n",
      " ['102' '5.8' '2.7' '5.1' '1.9' 'Iris-virginica']\n",
      " ['103' '7.1' '3.0' '5.9' '2.1' 'Iris-virginica']\n",
      " ['104' '6.3' '2.9' '5.6' '1.8' 'Iris-virginica']\n",
      " ['105' '6.5' '3.0' '5.8' '2.2' 'Iris-virginica']\n",
      " ['106' '7.6' '3.0' '6.6' '2.1' 'Iris-virginica']\n",
      " ['107' '4.9' '2.5' '4.5' '1.7' 'Iris-virginica']\n",
      " ['108' '7.3' '2.9' '6.3' '1.8' 'Iris-virginica']\n",
      " ['109' '6.7' '2.5' '5.8' '1.8' 'Iris-virginica']\n",
      " ['110' '7.2' '3.6' '6.1' '2.5' 'Iris-virginica']\n",
      " ['111' '6.5' '3.2' '5.1' '2.0' 'Iris-virginica']\n",
      " ['112' '6.4' '2.7' '5.3' '1.9' 'Iris-virginica']\n",
      " ['113' '6.8' '3.0' '5.5' '2.1' 'Iris-virginica']\n",
      " ['114' '5.7' '2.5' '5.0' '2.0' 'Iris-virginica']\n",
      " ['115' '5.8' '2.8' '5.1' '2.4' 'Iris-virginica']\n",
      " ['116' '6.4' '3.2' '5.3' '2.3' 'Iris-virginica']\n",
      " ['117' '6.5' '3.0' '5.5' '1.8' 'Iris-virginica']\n",
      " ['118' '7.7' '3.8' '6.7' '2.2' 'Iris-virginica']\n",
      " ['119' '7.7' '2.6' '6.9' '2.3' 'Iris-virginica']\n",
      " ['120' '6.0' '2.2' '5.0' '1.5' 'Iris-virginica']\n",
      " ['121' '6.9' '3.2' '5.7' '2.3' 'Iris-virginica']\n",
      " ['122' '5.6' '2.8' '4.9' '2.0' 'Iris-virginica']\n",
      " ['123' '7.7' '2.8' '6.7' '2.0' 'Iris-virginica']\n",
      " ['124' '6.3' '2.7' '4.9' '1.8' 'Iris-virginica']\n",
      " ['125' '6.7' '3.3' '5.7' '2.1' 'Iris-virginica']\n",
      " ['126' '7.2' '3.2' '6.0' '1.8' 'Iris-virginica']\n",
      " ['127' '6.2' '2.8' '4.8' '1.8' 'Iris-virginica']\n",
      " ['128' '6.1' '3.0' '4.9' '1.8' 'Iris-virginica']\n",
      " ['129' '6.4' '2.8' '5.6' '2.1' 'Iris-virginica']\n",
      " ['130' '7.2' '3.0' '5.8' '1.6' 'Iris-virginica']\n",
      " ['131' '7.4' '2.8' '6.1' '1.9' 'Iris-virginica']\n",
      " ['132' '7.9' '3.8' '6.4' '2.0' 'Iris-virginica']\n",
      " ['133' '6.4' '2.8' '5.6' '2.2' 'Iris-virginica']\n",
      " ['134' '6.3' '2.8' '5.1' '1.5' 'Iris-virginica']\n",
      " ['135' '6.1' '2.6' '5.6' '1.4' 'Iris-virginica']\n",
      " ['136' '7.7' '3.0' '6.1' '2.3' 'Iris-virginica']\n",
      " ['137' '6.3' '3.4' '5.6' '2.4' 'Iris-virginica']\n",
      " ['138' '6.4' '3.1' '5.5' '1.8' 'Iris-virginica']\n",
      " ['139' '6.0' '3.0' '4.8' '1.8' 'Iris-virginica']\n",
      " ['140' '6.9' '3.1' '5.4' '2.1' 'Iris-virginica']\n",
      " ['141' '6.7' '3.1' '5.6' '2.4' 'Iris-virginica']\n",
      " ['142' '6.9' '3.1' '5.1' '2.3' 'Iris-virginica']\n",
      " ['143' '5.8' '2.7' '5.1' '1.9' 'Iris-virginica']\n",
      " ['144' '6.8' '3.2' '5.9' '2.3' 'Iris-virginica']\n",
      " ['145' '6.7' '3.3' '5.7' '2.5' 'Iris-virginica']\n",
      " ['146' '6.7' '3.0' '5.2' '2.3' 'Iris-virginica']\n",
      " ['147' '6.3' '2.5' '5.0' '1.9' 'Iris-virginica']\n",
      " ['148' '6.5' '3.0' '5.2' '2.0' 'Iris-virginica']\n",
      " ['149' '6.2' '3.4' '5.4' '2.3' 'Iris-virginica']\n",
      " ['150' '5.9' '3.0' '5.1' '1.8' 'Iris-virginica']]\n"
     ]
    }
   ],
   "source": [
    "#split header and data\n",
    "header=data[0] #column names\n",
    "print(header)\n",
    "rows=data[1:] #actual data\n",
    "print(rows)"
   ]
  },
  {
   "cell_type": "code",
   "execution_count": 34,
   "id": "0cebedcb-4179-4752-8099-e407eb001654",
   "metadata": {},
   "outputs": [],
   "source": [
    "#numeric features (all except last columns)\n",
    "x=rows[:,1:-1].astype(float) #columns 1-4 are numeric\n",
    "y=rows[:,-1] # last column is species"
   ]
  },
  {
   "cell_type": "raw",
   "id": "187e192c-a471-4d5c-940c-6c8c29ef6740",
   "metadata": {},
   "source": [
    "features=> x\n",
    "labels=> y"
   ]
  },
  {
   "cell_type": "code",
   "execution_count": 38,
   "id": "9f65e6a5-150c-4412-a082-2a30d0505eda",
   "metadata": {},
   "outputs": [
    {
     "name": "stdout",
     "output_type": "stream",
     "text": [
      "Shape of x: (150, 4)\n",
      "Shape of y: (150,)\n",
      "feature names: ['SepalLengthCm' 'SepalWidthCm' 'PetalLengthCm' 'PetalWidthCm']\n",
      "Unique classes: ['Iris-setosa' 'Iris-versicolor' 'Iris-virginica']\n"
     ]
    }
   ],
   "source": [
    "print(\"Shape of x:\" , x.shape) # X is numbers → used for analysis / calculations.X\" = all the features (numbers only)\n",
    "print(\"Shape of y:\" , y.shape) #y is categories (strings) → what you try to classify/predict, \"y\" = the labels (species names, categorical)\n",
    "print(\"feature names:\" , header[1:-1])\n",
    "print(\"Unique classes:\", np.unique(y))"
   ]
  },
  {
   "cell_type": "code",
   "execution_count": 37,
   "id": "b70723a5-3e7b-4855-af1e-8e03af75a731",
   "metadata": {},
   "outputs": [
    {
     "name": "stdout",
     "output_type": "stream",
     "text": [
      "Shape of features: (151, 5)\n",
      "Unique labels: ['Iris-setosa' 'Iris-versicolor' 'Iris-virginica' 'Species']\n"
     ]
    }
   ],
   "source": [
    "features = np.array([row[:-1] for row in data])\n",
    "labels = np.array([row[-1] for row in data])\n",
    "print(\"Shape of features:\", features.shape)\n",
    "print(\"Unique labels:\", np.unique(labels))\n"
   ]
  },
  {
   "cell_type": "markdown",
   "id": "dc231189-536e-4fce-987f-33f4a8b7c1f6",
   "metadata": {},
   "source": [
    "## 🔍 Step 2: Quick sanity checks\n",
    "- 👉 Thinking: Always validate data integrity before analysis."
   ]
  },
  {
   "cell_type": "code",
   "execution_count": 41,
   "id": "2442ee68-93d9-43e2-b218-9cb2ddc4dd3c",
   "metadata": {},
   "outputs": [
    {
     "name": "stdout",
     "output_type": "stream",
     "text": [
      "Any NaN in x? False\n",
      "Any Inf in x? False\n"
     ]
    }
   ],
   "source": [
    "print(\"Any NaN in x?\" , np.isnan(x).any())\n",
    "print(\"Any Inf in x?\" , np.isinf(x).any())"
   ]
  },
  {
   "cell_type": "code",
   "execution_count": 49,
   "id": "6d9f8318-1af0-4605-8f05-6cc43e4aafeb",
   "metadata": {},
   "outputs": [
    {
     "name": "stdout",
     "output_type": "stream",
     "text": [
      "First 5 rows:\n",
      " [[5.1 3.5 1.4 0.2]\n",
      " [4.9 3.  1.4 0.2]\n",
      " [4.7 3.2 1.3 0.2]\n",
      " [4.6 3.1 1.5 0.2]\n",
      " [5.  3.6 1.4 0.2]]\n",
      "First 5 Labels: ['Iris-setosa' 'Iris-setosa' 'Iris-setosa' 'Iris-setosa' 'Iris-setosa']\n"
     ]
    }
   ],
   "source": [
    "#first 5 rows\n",
    "print(\"First 5 rows:\\n\",x[0:5])#[:5] can work also\n",
    "print(\"First 5 Labels:\" , y [:5])\n",
    "        "
   ]
  },
  {
   "cell_type": "markdown",
   "id": "a26356ad-050f-4b36-93af-7ea5806a0737",
   "metadata": {},
   "source": [
    "## 📊 Step 3: Basic Statistic\n",
    "- 👉 Thinking: Compare mean vs median → if they differ a lot, distribution is skewed."
   ]
  },
  {
   "cell_type": "code",
   "execution_count": 58,
   "id": "f93a6a52-6c79-47e1-9072-fa8f2faa9ea9",
   "metadata": {},
   "outputs": [
    {
     "name": "stdout",
     "output_type": "stream",
     "text": [
      "SepalLengthCm   mean=5.84, std=0.83,min=4.30,max=7.90\n",
      "SepalWidthCm    mean=3.05, std=0.43,min=2.00,max=4.40\n",
      "PetalLengthCm   mean=3.76, std=1.76,min=1.00,max=6.90\n",
      "PetalWidthCm    mean=1.20, std=0.76,min=0.10,max=2.50\n"
     ]
    }
   ],
   "source": [
    "means=np.mean(x,axis=0) #axis=0 column coz row vise is too much\n",
    "medians=np.median(x,axis=0)\n",
    "stds=np.std(x,axis=0)\n",
    "mins=np.min(x,axis=0)\n",
    "maxs=np.max(x,axis=0)\n",
    "for name , mean,std,mn,mx in zip(header[1:-1],means,stds,mins,maxs):\n",
    "         print(f\"{name:15} mean={mean:.2f}, std={std:.2f},min={mn:.2f},max={mx:.2f}\")\n",
    "    "
   ]
  },
  {
   "cell_type": "markdown",
   "id": "92fdd629-8a23-400d-8983-66e57be8c684",
   "metadata": {},
   "source": [
    "##  📈Step 4: Class-Distribution"
   ]
  },
  {
   "cell_type": "code",
   "execution_count": 59,
   "id": "6aaa8d24-d1ab-49ef-a6cd-5931c108f3df",
   "metadata": {},
   "outputs": [
    {
     "name": "stdout",
     "output_type": "stream",
     "text": [
      "{np.str_('Iris-setosa'): np.int64(50), np.str_('Iris-versicolor'): np.int64(50), np.str_('Iris-virginica'): np.int64(50)}\n"
     ]
    }
   ],
   "source": [
    "classes, counts=np.unique(y,return_counts=True)\n",
    "print(dict(zip(classes,counts)))\n",
    "        "
   ]
  },
  {
   "cell_type": "raw",
   "id": "d8221b89-546c-4996-8fe5-1300e7d227ec",
   "metadata": {},
   "source": [
    "iris is balanced : 50 each"
   ]
  },
  {
   "cell_type": "markdown",
   "id": "557b2b0f-ad7a-40dc-a05e-a0a9f444e899",
   "metadata": {},
   "source": [
    " ## Step 5: Class-wise Analysis"
   ]
  },
  {
   "cell_type": "code",
   "execution_count": 62,
   "id": "ad166fd6-55f5-4221-b33b-b39c64d184b6",
   "metadata": {},
   "outputs": [
    {
     "name": "stdout",
     "output_type": "stream",
     "text": [
      "\n",
      "Class Iris-setosa mean per feature:\n",
      "[5.006 3.418 1.464 0.244]\n",
      "\n",
      "Class Iris-versicolor mean per feature:\n",
      "[5.936 2.77  4.26  1.326]\n",
      "\n",
      "Class Iris-virginica mean per feature:\n",
      "[6.588 2.974 5.552 2.026]\n"
     ]
    }
   ],
   "source": [
    "for cls in np.unique(y):\n",
    "    x_cls=x[y==cls]\n",
    "    print(f\"\\nClass {cls} mean per feature:\")\n",
    "    print(np.mean(x_cls,axis=0))"
   ]
  },
  {
   "cell_type": "markdown",
   "id": "bbe8b25f-7067-4bc2-a078-a88d5d8fbeb4",
   "metadata": {},
   "source": [
    "#### Insights from these means\n",
    "1.Petal length & width are the most distinguishing features between classes.\n",
    "- Setosa: very small petals\n",
    "- Versicolor: medium petals\n",
    "- Virginica: large petals\n",
    "2.Sepal dimensions also increase slightly, but they overlap more than petal dimensions.\n",
    "3.This is why simple visualizations like scatter plots of petal length vs width can separate classes almost perfectly."
   ]
  },
  {
   "cell_type": "markdown",
   "id": "e5d5ce84-391c-495a-9b99-f32f5c73bc7b",
   "metadata": {},
   "source": [
    "## 🔹 Step 6: Correlation & Covariance"
   ]
  },
  {
   "cell_type": "code",
   "execution_count": 77,
   "id": "90651acc-a3c2-4a80-ad15-bc47d8b7feea",
   "metadata": {},
   "outputs": [
    {
     "name": "stdout",
     "output_type": "stream",
     "text": [
      "\n",
      "Correlation matrix :\n",
      " [[ 1.   -0.11  0.87  0.82]\n",
      " [-0.11  1.   -0.42 -0.36]\n",
      " [ 0.87 -0.42  1.    0.96]\n",
      " [ 0.82 -0.36  0.96  1.  ]]\n"
     ]
    }
   ],
   "source": [
    "corr=np.corrcoef(x,rowvar=False)\n",
    "print(\"\\nCorrelation matrix :\\n\" , np.round(corr,2))"
   ]
  },
  {
   "cell_type": "code",
   "execution_count": 80,
   "id": "d922fd64-63b6-4c3f-8324-f7b121cbe0eb",
   "metadata": {},
   "outputs": [
    {
     "name": "stdout",
     "output_type": "stream",
     "text": [
      "First row features: [5.1 3.5 1.4 0.2]\n"
     ]
    }
   ],
   "source": [
    "first_row_features = x[0]        # shape (4,)\n",
    "print(\"First row features:\", first_row_features)"
   ]
  },
  {
   "cell_type": "code",
   "execution_count": 97,
   "id": "87006593-48f0-4ac3-ae44-45e1f80e1f1b",
   "metadata": {},
   "outputs": [
    {
     "name": "stdout",
     "output_type": "stream",
     "text": [
      "Features shape: (150, 4)\n",
      "Labels shape: (150,)\n",
      "Feature names: ['sepal length (cm)', 'sepal width (cm)', 'petal length (cm)', 'petal width (cm)']\n",
      "Target names: ['setosa' 'versicolor' 'virginica']\n"
     ]
    }
   ],
   "source": [
    "from sklearn.datasets import load_iris\n",
    "import numpy as np\n",
    "\n",
    "# Load dataset\n",
    "data = load_iris()\n",
    "X = data['data']           # shape (150, 4) → numeric features\n",
    "y = data['target']         # shape (150,) → labels encoded as 0,1,2\n",
    "feature_names = data['feature_names']  # ['sepal length (cm)', ...]\n",
    "target_names = data['target_names']    # ['setosa','versicolor','virginica']\n",
    "\n",
    "# Quick check\n",
    "print(\"Features shape:\", X.shape)\n",
    "print(\"Labels shape:\", y.shape)\n",
    "print(\"Feature names:\", feature_names)\n",
    "print(\"Target names:\", target_names)\n"
   ]
  },
  {
   "cell_type": "code",
   "execution_count": null,
   "id": "db96e125-1a1b-46a3-84f1-ec7f83ef1c8f",
   "metadata": {},
   "outputs": [],
   "source": []
  },
  {
   "cell_type": "markdown",
   "id": "3b880474-188b-43ae-a7ec-c19c8f584d6d",
   "metadata": {},
   "source": [
    "## 📈 Step 6: Feature Ranking by Variance"
   ]
  },
  {
   "cell_type": "code",
   "execution_count": 102,
   "id": "accc5f70-28d1-4c39-8f6e-d0f8b91d3eac",
   "metadata": {},
   "outputs": [
    {
     "name": "stdout",
     "output_type": "stream",
     "text": [
      "Features ranked by variance: [2 0 3 1]\n"
     ]
    }
   ],
   "source": [
    "variances = np.var(x, axis=0)\n",
    "ranked_indices = np.argsort(variances)[::-1]\n",
    "print(\"Features ranked by variance:\", ranked_indices)"
   ]
  },
  {
   "cell_type": "raw",
   "id": "8e9fd703-1a69-4c3c-be59-0cd939bc62d3",
   "metadata": {},
   "source": [
    "2 → PetalLengthCm → highest variance\n",
    "0 → SepalLengthCm → 2nd highest variance\n",
    "3 → PetalWidthCm → 3rd\n",
    "1 → SepalWidthCm → lowest variance\n",
    "✅ So PetalLengthCm varies the most across the Iris samples, and SepalWidthCm varies the least."
   ]
  },
  {
   "cell_type": "markdown",
   "id": "3320deaa-66f1-4782-83b7-305f0ea1d2c4",
   "metadata": {},
   "source": [
    "## 🔹 Step 7: Visualization"
   ]
  },
  {
   "cell_type": "code",
   "execution_count": 103,
   "id": "3e7902c0-6957-4026-aa00-a5f163bff9c1",
   "metadata": {},
   "outputs": [
    {
     "data": {
      "image/png": "[encoded data removed]",
      "text/plain": [
       "<Figure size 640x480 with 1 Axes>"
      ]
     },
     "metadata": {},
     "output_type": "display_data"
    },
    {
     "data": {
      "image/png": "[encoded data removed]",
      "text/plain": [
       "<Figure size 640x480 with 1 Axes>"
      ]
     },
     "metadata": {},
     "output_type": "display_data"
    }
   ],
   "source": [
    "import matplotlib.pyplot as plt\n",
    "\n",
    "# Histogram of first feature\n",
    "plt.hist(X[:,0], bins=20)\n",
    "plt.title(\"Distribution of SepalLengthCm\")\n",
    "plt.show()\n",
    "\n",
    "# Scatter plot for first two features\n",
    "for cls in np.unique(y):\n",
    "    plt.scatter(X[y==cls,0], X[y==cls,1], label=cls)\n",
    "plt.xlabel(header[1]); plt.ylabel(header[2])\n",
    "plt.legend(); plt.show()\n"
   ]
  },
  {
   "cell_type": "code",
   "execution_count": null,
   "id": "357353c8-062b-4213-8569-05095aca44bc",
   "metadata": {},
   "outputs": [],
   "source": []
  },
  {
   "cell_type": "code",
   "execution_count": null,
   "id": "fc344088-7eaf-4c93-90df-6014344844ea",
   "metadata": {},
   "outputs": [],
   "source": []
  }
 ],
 "metadata": {
  "kernelspec": {
   "display_name": "Python [conda env:base] *",
   "language": "python",
   "name": "conda-base-py"
  },
  "language_info": {
   "codemirror_mode": {
    "name": "ipython",
    "version": 3
   },
   "file_extension": ".py",
   "mimetype": "text/x-python",
   "name": "python",
   "nbconvert_exporter": "python",
   "pygments_lexer": "ipython3",
   "version": "3.13.5"
  }
 },
 "nbformat": 4,
 "nbformat_minor": 5
}
