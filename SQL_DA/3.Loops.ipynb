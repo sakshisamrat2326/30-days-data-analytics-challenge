{
 "cells": [
  {
   "cell_type": "markdown",
   "id": "a90b702b-a217-4913-8a1d-68b84d6133ce",
   "metadata": {},
   "source": [
    "# 🐍 Python Loops Cheat Sheet\n",
    "\n",
    "## 1. for Loop\n",
    "```python\n",
    "for variable in sequence:\n",
    "    # code block\n"
   ]
  },
  {
   "cell_type": "markdown",
   "id": "70c868b7-a0aa-441f-82d4-fe0b73af9424",
   "metadata": {},
   "source": [
    "✅ Example:"
   ]
  },
  {
   "cell_type": "code",
   "execution_count": 1,
   "id": "266a9179-c61e-423c-8fe4-6fa9ed97f292",
   "metadata": {},
   "outputs": [
    {
     "name": "stdout",
     "output_type": "stream",
     "text": [
      "0\n",
      "1\n",
      "2\n",
      "3\n",
      "4\n"
     ]
    }
   ],
   "source": [
    "for i in range(5):\n",
    "    print(i)"
   ]
  },
  {
   "cell_type": "markdown",
   "id": "d058e16d-955f-43f0-8b91-a601f5baa83e",
   "metadata": {},
   "source": [
    "<h2 data-start=\"704\" data-end=\"720\">2. while Loop</h2>"
   ]
  },
  {
   "cell_type": "markdown",
   "id": "24325807-e108-4ae3-98ff-ac30a26d1053",
   "metadata": {},
   "source": [
    "```python\n",
    "while condition:\n",
    "    # code block\n"
   ]
  },
  {
   "cell_type": "markdown",
   "id": "29567c05-6538-42ab-ac73-a417feb7f036",
   "metadata": {},
   "source": [
    "✅ Example:"
   ]
  },
  {
   "cell_type": "code",
   "execution_count": 2,
   "id": "b17df92d-c4c2-4c9b-9a73-87829320b098",
   "metadata": {},
   "outputs": [
    {
     "name": "stdout",
     "output_type": "stream",
     "text": [
      "0\n",
      "1\n",
      "2\n",
      "3\n",
      "4\n"
     ]
    }
   ],
   "source": [
    "x=0\n",
    "while x<5:\n",
    "    print(x)\n",
    "    x +=1"
   ]
  },
  {
   "cell_type": "markdown",
   "id": "445d3307-0607-4ada-bdca-3dd3813318dc",
   "metadata": {},
   "source": [
    "<h2 data-start=\"704\" data-end=\"720\">3. Nested Loop</h2>"
   ]
  },
  {
   "cell_type": "code",
   "execution_count": 3,
   "id": "5c1350e9-0c60-44f0-8358-6e96637d3377",
   "metadata": {},
   "outputs": [
    {
     "name": "stdout",
     "output_type": "stream",
     "text": [
      "0 0\n",
      "0 1\n",
      "1 0\n",
      "1 1\n",
      "2 0\n",
      "2 1\n"
     ]
    }
   ],
   "source": [
    "for i in range(3):\n",
    "    for j in range(2):\n",
    "        print(i,j)"
   ]
  },
  {
   "cell_type": "markdown",
   "id": "e74b0028-4ca0-4663-ae11-b3f6f4262fdb",
   "metadata": {},
   "source": [
    "<h2 data-start=\"704\" data-end=\"720\">4. Loop Control Statements</h2>"
   ]
  },
  {
   "cell_type": "markdown",
   "id": "cbadcc43-9a18-4d5d-9f98-a3ce110c3a8e",
   "metadata": {},
   "source": [
    "<ul data-start=\"975\" data-end=\"1086\">\n",
    "<li data-start=\"975\" data-end=\"1004\">\n",
    "<p data-start=\"977\" data-end=\"1004\"><strong data-start=\"977\" data-end=\"986\">break</strong> → exit the loop</p>\n",
    "</li>\n",
    "<li data-start=\"1005\" data-end=\"1046\">\n",
    "<p data-start=\"1007\" data-end=\"1046\"><strong data-start=\"1007\" data-end=\"1019\">continue</strong> → skip current iteration</p>\n",
    "</li>\n",
    "<li data-start=\"1047\" data-end=\"1086\">\n",
    "<p data-start=\"1049\" data-end=\"1086\"><strong data-start=\"1049\" data-end=\"1057\">pass</strong> → do nothing (placeholder)</p>\n",
    "</li>\n",
    "</ul>"
   ]
  },
  {
   "cell_type": "code",
   "execution_count": 5,
   "id": "b3d1d51c-63d1-466a-93f5-5540de528fdf",
   "metadata": {},
   "outputs": [
    {
     "name": "stdout",
     "output_type": "stream",
     "text": [
      "0\n",
      "1\n",
      "3\n",
      "\n"
     ]
    }
   ],
   "source": [
    "# 4. break / continue\n",
    "for i in range(5):\n",
    "    if i == 2:\n",
    "        continue\n",
    "    if i == 4:\n",
    "        break\n",
    "    print(i)\n",
    "print()"
   ]
  },
  {
   "cell_type": "markdown",
   "id": "a8798a8e-28a8-4c41-883c-a35607d8a289",
   "metadata": {},
   "source": [
    "<h2 data-start=\"704\" data-end=\"720\">5. else with Loop </h2>"
   ]
  },
  {
   "cell_type": "code",
   "execution_count": 6,
   "id": "69ee5116-f3c9-4767-8334-32d5439c71db",
   "metadata": {},
   "outputs": [
    {
     "name": "stdout",
     "output_type": "stream",
     "text": [
      "0\n",
      "1\n",
      "2\n",
      "loop finished without break\n"
     ]
    }
   ],
   "source": [
    "for i in range(3):\n",
    "    print(i)\n",
    "else:\n",
    "    print(\"loop finished without break\")"
   ]
  },
  {
   "cell_type": "markdown",
   "id": "7b088aa3-2eaf-463b-9c25-4d34b0e2ed6e",
   "metadata": {},
   "source": [
    "<h2 data-start=\"704\" data-end=\"720\">5. List Comprehensions(Pythonic Loop) </h2>"
   ]
  },
  {
   "cell_type": "markdown",
   "id": "178e9d7b-0e72-43a0-a4d3-a0cee925a057",
   "metadata": {},
   "source": [
    "````python\n",
    "new_list = [expression for item in iterable if condition]\n"
   ]
  },
  {
   "cell_type": "code",
   "execution_count": 15,
   "id": "c6dede1f-6d98-4b14-b320-ef86588e4cf0",
   "metadata": {},
   "outputs": [
    {
     "name": "stdout",
     "output_type": "stream",
     "text": [
      "[1, 2, 3, 4, 5]\n",
      "[1, 4, 9, 16, 25]\n",
      "[2, 4]\n"
     ]
    }
   ],
   "source": [
    "nums=[1,2,3,4,5]\n",
    "squares=[x**2 for x in nums]\n",
    "evens= [x for x in nums if x%2==0]\n",
    "print (nums)\n",
    "print(squares)\n",
    "print(evens)\n"
   ]
  },
  {
   "cell_type": "markdown",
   "id": "8be3aa64-ada1-4c45-8164-09cdda00bb29",
   "metadata": {},
   "source": [
    "###### range \n",
    "-> (1,20,1) then 1 to 19\n",
    "-> default value 0"
   ]
  },
  {
   "cell_type": "code",
   "execution_count": 16,
   "id": "c70315b3-9c1c-4aab-a331-f2b261e40bc7",
   "metadata": {},
   "outputs": [
    {
     "name": "stdout",
     "output_type": "stream",
     "text": [
      "1\n",
      "3\n",
      "5\n",
      "7\n",
      "9\n",
      "11\n",
      "13\n",
      "15\n",
      "17\n",
      "19\n"
     ]
    }
   ],
   "source": [
    "for i in range(1,20,2):\n",
    "    print(i)"
   ]
  },
  {
   "cell_type": "code",
   "execution_count": 17,
   "id": "a06c36d5-5afa-4c66-a320-1716dcc29183",
   "metadata": {},
   "outputs": [
    {
     "name": "stdout",
     "output_type": "stream",
     "text": [
      "1\n",
      "3\n",
      "5\n",
      "7\n",
      "9\n",
      "11\n",
      "13\n",
      "15\n",
      "17\n",
      "19\n"
     ]
    }
   ],
   "source": [
    "a= range(1,20,2)\n",
    "for i in a:\n",
    "    print(i)"
   ]
  },
  {
   "cell_type": "code",
   "execution_count": 1,
   "id": "9efd92ce-6251-4f52-8467-8acd89fb576e",
   "metadata": {},
   "outputs": [
    {
     "name": "stdin",
     "output_type": "stream",
     "text": [
      "enter number u want table of 7\n"
     ]
    },
    {
     "name": "stdout",
     "output_type": "stream",
     "text": [
      "7\n",
      "14\n",
      "21\n",
      "28\n",
      "35\n",
      "42\n",
      "49\n",
      "56\n",
      "63\n",
      "70\n"
     ]
    }
   ],
   "source": [
    "n=int(input(\"enter number u want table of\"))\n",
    "\n",
    "for i in range(n ,(n*10)+1 ,n): #1 for till 10 coz range if we put 10 it set ups till 9\n",
    "    print(i)"
   ]
  },
  {
   "cell_type": "code",
   "execution_count": 2,
   "id": "08324846-3f39-4f5a-9d7a-5fdce5475d2f",
   "metadata": {},
   "outputs": [
    {
     "name": "stdout",
     "output_type": "stream",
     "text": [
      "23\n",
      "I\n",
      " \n",
      "r\n",
      "e\n",
      "a\n",
      "l\n",
      "l\n",
      "y\n",
      " \n",
      "L\n",
      "i\n",
      "k\n",
      "e\n",
      " \n",
      "A\n",
      "r\n",
      "i\n",
      "z\n",
      "o\n",
      "n\n",
      "a\n",
      " \n",
      "🙂\n"
     ]
    }
   ],
   "source": [
    "a=\"I really Like Arizona 🙂\"\n",
    "print(len(a))\n",
    "for i in range(len(a)):\n",
    "    print(a[i]) #a of i a[i] becoz it does print string not iteration like 1..2..3..4..5\n"
   ]
  },
  {
   "cell_type": "code",
   "execution_count": 1,
   "id": "e68b8397-6283-4d66-9e30-74aa260e7457",
   "metadata": {},
   "outputs": [
    {
     "name": "stdout",
     "output_type": "stream",
     "text": [
      "47\n",
      "0\n",
      "1\n",
      "2\n",
      "3\n",
      "4\n",
      "5\n",
      "6\n",
      "7\n",
      "8\n",
      "9\n",
      "10\n",
      "11\n",
      "12\n",
      "13\n",
      "14\n",
      "15\n",
      "16\n",
      "17\n",
      "18\n",
      "19\n",
      "20\n",
      "21\n",
      "22\n",
      "23\n",
      "24\n",
      "25\n",
      "26\n",
      "27\n",
      "28\n",
      "29\n",
      "30\n",
      "31\n",
      "32\n",
      "33\n",
      "34\n",
      "35\n",
      "36\n",
      "37\n",
      "38\n",
      "39\n",
      "40\n",
      "41\n",
      "42\n",
      "43\n",
      "44\n",
      "45\n",
      "46\n"
     ]
    }
   ],
   "source": [
    "a=\" I don’t know why but I actually like Arizona 🙂\"\n",
    "print(len(a))\n",
    "for i in range(len(a)):\n",
    "    print(i)"
   ]
  },
  {
   "cell_type": "code",
   "execution_count": 6,
   "id": "56523761-f351-43cb-8cf1-b10a6d8b489d",
   "metadata": {},
   "outputs": [
    {
     "name": "stdin",
     "output_type": "stream",
     "text": [
      "enter a number 8\n"
     ]
    },
    {
     "name": "stdout",
     "output_type": "stream",
     "text": [
      "sum is 36\n"
     ]
    }
   ],
   "source": [
    "n=int(input(\"enter a number\"))\n",
    "sum=0\n",
    "for i in range(1,n+1):\n",
    "    sum = sum+i\n",
    "print(f\"sum is {sum}\")    "
   ]
  },
  {
   "cell_type": "code",
   "execution_count": 33,
   "id": "c8b81515-7737-4f46-a0a1-2cf4814eca3c",
   "metadata": {},
   "outputs": [
    {
     "name": "stdin",
     "output_type": "stream",
     "text": [
      "enter a number 500\n"
     ]
    },
    {
     "name": "stdout",
     "output_type": "stream",
     "text": [
      "fact is 1220136825991110068701238785423046926253574342803192842192413588385845373153881997605496447502203281863013616477148203584163378722078177200480785205159329285477907571939330603772960859086270429174547882424912726344305670173270769461062802310452644218878789465754777149863494367781037644274033827365397471386477878495438489595537537990423241061271326984327745715546309977202781014561081188373709531016356324432987029563896628911658974769572087926928871281780070265174507768410719624390394322536422605234945850129918571501248706961568141625359056693423813008856249246891564126775654481886506593847951775360894005745238940335798476363944905313062323749066445048824665075946735862074637925184200459369692981022263971952597190945217823331756934581508552332820762820023402626907898342451712006207714640979456116127629145951237229913340169552363850942885592018727433795173014586357570828355780158735432768888680120399882384702151467605445407663535984174430480128938313896881639487469658817504506926365338175055478128640000000000000000000000000000000000000000000000000000000000000000000000000000000000000000000000000000000000000000000000000000\n"
     ]
    }
   ],
   "source": [
    "# factorial of numb\n",
    "n=int(input(\"enter a number\"))\n",
    "fact=1\n",
    "for i in range(1,n+1):\n",
    "    fact = fact*i\n",
    "print(f\"fact is {fact}\")  "
   ]
  },
  {
   "cell_type": "code",
   "execution_count": 2,
   "id": "426137a7-34ad-4b30-a379-dfcbaaf722f1",
   "metadata": {},
   "outputs": [
    {
     "name": "stdin",
     "output_type": "stream",
     "text": [
      "tell a number 6\n"
     ]
    },
    {
     "name": "stdout",
     "output_type": "stream",
     "text": [
      "your even & odd sum is12,9\n"
     ]
    }
   ],
   "source": [
    "# print the sum of even and odd numbers separately\n",
    "n=int(input(\"tell a number\"))\n",
    "even=0\n",
    "odd=0\n",
    "for i in range(1,n+1):\n",
    "    if i%2==0:\n",
    "        even=even+i  # (like sum=sum+i)\n",
    "    else:\n",
    "       odd= odd+i\n",
    "print(f\"your even & odd sum is{even},{odd}\")       "
   ]
  },
  {
   "cell_type": "code",
   "execution_count": 4,
   "id": "4560cef7-ec69-4b75-b029-f701349712ae",
   "metadata": {},
   "outputs": [
    {
     "name": "stdin",
     "output_type": "stream",
     "text": [
      "which factors you want 9\n"
     ]
    },
    {
     "name": "stdout",
     "output_type": "stream",
     "text": [
      "1\n",
      "3\n",
      "9\n"
     ]
    }
   ],
   "source": [
    "# que: print all the factors of a number\n",
    "n=int(input(\"which factors you want\"))\n",
    "for i in range(1,n+1):\n",
    "    if n%i==0:\n",
    "        print(i)\n",
    "      "
   ]
  },
  {
   "cell_type": "code",
   "execution_count": 4,
   "id": "b7dae4c3-fe0b-4ec0-b98c-f9b3640ac8a8",
   "metadata": {},
   "outputs": [
    {
     "name": "stdin",
     "output_type": "stream",
     "text": [
      "check your number is perfect or not 28\n"
     ]
    },
    {
     "name": "stdout",
     "output_type": "stream",
     "text": [
      "your number is perfect\n"
     ]
    }
   ],
   "source": [
    "#que: Accept a number and check its perfect number or not(sum of other factors of that number excluding that number is number itself)\n",
    "n=int (input(\"check your number is perfect or not\"))\n",
    "sum=0\n",
    "for i in range(1,n):#not n+1 coz we have to exclude that number\n",
    "       if n%i==0:\n",
    "           sum=sum+i\n",
    "if sum==n:\n",
    "    print(\"your number is perfect\")\n",
    "else:\n",
    "    print(\"not a perfect number\")      \n",
    "    \n",
    "     "
   ]
  },
  {
   "cell_type": "code",
   "execution_count": 5,
   "id": "cc91848b-59f4-4363-8061-61fb31cf1f67",
   "metadata": {},
   "outputs": [
    {
     "name": "stdin",
     "output_type": "stream",
     "text": [
      "enter number you have to check prime or not: 23\n"
     ]
    },
    {
     "name": "stdout",
     "output_type": "stream",
     "text": [
      "your number is prime\n"
     ]
    }
   ],
   "source": [
    "#que: check your number is prime or not\n",
    "n=int(input(\"enter number you have to check prime or not:\"))\n",
    "count=0\n",
    "for i in range(1,n+1):\n",
    "    if n%i==0:\n",
    "        count=count+1\n",
    "if count==2:\n",
    "    print(\"your number is prime\")\n",
    "else:\n",
    "    (\"your number is not prime\")\n"
   ]
  },
  {
   "cell_type": "code",
   "execution_count": 8,
   "id": "fa078faa-1bb6-4716-991b-082ed12c0cae",
   "metadata": {},
   "outputs": [
    {
     "name": "stdout",
     "output_type": "stream",
     "text": [
      " anozirA\n"
     ]
    }
   ],
   "source": [
    "#reverse a string\n",
    "a=\"Arizona\"\n",
    "b=\" \"\n",
    "for i in range(len(a)-1,-1,-1):\n",
    "    b=b+a[i]\n",
    "print(b)    "
   ]
  },
  {
   "cell_type": "code",
   "execution_count": 12,
   "id": "ae0f0670-c14a-4d2e-804a-3f64d5c5b561",
   "metadata": {},
   "outputs": [
    {
     "name": "stdout",
     "output_type": "stream",
     "text": [
      "palindrome\n"
     ]
    }
   ],
   "source": [
    "a=\"naman\"\n",
    "b=\"\"\n",
    "for i in range(len(a)-1,-1,-1):\n",
    "    b=b+a[i]\n",
    "    \n",
    "if b==a:\n",
    "    print(\"palindrome\")\n",
    "else:\n",
    "    print(\"not a palindrome\")"
   ]
  },
  {
   "cell_type": "code",
   "execution_count": 15,
   "id": "565724a3-691a-4f82-a718-263dda8cfdbc",
   "metadata": {},
   "outputs": [
    {
     "name": "stdout",
     "output_type": "stream",
     "text": [
      "your digits are 3 \n",
      " your alphabets are 7\n",
      " your special characters are 6\n"
     ]
    }
   ],
   "source": [
    "#count all letters,digits,special characters in a string\n",
    "9use string methods)\n",
    "\n",
    "a=\"34$%6&**DFBHMK<C\"\n",
    "char=0\n",
    "dig=0\n",
    "spchr=0\n",
    "for i in a:\n",
    "    if i.isdigit():\n",
    "        dig+=1\n",
    "    elif i.isalpha():\n",
    "        char+=1\n",
    "    else:\n",
    "        spchr+=1\n",
    "print(f\"your digits are {dig} \\n your alphabets are {char}\\n your special characters are {spchr}\")\n",
    "        \n",
    "        \n",
    "     "
   ]
  },
  {
   "cell_type": "code",
   "execution_count": 16,
   "id": "77be5f17-f10f-491b-afe9-a260ee10039b",
   "metadata": {},
   "outputs": [
    {
     "name": "stdout",
     "output_type": "stream",
     "text": [
      "['__add__', '__class__', '__contains__', '__delattr__', '__dir__', '__doc__', '__eq__', '__format__', '__ge__', '__getattribute__', '__getitem__', '__getnewargs__', '__getstate__', '__gt__', '__hash__', '__init__', '__init_subclass__', '__iter__', '__le__', '__len__', '__lt__', '__mod__', '__mul__', '__ne__', '__new__', '__reduce__', '__reduce_ex__', '__repr__', '__rmod__', '__rmul__', '__setattr__', '__sizeof__', '__str__', '__subclasshook__', 'capitalize', 'casefold', 'center', 'count', 'encode', 'endswith', 'expandtabs', 'find', 'format', 'format_map', 'index', 'isalnum', 'isalpha', 'isascii', 'isdecimal', 'isdigit', 'isidentifier', 'islower', 'isnumeric', 'isprintable', 'isspace', 'istitle', 'isupper', 'join', 'ljust', 'lower', 'lstrip', 'maketrans', 'partition', 'removeprefix', 'removesuffix', 'replace', 'rfind', 'rindex', 'rjust', 'rpartition', 'rsplit', 'rstrip', 'split', 'splitlines', 'startswith', 'strip', 'swapcase', 'title', 'translate', 'upper', 'zfill']\n"
     ]
    }
   ],
   "source": [
    "print(dir(str))"
   ]
  },
  {
   "cell_type": "code",
   "execution_count": 17,
   "id": "d06b53ad-d9e7-43e3-ab7d-51d1f4fde24b",
   "metadata": {},
   "outputs": [],
   "source": [
    "# ===============================\n",
    "# WHILE LOOP CHEAT SHEET (PYTHON)\n",
    "# ==============================="
   ]
  },
  {
   "cell_type": "code",
   "execution_count": 18,
   "id": "286a38ea-6978-45f9-9272-14693894bafb",
   "metadata": {},
   "outputs": [
    {
     "name": "stdout",
     "output_type": "stream",
     "text": [
      "Hello 0\n",
      "Hello 1\n",
      "Hello 2\n",
      "Hello 3\n",
      "Hello 4\n"
     ]
    }
   ],
   "source": [
    "# ✅ Basic Syntax\n",
    "i = 0\n",
    "while i < 5:\n",
    "    print(\"Hello\", i)\n",
    "    i += 1   # don't forget to increment/decrement (otherwise infinite loop)"
   ]
  },
  {
   "cell_type": "code",
   "execution_count": 19,
   "id": "f80fd2c2-eebf-45f8-b176-80443b098f36",
   "metadata": {},
   "outputs": [
    {
     "name": "stdout",
     "output_type": "stream",
     "text": [
      "5\n",
      "4\n",
      "3\n",
      "2\n",
      "1\n",
      "Blastoff!\n"
     ]
    }
   ],
   "source": [
    "# ✅ Common Use Case: Counting Down\n",
    "n = 5\n",
    "while n > 0:\n",
    "    print(n)\n",
    "    n -= 1\n",
    "print(\"Blastoff!\")"
   ]
  },
  {
   "cell_type": "code",
   "execution_count": null,
   "id": "1f4272de-df5b-45b3-87f7-3f6d2ac29613",
   "metadata": {},
   "outputs": [],
   "source": [
    "# ✅ Infinite Loop ! (no inc / dec)\n",
    "# while True:\n",
    "#     print(\"This runs forever unless you use break\")"
   ]
  },
  {
   "cell_type": "code",
   "execution_count": 20,
   "id": "cf566f84-a301-408d-abf9-2190619a29e4",
   "metadata": {},
   "outputs": [
    {
     "name": "stdout",
     "output_type": "stream",
     "text": [
      "1\n",
      "2\n",
      "3\n",
      "4\n"
     ]
    }
   ],
   "source": [
    "# ✅ Using break (exit loop when condition met)\n",
    "i = 1\n",
    "while i <= 10:\n",
    "    if i == 5:\n",
    "        break   # stops loop at 5\n",
    "    print(i)\n",
    "    i += 1"
   ]
  },
  {
   "cell_type": "code",
   "execution_count": 21,
   "id": "fd5098c0-057a-4448-905b-239b657160b5",
   "metadata": {},
   "outputs": [
    {
     "name": "stdout",
     "output_type": "stream",
     "text": [
      "1\n",
      "2\n",
      "4\n",
      "5\n",
      "6\n"
     ]
    }
   ],
   "source": [
    "\n",
    "# ✅ Using continue (skip one iteration)\n",
    "i = 0\n",
    "while i < 6:\n",
    "    i += 1\n",
    "    if i == 3:\n",
    "        continue  # skip printing 3\n",
    "    print(i)\n"
   ]
  },
  {
   "cell_type": "code",
   "execution_count": 22,
   "id": "85ca18f2-0162-4dff-a442-e5840b83a8f0",
   "metadata": {},
   "outputs": [
    {
     "name": "stdout",
     "output_type": "stream",
     "text": [
      "1\n",
      "2\n",
      "3\n",
      "Loop finished naturally!\n"
     ]
    }
   ],
   "source": [
    "# ✅ while + else (else runs if loop NOT stopped by break)\n",
    "i = 1\n",
    "while i <= 3:\n",
    "    print(i)\n",
    "    i += 1\n",
    "else:\n",
    "    print(\"Loop finished naturally!\")"
   ]
  },
  {
   "cell_type": "code",
   "execution_count": 23,
   "id": "bceb0297-f054-491b-a71d-b0c4ec39a4db",
   "metadata": {},
   "outputs": [
    {
     "name": "stdout",
     "output_type": "stream",
     "text": [
      "i=1, j=1\n",
      "i=1, j=2\n",
      "i=2, j=1\n",
      "i=2, j=2\n",
      "i=3, j=1\n",
      "i=3, j=2\n"
     ]
    }
   ],
   "source": [
    "# ✅ Nested while loops\n",
    "i = 1\n",
    "while i <= 3:\n",
    "    j = 1\n",
    "    while j <= 2:\n",
    "        print(f\"i={i}, j={j}\")\n",
    "        j += 1\n",
    "    i += 1"
   ]
  },
  {
   "cell_type": "code",
   "execution_count": 24,
   "id": "e390703d-4c28-4400-9687-206a41530f99",
   "metadata": {},
   "outputs": [
    {
     "name": "stdout",
     "output_type": "stream",
     "text": [
      "Runs at least once: 0\n",
      "Runs at least once: 1\n",
      "Runs at least once: 2\n"
     ]
    }
   ],
   "source": [
    "# ✅ Trick: Simulating do-while loop (Python doesn’t have do-while)\n",
    "# Run once, then check condition\n",
    "i = 0\n",
    "while True:\n",
    "    print(\"Runs at least once:\", i)\n",
    "    i += 1\n",
    "    if i >= 3:\n",
    "        break"
   ]
  },
  {
   "cell_type": "markdown",
   "id": "47f9962a-9a85-4d70-b0be-dc3817f095c4",
   "metadata": {},
   "source": [
    "#### TIPS & TRICKS\n",
    "1. Always ensure loop condition will eventually be False, or use break\n",
    "2. Use while loops when the number of iterations is UNKNOWN 3. If iterations are FIXED → use for loop instead\n",
    "4. Can be combined with input() for interactive programs\n",
    "5. \"while True\" + \"break\" is common for menus & event loops\n",
    "6. Debug infinite loops by adding print statements\n",
    "7. while-else is underused but useful for search problems"
   ]
  },
  {
   "cell_type": "markdown",
   "id": "2c0fb09c-88d0-4940-8eb8-016cfe339232",
   "metadata": {},
   "source": [
    "#### ❌ Common Mistakes\n",
    "1. Forgetting to update loop variable → infinite loop\n",
    "2. Using \"=\" instead of \"==\" in condition\n",
    "3. Mixing up indentation\n",
    "4. Using break incorrectly (stops only the innermost loop)\n",
    "5. Assuming \"else\" works like in if-else (it only runs if loop finishes without"
   ]
  },
  {
   "cell_type": "code",
   "execution_count": 26,
   "id": "e7000918-7ea6-48fa-a32d-408d851850c9",
   "metadata": {},
   "outputs": [
    {
     "name": "stdin",
     "output_type": "stream",
     "text": [
      "tell your number: 78965432190\n"
     ]
    },
    {
     "name": "stdout",
     "output_type": "stream",
     "text": [
      "0\n",
      "9\n",
      "1\n",
      "2\n",
      "3\n",
      "4\n",
      "5\n",
      "6\n",
      "9\n",
      "8\n",
      "7\n"
     ]
    }
   ],
   "source": [
    "#digit separations \n",
    "a=int(input(\"tell your number:\"))\n",
    "while a>0:\n",
    "    print(a%10)\n",
    "    a=a//10"
   ]
  },
  {
   "cell_type": "code",
   "execution_count": 27,
   "id": "bc6668b4-9bdf-4986-94cd-ac2a9f6a34d8",
   "metadata": {},
   "outputs": [],
   "source": [
    "# ===============================\n",
    "# FOR LOOP CHEAT SHEET (PYTHON)\n",
    "# ==============================="
   ]
  },
  {
   "cell_type": "code",
   "execution_count": 28,
   "id": "be206611-2d1b-4347-9bdc-451b9a8ebf90",
   "metadata": {},
   "outputs": [
    {
     "name": "stdout",
     "output_type": "stream",
     "text": [
      "Hello 0\n",
      "Hello 1\n",
      "Hello 2\n",
      "Hello 3\n",
      "Hello 4\n"
     ]
    }
   ],
   "source": [
    "# ✅ Basic Syntax\n",
    "for i in range(5):\n",
    "    print(\"Hello\", i)"
   ]
  },
  {
   "cell_type": "code",
   "execution_count": 29,
   "id": "0730e4cc-98da-4c2f-b6ca-a39447e6bc1b",
   "metadata": {},
   "outputs": [
    {
     "name": "stdout",
     "output_type": "stream",
     "text": [
      "1\n",
      "2\n",
      "3\n",
      "4\n",
      "5\n"
     ]
    }
   ],
   "source": [
    "# ✅ Range variations\n",
    "for i in range(1, 6):   # start=1, stop=6 (stop is excluded)\n",
    "    print(i)"
   ]
  },
  {
   "cell_type": "code",
   "execution_count": 30,
   "id": "72ae0dc1-2ceb-4fb2-919e-9dc11b52579f",
   "metadata": {},
   "outputs": [
    {
     "name": "stdout",
     "output_type": "stream",
     "text": [
      "10\n",
      "8\n",
      "6\n",
      "4\n",
      "2\n"
     ]
    }
   ],
   "source": [
    "for i in range(10, 0, -2):  # step = -2 (countdown)\n",
    "    print(i)"
   ]
  },
  {
   "cell_type": "code",
   "execution_count": 31,
   "id": "1b3d54e6-37ea-474d-9f08-dd49caf817ad",
   "metadata": {},
   "outputs": [
    {
     "name": "stdout",
     "output_type": "stream",
     "text": [
      "apple\n",
      "banana\n",
      "cherry\n"
     ]
    }
   ],
   "source": [
    "# ✅ Iterating over lists\n",
    "fruits = [\"apple\", \"banana\", \"cherry\"]\n",
    "for fruit in fruits:\n",
    "    print(fruit)"
   ]
  },
  {
   "cell_type": "code",
   "execution_count": 32,
   "id": "d998e362-b496-4455-82c7-a2a69967449a",
   "metadata": {},
   "outputs": [
    {
     "name": "stdout",
     "output_type": "stream",
     "text": [
      "P\n",
      "y\n",
      "t\n",
      "h\n",
      "o\n",
      "n\n"
     ]
    }
   ],
   "source": [
    "\n",
    "# ✅ Iterating over strings\n",
    "for char in \"Python\":\n",
    "    print(char)"
   ]
  },
  {
   "cell_type": "code",
   "execution_count": 33,
   "id": "46240946-353f-46f7-b4cd-6d17ae8dadf5",
   "metadata": {},
   "outputs": [
    {
     "name": "stdout",
     "output_type": "stream",
     "text": [
      "1\n",
      "2\n",
      "3\n",
      "4\n"
     ]
    }
   ],
   "source": [
    "# ✅ Using break\n",
    "for i in range(1, 10):\n",
    "    if i == 5:\n",
    "        break\n",
    "    print(i)"
   ]
  },
  {
   "cell_type": "code",
   "execution_count": 34,
   "id": "f9d89a40-efcd-46bf-a4ef-b304550f0cb1",
   "metadata": {},
   "outputs": [
    {
     "name": "stdout",
     "output_type": "stream",
     "text": [
      "1\n",
      "2\n",
      "4\n",
      "5\n"
     ]
    }
   ],
   "source": [
    "# ✅ Using continue\n",
    "for i in range(1, 6):\n",
    "    if i == 3:\n",
    "        continue\n",
    "    print(i)"
   ]
  },
  {
   "cell_type": "code",
   "execution_count": 36,
   "id": "d235d1db-7e07-44ba-8d75-702baa633f04",
   "metadata": {},
   "outputs": [
    {
     "name": "stdout",
     "output_type": "stream",
     "text": [
      "0\n",
      "1\n",
      "2\n",
      "Loop finished naturally!\n"
     ]
    }
   ],
   "source": [
    "# ✅ for + else (else runs if loop NOT stopped by break)\n",
    "for i in range(3):\n",
    "    print(i)\n",
    "else:\n",
    "     print(\"Loop finished naturally!\")"
   ]
  },
  {
   "cell_type": "code",
   "execution_count": 37,
   "id": "c58cd6bd-c321-433e-abde-34662d9bc5a9",
   "metadata": {},
   "outputs": [
    {
     "name": "stdout",
     "output_type": "stream",
     "text": [
      "i=1, j=1\n",
      "i=1, j=2\n",
      "i=2, j=1\n",
      "i=2, j=2\n",
      "i=3, j=1\n",
      "i=3, j=2\n"
     ]
    }
   ],
   "source": [
    "# ✅ Nested loops\n",
    "for i in range(1, 4):\n",
    "    for j in range(1, 3):\n",
    "        print(f\"i={i}, j={j}\")"
   ]
  },
  {
   "cell_type": "code",
   "execution_count": 48,
   "id": "612e4281-c513-45e0-b33d-0e0e0282faa3",
   "metadata": {},
   "outputs": [
    {
     "name": "stdout",
     "output_type": "stream",
     "text": [
      "red\n",
      "apple\n",
      "banana\n",
      "cherry\n",
      "big\n",
      "apple\n",
      "banana\n",
      "cherry\n",
      "tasty\n",
      "apple\n",
      "banana\n",
      "cherry\n"
     ]
    }
   ],
   "source": [
    "adj=['red','big','tasty']\n",
    "fruits=['apple','banana','cherry']\n",
    "for x in adj:\n",
    "    print(x)\n",
    "    for y in fruits:\n",
    "        print(y)\n",
    "    "
   ]
  },
  {
   "cell_type": "code",
   "execution_count": 49,
   "id": "6355b607-cffd-4fe0-a77a-dc5f7bc25ac8",
   "metadata": {},
   "outputs": [
    {
     "name": "stdout",
     "output_type": "stream",
     "text": [
      "1\n",
      "13\n",
      "14\n",
      "15\n",
      "16\n",
      "17\n",
      "18\n",
      "19\n",
      "20\n",
      "21\n",
      "22\n",
      "23\n",
      "24\n",
      "25\n",
      "2\n",
      "13\n",
      "14\n",
      "15\n",
      "16\n",
      "17\n",
      "18\n",
      "19\n",
      "20\n",
      "21\n",
      "22\n",
      "23\n",
      "24\n",
      "25\n",
      "3\n",
      "13\n",
      "14\n",
      "15\n",
      "16\n",
      "17\n",
      "18\n",
      "19\n",
      "20\n",
      "21\n",
      "22\n",
      "23\n",
      "24\n",
      "25\n"
     ]
    }
   ],
   "source": [
    "for x in range(1,4):\n",
    "    print(x)\n",
    "    for y in range(13,26):\n",
    "        print(y)\n",
    "    "
   ]
  },
  {
   "cell_type": "code",
   "execution_count": 50,
   "id": "9369fe39-cff6-4837-b3e7-b0277be6a4cb",
   "metadata": {},
   "outputs": [
    {
     "name": "stdout",
     "output_type": "stream",
     "text": [
      "5 * 1 = 5\n",
      "5 * 2 = 10\n",
      "5 * 3 = 15\n",
      "5 * 4 = 20\n",
      "5 * 5 = 25\n",
      "5 * 6 = 30\n",
      "5 * 7 = 35\n",
      "5 * 8 = 40\n",
      "5 * 9 = 45\n",
      "5 * 10 = 50\n"
     ]
    }
   ],
   "source": [
    "for x in range(5,6):\n",
    "    for y in range(1,11):\n",
    "        print(x,\"*\",y,'=',x*y)"
   ]
  },
  {
   "cell_type": "code",
   "execution_count": 52,
   "id": "13957a6a-7838-41eb-87f0-c30e6d9f11c0",
   "metadata": {},
   "outputs": [
    {
     "name": "stdout",
     "output_type": "stream",
     "text": [
      "* * * * *  \n",
      "* * * * *  \n",
      "* * * * *  \n",
      "* * * * *  \n",
      "* * * * *  \n"
     ]
    }
   ],
   "source": [
    "for x in range(1,6):\n",
    "    for y in range(1,6):\n",
    "        print(\"*\",end=\" \")\n",
    "        \n",
    "    print(' ') # next loop iteration"
   ]
  },
  {
   "cell_type": "code",
   "execution_count": 38,
   "id": "c1707811-f723-49dc-b35f-48d4911ae0cc",
   "metadata": {},
   "outputs": [
    {
     "name": "stdout",
     "output_type": "stream",
     "text": [
      "0 apple\n",
      "1 banana\n",
      "2 cherry\n"
     ]
    }
   ],
   "source": [
    "# ✅ enumerate() → get index + value\n",
    "for idx, val in enumerate(fruits):\n",
    "    print(idx, val)"
   ]
  },
  {
   "cell_type": "code",
   "execution_count": 39,
   "id": "98eb15b8-14ce-408e-b465-ca44012e9714",
   "metadata": {},
   "outputs": [
    {
     "name": "stdout",
     "output_type": "stream",
     "text": [
      "apple -> red\n",
      "banana -> yellow\n",
      "cherry -> pink\n"
     ]
    }
   ],
   "source": [
    "# ✅ zip() → loop over two lists together\n",
    "colors = [\"red\", \"yellow\", \"pink\"]\n",
    "for fruit, color in zip(fruits, colors):\n",
    "    print(fruit, \"->\", color)"
   ]
  },
  {
   "cell_type": "code",
   "execution_count": 40,
   "id": "a634a5f6-8ae2-48da-98ab-25501e3c69dc",
   "metadata": {},
   "outputs": [],
   "source": [
    "# ✅ Trick: Using pass (placeholder)\n",
    "for i in range(5):\n",
    "    pass  # does nothing (useful as placeholder)"
   ]
  },
  {
   "cell_type": "code",
   "execution_count": 41,
   "id": "c397cd4f-f952-4fd3-9cae-d24c82655526",
   "metadata": {},
   "outputs": [
    {
     "name": "stdout",
     "output_type": "stream",
     "text": [
      "Squares: [0, 1, 4, 9, 16]\n"
     ]
    }
   ],
   "source": [
    "# ✅ Trick: List comprehension (short-hand loop)\n",
    "squares = [x**2 for x in range(5)]\n",
    "print(\"Squares:\", squares)"
   ]
  },
  {
   "cell_type": "code",
   "execution_count": 42,
   "id": "a48701aa-7d62-4bba-ae35-53cc40217e6d",
   "metadata": {},
   "outputs": [
    {
     "name": "stdout",
     "output_type": "stream",
     "text": [
      "name : Alice\n",
      "age : 25\n"
     ]
    }
   ],
   "source": [
    "# ✅ Dictionary iteration\n",
    "person = {\"name\": \"Alice\", \"age\": 25}\n",
    "for key, value in person.items():\n",
    "    print(key, \":\", value)"
   ]
  },
  {
   "cell_type": "code",
   "execution_count": 43,
   "id": "0c815ee0-320b-43f4-b169-3cb4a871b402",
   "metadata": {},
   "outputs": [
    {
     "name": "stdout",
     "output_type": "stream",
     "text": [
      "0\n",
      "3\n",
      "6\n",
      "9\n",
      "12\n",
      "15\n",
      "18\n"
     ]
    }
   ],
   "source": [
    "# ✅ Advanced: Loop with custom step logic\n",
    "for i in range(0, 20, 3):\n",
    "    print(i)"
   ]
  },
  {
   "cell_type": "markdown",
   "id": "e665dcfe-0757-461f-8259-e4eb95bb942a",
   "metadata": {},
   "source": [
    "##### Tips&Tricks\n",
    "1. Use range(start, stop, step) for numbers\n",
    "2. Use enumerate() when you need index + value\n",
    "3. Use zip() to iterate multiple lists\n",
    "4. Use list comprehension for concise looping\n",
    "5. For dictionaries, loop with .items()\n",
    "6. Prefer for loops when iteration count is KNOWN\n",
    "7. for-else is great for search problems (only executes else if no break)\n",
    "8. Combine with break/continue for control\n"
   ]
  },
  {
   "cell_type": "code",
   "execution_count": 47,
   "id": "f706822d-b988-4529-8c19-e76ae973120a",
   "metadata": {},
   "outputs": [
    {
     "name": "stdin",
     "output_type": "stream",
     "text": [
      "enter the number you want to check: 7\n"
     ]
    },
    {
     "name": "stdout",
     "output_type": "stream",
     "text": [
      "7 is prime\n"
     ]
    }
   ],
   "source": [
    "num = int(input(\"enter the number you want to check:\"))\n",
    "for i in range(2, num):\n",
    "    if num % i == 0:\n",
    "        print(num, \"is not prime\")\n",
    "        break\n",
    "else:\n",
    "    print(num, \"is prime\")"
   ]
  },
  {
   "cell_type": "code",
   "execution_count": null,
   "id": "70224f2d-c0db-4928-9fdf-db395678446e",
   "metadata": {},
   "outputs": [],
   "source": []
  }
 ],
 "metadata": {
  "kernelspec": {
   "display_name": "Python [conda env:base] *",
   "language": "python",
   "name": "conda-base-py"
  },
  "language_info": {
   "codemirror_mode": {
    "name": "ipython",
    "version": 3
   },
   "file_extension": ".py",
   "mimetype": "text/x-python",
   "name": "python",
   "nbconvert_exporter": "python",
   "pygments_lexer": "ipython3",
   "version": "3.13.5"
  }
 },
 "nbformat": 4,
 "nbformat_minor": 5
}
