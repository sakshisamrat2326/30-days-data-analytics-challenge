{
 "cells": [
  {
   "cell_type": "code",
   "execution_count": null,
   "id": "0b560ddf-d1ce-4f0a-9f8b-2d0279e80d1e",
   "metadata": {},
   "outputs": [],
   "source": []
  },
  {
   "cell_type": "markdown",
   "id": "3f07dcd2-441b-418e-9cf9-5c72be8edf8d",
   "metadata": {},
   "source": [
    "<h3 data-start=\"261\" data-end=\"291\">✅ 1. Basic Function Syntax</h3>"
   ]
  },
  {
   "cell_type": "markdown",
   "id": "c5823f1b-9e59-465f-beea-62f10287ae9b",
   "metadata": {},
   "source": [
    "```python\n",
    "def funct_name():\n",
    "    print(\"block of code you want to execute\")\n",
    "    \n",
    "funct_name() #calling the function"
   ]
  },
  {
   "cell_type": "markdown",
   "id": "fbe0d9c6-1425-433c-b636-514f20838ef4",
   "metadata": {},
   "source": [
    "<h3 data-start=\"261\" data-end=\"291\">✅ 2. Functions with Parameters </h3>"
   ]
  },
  {
   "cell_type": "code",
   "execution_count": 2,
   "id": "afa70221-8bd2-45f5-a9e3-214cfdb65bdf",
   "metadata": {},
   "outputs": [
    {
     "name": "stdout",
     "output_type": "stream",
     "text": [
      "hello,Sakshi\n"
     ]
    }
   ],
   "source": [
    "def greet(username):\n",
    "    print(f\"hello,{username}\")\n",
    "greet(\"Sakshi\")    "
   ]
  },
  {
   "cell_type": "markdown",
   "id": "a1e1f6a0-65be-4d07-a1bb-2af43094265a",
   "metadata": {},
   "source": [
    "<h3 data-start=\"261\" data-end=\"291\">✅ 3.Functions with return value </h3>"
   ]
  },
  {
   "cell_type": "code",
   "execution_count": 4,
   "id": "8ed69004-aa39-4ba5-88f6-b3690a9557bc",
   "metadata": {},
   "outputs": [
    {
     "name": "stdout",
     "output_type": "stream",
     "text": [
      "177\n"
     ]
    }
   ],
   "source": [
    "def add(a,b):\n",
    "    return a+b\n",
    "    \n",
    "result=add(90,87) # remember to store in a variable\n",
    "print(result)"
   ]
  },
  {
   "cell_type": "markdown",
   "id": "e673ab65-2a56-4ddd-b088-3c8d9cbeb814",
   "metadata": {},
   "source": [
    "<h3 data-start=\"261\" data-end=\"291\">✅ 4. Default Arguments </h3>"
   ]
  },
  {
   "cell_type": "code",
   "execution_count": 6,
   "id": "fac7d740-fb26-431c-8527-eca8b7e19673",
   "metadata": {},
   "outputs": [
    {
     "name": "stdout",
     "output_type": "stream",
     "text": [
      "hello Guest\n",
      "hello Karan\n"
     ]
    }
   ],
   "source": [
    "def greet(name=\"Guest\"):\n",
    "    print(f\"hello {name}\")\n",
    "greet()\n",
    "greet(\"Karan\")"
   ]
  },
  {
   "cell_type": "markdown",
   "id": "b81dbebf-a53e-4506-beb8-adfd79455f31",
   "metadata": {},
   "source": [
    "<h3 data-start=\"261\" data-end=\"291\">✅ 5.Keyword Arguments </h3>"
   ]
  },
  {
   "cell_type": "code",
   "execution_count": 9,
   "id": "641c3742-0a1e-463e-a2ac-0252b9d35454",
   "metadata": {},
   "outputs": [
    {
     "name": "stdout",
     "output_type": "stream",
     "text": [
      " hey I'm Alex and 28 years old\n"
     ]
    }
   ],
   "source": [
    "def student(name,age):\n",
    "    print(f\" hey I'm {name} and {age} years old\")\n",
    "student(age=28,name=\"Alex\")    "
   ]
  },
  {
   "cell_type": "markdown",
   "id": "0f4fb074-14b6-4e3e-9461-1e56f46b74d0",
   "metadata": {},
   "source": [
    "<h3 data-start=\"261\" data-end=\"291\">✅ 6. Variable-length Arguments </h3>\n",
    "=> arbitary arguments"
   ]
  },
  {
   "cell_type": "code",
   "execution_count": 10,
   "id": "b87da328-a193-4448-bc90-1b86e01bb202",
   "metadata": {},
   "outputs": [
    {
     "data": {
      "text/plain": [
       "14"
      ]
     },
     "execution_count": 10,
     "metadata": {},
     "output_type": "execute_result"
    }
   ],
   "source": [
    "#use *args -> tuple of positional arguments\n",
    "def sum_all(*args):\n",
    "   return sum(args)\n",
    "sum_all(2,3,4,5)\n"
   ]
  },
  {
   "cell_type": "code",
   "execution_count": 14,
   "id": "1effc5f2-03f3-48ec-9f2c-7cfe59268b05",
   "metadata": {},
   "outputs": [
    {
     "name": "stdout",
     "output_type": "stream",
     "text": [
      "name:absxf\n",
      "age:78\n",
      "city:nashik\n"
     ]
    }
   ],
   "source": [
    "# **kwargs → dictionary of keyword arguments\n",
    "def info(**kwargs):\n",
    "    for key,value in kwargs.items():\n",
    "        print(f\"{key}:{value}\")\n",
    "info(name=\"absxf\" , age=78,city=\"nashik\")"
   ]
  },
  {
   "cell_type": "code",
   "execution_count": 17,
   "id": "2e3d6ec0-a3e5-4909-b4df-af6ecdea47e9",
   "metadata": {},
   "outputs": [
    {
     "name": "stdout",
     "output_type": "stream",
     "text": [
      "apple\n",
      "banana\n",
      "cherry\n"
     ]
    }
   ],
   "source": [
    "def my_func(* x):\n",
    "    for a in x:\n",
    "        print(a)\n",
    "my_func(\"apple\", \"banana\",\"cherry\")        "
   ]
  },
  {
   "cell_type": "markdown",
   "id": "fcd6b478-a07c-4444-b6b3-f665f98addcf",
   "metadata": {},
   "source": [
    "<h3 data-start=\"1353\" data-end=\"1390\">✅ 7. Lambda (Anonymous) Functions</h3>\n",
    "=> Prefer lambda for small, single-expression functions , don't use lambda for complex multi-line operations (it only allows expressions, not statements)."
   ]
  },
  {
   "cell_type": "markdown",
   "id": "fea2458f-4bc3-4c65-b1ea-3a2a103c8c44",
   "metadata": {},
   "source": [
    "````python\n",
    "syntax=> lambda arguments:expression"
   ]
  },
  {
   "cell_type": "code",
   "execution_count": 20,
   "id": "e7f023f9-8b9f-4b9e-b7bf-a21476ce6965",
   "metadata": {},
   "outputs": [
    {
     "name": "stdout",
     "output_type": "stream",
     "text": [
      "81\n"
     ]
    }
   ],
   "source": [
    "square = lambda x:x**2\n",
    "print(square(9))"
   ]
  },
  {
   "cell_type": "code",
   "execution_count": 22,
   "id": "dcb70714-7f97-4be4-9060-badf03cb5b65",
   "metadata": {},
   "outputs": [
    {
     "name": "stdout",
     "output_type": "stream",
     "text": [
      "17\n"
     ]
    }
   ],
   "source": [
    "#with multiple arguments\n",
    "add = lambda a,b:a+b\n",
    "print(add(9,8))"
   ]
  },
  {
   "cell_type": "markdown",
   "id": "85260fb6-6540-4d29-a148-e75be0279094",
   "metadata": {},
   "source": [
    "<h3 data-start=\"1571\" data-end=\"1600\">✅ 8. Function as Argument</h3>"
   ]
  },
  {
   "cell_type": "code",
   "execution_count": 29,
   "id": "4be59b4c-8970-49a3-9a0a-b0c205d8990f",
   "metadata": {},
   "outputs": [
    {
     "name": "stdout",
     "output_type": "stream",
     "text": [
      "25\n",
      "15\n"
     ]
    }
   ],
   "source": [
    "def square( x):\n",
    "    return x**2\n",
    "def apply_funct(func , value):\n",
    "    return func(value)\n",
    "print(apply_funct(square,5)) \n",
    "print(apply_funct(lambda x:x+10 , 5))"
   ]
  },
  {
   "cell_type": "markdown",
   "id": "d4e960c8-9804-452c-978a-652cf2182065",
   "metadata": {},
   "source": [
    "<h3 data-start=\"1784\" data-end=\"1809\">✅ 9. Nested Functions</h3>"
   ]
  },
  {
   "cell_type": "code",
   "execution_count": 31,
   "id": "ab6d9cfb-19b2-4e6e-91a7-41904034220d",
   "metadata": {},
   "outputs": [
    {
     "name": "stdout",
     "output_type": "stream",
     "text": [
      "outer function\n",
      "inner function\n"
     ]
    }
   ],
   "source": [
    "def outer_func():\n",
    "    print(\"outer function\")\n",
    "    def inner_func():\n",
    "        print(\"inner function\")\n",
    "    inner_func()\n",
    "outer_func()    "
   ]
  },
  {
   "cell_type": "markdown",
   "id": "d5fa7f8a-55b7-4c8d-bdc6-c59fd756db91",
   "metadata": {},
   "source": [
    "<h3 data-start=\"1941\" data-end=\"1960\">✅ 10. Recursion</h3>"
   ]
  },
  {
   "cell_type": "code",
   "execution_count": 32,
   "id": "da1b4d67-4e75-4ae2-9f3a-5be83d316521",
   "metadata": {},
   "outputs": [
    {
     "name": "stdout",
     "output_type": "stream",
     "text": [
      "362880\n"
     ]
    }
   ],
   "source": [
    "#factorial example\n",
    "def factorial(n):\n",
    "    if n==1 or n==0:\n",
    "        return 1\n",
    "    else:\n",
    "        return n* factorial (n-1)\n",
    "print (factorial(9))        "
   ]
  },
  {
   "cell_type": "markdown",
   "id": "7c990681-4ba4-4cd7-9681-ffe7401fb1eb",
   "metadata": {},
   "source": [
    "<h3 data-start=\"2133\" data-end=\"2168\">✅ 11. Returning Multiple Values</h3>"
   ]
  },
  {
   "cell_type": "code",
   "execution_count": 33,
   "id": "42ea94cf-cdb0-4734-96c4-6590f79e7e3c",
   "metadata": {},
   "outputs": [
    {
     "name": "stdout",
     "output_type": "stream",
     "text": [
      "12 8 20 5.0\n"
     ]
    }
   ],
   "source": [
    "def arithmetic_ops(a, b):\n",
    "    return a+b, a-b, a*b, a/b\n",
    "\n",
    "add_res, sub_res, mul_res, div_res = arithmetic_ops(10, 2)\n",
    "print(add_res, sub_res, mul_res, div_res)\n"
   ]
  },
  {
   "cell_type": "markdown",
   "id": "2d841d22-707e-41e2-933e-955203f8b14c",
   "metadata": {},
   "source": [
    "<h3 data-start=\"2347\" data-end=\"2382\">✅ 12. Global vs Local Variables</h3>"
   ]
  },
  {
   "cell_type": "code",
   "execution_count": 39,
   "id": "d3a90119-7bd6-4059-aab9-26b99dc4dd87",
   "metadata": {},
   "outputs": [
    {
     "name": "stdout",
     "output_type": "stream",
     "text": [
      "Inside Function: 5\n",
      "Outside function: 10\n"
     ]
    }
   ],
   "source": [
    "x=10\n",
    "def demo():\n",
    "    x=5 #local\n",
    "    print(\"Inside Function:\" ,x)\n",
    " \n",
    "demo()\n",
    "print(\"Outside function:\" , x) "
   ]
  },
  {
   "cell_type": "code",
   "execution_count": 40,
   "id": "b0404f95-dc70-481e-995d-3f9bf3c33acd",
   "metadata": {},
   "outputs": [
    {
     "name": "stdout",
     "output_type": "stream",
     "text": [
      "20\n"
     ]
    }
   ],
   "source": [
    "# Using global keyword\n",
    "y = 10\n",
    "def change_global():\n",
    "    global y\n",
    "    y = 20\n",
    "\n",
    "change_global()\n",
    "print(y)  # 20\n"
   ]
  },
  {
   "cell_type": "code",
   "execution_count": 47,
   "id": "dca88f43-35ea-4e8a-aa89-47e07ca05c76",
   "metadata": {},
   "outputs": [
    {
     "data": {
      "text/plain": [
       "True"
      ]
     },
     "execution_count": 47,
     "metadata": {},
     "output_type": "execute_result"
    }
   ],
   "source": [
    "# example : check prime number\n",
    "def prime(n):\n",
    "    if n<=1:\n",
    "        return False\n",
    "    for i in range(2, int(0.5**2)+1):\n",
    "         if n%i==0:\n",
    "             return False \n",
    "    return True\n",
    "prime(7)           \n",
    "       \n",
    "        "
   ]
  },
  {
   "cell_type": "code",
   "execution_count": 48,
   "id": "e86e693c-4311-445e-8688-d097022e4882",
   "metadata": {},
   "outputs": [
    {
     "name": "stdout",
     "output_type": "stream",
     "text": [
      "[0, 1, 1, 2, 3, 5, 8, 13, 21, 34]\n"
     ]
    }
   ],
   "source": [
    "# fibonacci series\n",
    "\n",
    "def fibonacci(n):\n",
    "    fib = [0, 1]\n",
    "    for i in range(2, n):\n",
    "        fib.append(fib[i-1] + fib[i-2])\n",
    "    return fib[:n]\n",
    "\n",
    "print(fibonacci(10))\n"
   ]
  },
  {
   "cell_type": "code",
   "execution_count": 55,
   "id": "31cd2b81-d68b-4179-8e94-f6a6a92ec860",
   "metadata": {},
   "outputs": [
    {
     "name": "stdin",
     "output_type": "stream",
     "text": [
      "Enter numbers separated by space(not by commas):  45 67 32 12 346 7889 \n"
     ]
    },
    {
     "name": "stdout",
     "output_type": "stream",
     "text": [
      "Mean: 1398.5\n"
     ]
    }
   ],
   "source": [
    "# Compute mean of a list\n",
    "data = input(\"Enter numbers separated by space(not by commas): \").split()\n",
    "data = [float(x) for x in data]  # convert each string to float\n",
    "def mean(numbers):\n",
    "    return sum(numbers)/len(numbers)\n",
    "print(\"Mean:\", mean(data))\n"
   ]
  },
  {
   "cell_type": "markdown",
   "id": "6727d4a9-15a2-42de-97e1-49ed44a2c30b",
   "metadata": {},
   "source": [
    "# Python Function Arguments – All in One\n",
    "\n",
    "```python\n",
    "# 1. Positional Arguments\n",
    "def greet(name, age):\n",
    "    print(f\"Hello {name}, you are {age} years old.\")\n",
    "greet(\"Sakshi\", 20)\n",
    "\n",
    "# 2. Keyword Arguments (order doesn't matter)\n",
    "greet(age=20, name=\"Sakshi\")\n",
    "\n",
    "# 3. Default Arguments\n",
    "def greet_default(name, age=18):\n",
    "    print(f\"Hello {name}, you are {age} years old.\")\n",
    "greet_default(\"Sakshi\")       # default age=18\n",
    "greet_default(\"Rahul\", 25)    # overrides default\n",
    "\n",
    "# 4a. Variable-length positional arguments (*args)\n",
    "def add(*numbers):\n",
    "    return sum(numbers)\n",
    "print(add(2,3))       # 5\n",
    "print(add(1,2,3,4))   # 10\n",
    "\n",
    "# 4b. Variable-length keyword arguments (**kwargs)\n",
    "def info(**kwargs):\n",
    "    for k,v in kwargs.items():\n",
    "        print(f\"{k}: {v}\")\n",
    "info(name=\"Sakshi\", age=20, city=\"Pune\")\n",
    "\n",
    "# 5. Combination of Arguments\n",
    "# Order: Positional → Default → *args → Keyword-only → **kwargs\n",
    "def func(a, b=2, *args, **kwargs):\n",
    "    print(a, b, args, kwargs)\n",
    "func(1,3,4,5,x=10,y=20)\n",
    "# Output: 1 3 (4, 5) {'x': 10, 'y': 20}\n"
   ]
  },
  {
   "cell_type": "code",
   "execution_count": 57,
   "id": "29de3123-eea9-4eaa-a931-4258f3205896",
   "metadata": {},
   "outputs": [
    {
     "name": "stdout",
     "output_type": "stream",
     "text": [
      "naman is a palindrome\n"
     ]
    }
   ],
   "source": [
    "# palindrome\n",
    "def palin(st):\n",
    "    rev=\"\"\n",
    "    for i in range(len(st)-1,-1,-1):\n",
    "        rev=rev + st[i]\n",
    "    if rev==st:\n",
    "        print(f\"{st} is a palindrome\")\n",
    "    else:\n",
    "        print(f\"{st} is not a palindrome\")\n",
    "palin(\"naman\")       "
   ]
  },
  {
   "cell_type": "code",
   "execution_count": null,
   "id": "65bfa11d-2ac5-40af-808b-e7600c7a4035",
   "metadata": {},
   "outputs": [],
   "source": [
    "#return() => return abck to value wherever we have called the function"
   ]
  }
 ],
 "metadata": {
  "kernelspec": {
   "display_name": "Python [conda env:base] *",
   "language": "python",
   "name": "conda-base-py"
  },
  "language_info": {
   "codemirror_mode": {
    "name": "ipython",
    "version": 3
   },
   "file_extension": ".py",
   "mimetype": "text/x-python",
   "name": "python",
   "nbconvert_exporter": "python",
   "pygments_lexer": "ipython3",
   "version": "3.13.5"
  }
 },
 "nbformat": 4,
 "nbformat_minor": 5
}
