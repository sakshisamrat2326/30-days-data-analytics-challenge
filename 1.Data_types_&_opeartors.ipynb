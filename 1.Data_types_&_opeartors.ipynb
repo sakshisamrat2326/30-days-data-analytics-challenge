{
 "cells": [
  {
   "cell_type": "markdown",
   "id": "621c2415-efb9-46e0-986d-e5a2c286a5c7",
   "metadata": {},
   "source": [
    "<h1 data-start=\"99\" data-end=\"123\">🐍 Python Data Types & Operators</h1>"
   ]
  },
  {
   "cell_type": "markdown",
   "id": "164f54cb-91a4-485a-8032-4a1ee7d1fa2a",
   "metadata": {},
   "source": [
    "<h3 data-start=\"125\" data-end=\"149\">1. <strong data-start=\"132\" data-end=\"149\">Numeric Types</strong></h3>"
   ]
  },
  {
   "cell_type": "code",
   "execution_count": null,
   "id": "e4217470-2cba-4c09-ab25-1cbc1a8c0da4",
   "metadata": {},
   "outputs": [],
   "source": [
    "1. Int data type → Whole number (positive,negative,zero)"
   ]
  },
  {
   "cell_type": "code",
   "execution_count": 1,
   "id": "955d8a3c-753d-4a2f-8947-12d5d242f026",
   "metadata": {},
   "outputs": [],
   "source": [
    "a=12"
   ]
  },
  {
   "cell_type": "code",
   "execution_count": null,
   "id": "e52aac66-1849-4055-a2ea-4d3536b97461",
   "metadata": {},
   "outputs": [],
   "source": [
    "2. Float → Real numbers / Decimal"
   ]
  },
  {
   "cell_type": "code",
   "execution_count": 2,
   "id": "b31bf4a5-359b-4068-8370-c5e9cfbed17e",
   "metadata": {},
   "outputs": [],
   "source": [
    "f=4.7"
   ]
  },
  {
   "cell_type": "code",
   "execution_count": null,
   "id": "c8b4f8db-e1fe-41f9-b78c-be4306ef688a",
   "metadata": {},
   "outputs": [],
   "source": [
    "3. Complex → numbers with real + imaginary part"
   ]
  },
  {
   "cell_type": "code",
   "execution_count": 3,
   "id": "b9419ffd-ed57-4522-b595-f03c13c9c373",
   "metadata": {},
   "outputs": [],
   "source": [
    "c= 3+7j"
   ]
  },
  {
   "cell_type": "markdown",
   "id": "145ac88f-9199-40cb-b84a-f58e48f01a51",
   "metadata": {},
   "source": [
    "<h3 data-start=\"432\" data-end=\"457\">2. <strong data-start=\"439\" data-end=\"457\">Sequence Types</strong></h3>"
   ]
  },
  {
   "cell_type": "code",
   "execution_count": null,
   "id": "31fa0522-e914-4c62-a36b-f9483afa8046",
   "metadata": {},
   "outputs": [],
   "source": [
    "1. str → String(Text inside quotes )"
   ]
  },
  {
   "cell_type": "code",
   "execution_count": 4,
   "id": "1b626662-18c9-4f5d-bb2c-719fadee8584",
   "metadata": {},
   "outputs": [],
   "source": [
    "city = \"Arizona\""
   ]
  },
  {
   "cell_type": "code",
   "execution_count": null,
   "id": "20a82ef3-0663-489e-befa-a6f940613796",
   "metadata": {},
   "outputs": [],
   "source": [
    "2. List → Ordered, mutable, allows duplicates."
   ]
  },
  {
   "cell_type": "code",
   "execution_count": 5,
   "id": "c5877b38-2eb3-4bf2-ae3b-a3a5cfb8700d",
   "metadata": {},
   "outputs": [],
   "source": [
    "my_list= [2,3,\"Tempe\",True]"
   ]
  },
  {
   "cell_type": "code",
   "execution_count": null,
   "id": "763aada4-cae5-4092-99bb-d0f7c1009a67",
   "metadata": {},
   "outputs": [],
   "source": [
    "3. tuple → Ordered, immutable, allows duplicates."
   ]
  },
  {
   "cell_type": "code",
   "execution_count": 8,
   "id": "d7ca60fe-a1af-45cd-a760-db218d77eb5d",
   "metadata": {},
   "outputs": [],
   "source": [
    "my_tuple=(0,\"hhh\",False,8.7,7)"
   ]
  },
  {
   "cell_type": "code",
   "execution_count": null,
   "id": "d78bc220-0af7-41cf-8d29-3cb04c79e83a",
   "metadata": {},
   "outputs": [],
   "source": [
    "4. range → Sequence of numbers (used in loops)."
   ]
  },
  {
   "cell_type": "code",
   "execution_count": 11,
   "id": "d74f6e0b-ff42-48c7-9d42-34969fbacaf6",
   "metadata": {},
   "outputs": [],
   "source": [
    "r= range(5)"
   ]
  },
  {
   "cell_type": "code",
   "execution_count": 12,
   "id": "456794b7-3e21-48e9-acaa-4627beca7dc9",
   "metadata": {},
   "outputs": [
    {
     "name": "stdout",
     "output_type": "stream",
     "text": [
      "range(0, 5)\n"
     ]
    }
   ],
   "source": [
    "print(r)"
   ]
  },
  {
   "cell_type": "markdown",
   "id": "385afc52-b358-4170-99a6-9c6518545bee",
   "metadata": {},
   "source": [
    "<h3 data-start=\"850\" data-end=\"873\">3. <strong data-start=\"857\" data-end=\"873\">Mapping Type</strong></h3>"
   ]
  },
  {
   "cell_type": "code",
   "execution_count": null,
   "id": "1acf4030-f612-46ef-8a65-23be280c99ca",
   "metadata": {},
   "outputs": [],
   "source": [
    "dict  → (dictionary), key value pair , ordered , immutable"
   ]
  },
  {
   "cell_type": "code",
   "execution_count": 17,
   "id": "c7244680-1e09-4b37-a6dd-bf9d2b915af9",
   "metadata": {},
   "outputs": [],
   "source": [
    "my_dict= {\"Name\":\"dhy\",\"age\":9,\"whetehr\":True}"
   ]
  },
  {
   "cell_type": "markdown",
   "id": "71abbe61-5149-4d3f-893c-1674fc0b947a",
   "metadata": {},
   "source": [
    "<h3 data-start=\"994\" data-end=\"1014\">4. <strong data-start=\"1001\" data-end=\"1014\">Set Types</strong></h3>"
   ]
  },
  {
   "cell_type": "code",
   "execution_count": null,
   "id": "81a4890a-6434-40f7-9f29-9b9577cc6849",
   "metadata": {},
   "outputs": [],
   "source": [
    "set → unordered, mutable,no-duplicates "
   ]
  },
  {
   "cell_type": "code",
   "execution_count": null,
   "id": "f1f643cd-f4a8-415e-be2a-e235838fb90a",
   "metadata": {},
   "outputs": [],
   "source": [
    "my_set={\"Arizona\" , True,8,9.4}"
   ]
  },
  {
   "cell_type": "code",
   "execution_count": null,
   "id": "3913756f-6bdc-4d37-872f-b76a1f5774f1",
   "metadata": {},
   "outputs": [],
   "source": [
    "frozenset → Immutable version of set."
   ]
  },
  {
   "cell_type": "code",
   "execution_count": 18,
   "id": "ce35764d-ad5e-4b5e-86b3-1dd96231e1f7",
   "metadata": {},
   "outputs": [],
   "source": [
    "my_frozenset= ({\"dhy\",9,True})"
   ]
  },
  {
   "cell_type": "markdown",
   "id": "204dd99c-f1cf-48ed-9588-ec2d677ebddb",
   "metadata": {},
   "source": [
    "<h3 data-start=\"1208\" data-end=\"1231\">5. <strong data-start=\"1215\" data-end=\"1231\">Boolean Type</strong></h3>"
   ]
  },
  {
   "cell_type": "code",
   "execution_count": null,
   "id": "378c610c-e058-4296-ac9a-9159938d4d88",
   "metadata": {},
   "outputs": [],
   "source": [
    "bool  →  True or False"
   ]
  },
  {
   "cell_type": "code",
   "execution_count": null,
   "id": "5d878444-d0c1-4f33-bea3-7120208969bf",
   "metadata": {},
   "outputs": [],
   "source": [
    "a=True\n",
    "b=False"
   ]
  },
  {
   "cell_type": "markdown",
   "id": "792c9c17-1bc1-4879-9c8a-9caff6d801b4",
   "metadata": {},
   "source": [
    "<h3 data-start=\"1311\" data-end=\"1334\">6. <strong data-start=\"1318\" data-end=\"1334\">Binary Types</strong></h3>"
   ]
  },
  {
   "cell_type": "code",
   "execution_count": null,
   "id": "b2766cf4-06b7-4aec-9158-985fbb76d03b",
   "metadata": {},
   "outputs": [],
   "source": [
    "bytes → Immutable sequence of bytes."
   ]
  },
  {
   "cell_type": "code",
   "execution_count": 19,
   "id": "817c364d-f206-4d45-8ea8-6b9383feea57",
   "metadata": {},
   "outputs": [],
   "source": [
    "b=b\"hello\""
   ]
  },
  {
   "cell_type": "code",
   "execution_count": 21,
   "id": "6e543fbb-1326-40fa-8b8c-0391d152e757",
   "metadata": {},
   "outputs": [
    {
     "name": "stdout",
     "output_type": "stream",
     "text": [
      "b'hello'\n"
     ]
    }
   ],
   "source": [
    "print(b)"
   ]
  },
  {
   "cell_type": "code",
   "execution_count": null,
   "id": "15de0185-5b10-4a60-9fa1-9b262f3f6fe1",
   "metadata": {},
   "outputs": [],
   "source": [
    "bytearray → Mutable version of bytes."
   ]
  },
  {
   "cell_type": "code",
   "execution_count": 22,
   "id": "1738a337-7ce2-4426-82b9-26b43c766245",
   "metadata": {},
   "outputs": [
    {
     "name": "stdout",
     "output_type": "stream",
     "text": [
      "bytearray(b'CYP')\n"
     ]
    }
   ],
   "source": [
    "ba=bytearray([67,89,80])\n",
    "print(ba)\n"
   ]
  },
  {
   "cell_type": "code",
   "execution_count": null,
   "id": "e31701d6-bef7-4737-b536-9ed30e0232f5",
   "metadata": {},
   "outputs": [],
   "source": [
    "memoryview → View object of bytes/bytearray."
   ]
  },
  {
   "cell_type": "code",
   "execution_count": 23,
   "id": "2a0f676a-0ae1-4cf1-85e0-901a8d1bd401",
   "metadata": {},
   "outputs": [],
   "source": [
    "mv=memoryview(b\"hello\")"
   ]
  },
  {
   "cell_type": "markdown",
   "id": "fdae61c5-3529-419e-9ba7-502a946d9c99",
   "metadata": {},
   "source": [
    "<h3 data-start=\"1311\" data-end=\"1334\"><strong data-start=\"1318\" data-end=\"1334\">String</strong></h3>"
   ]
  },
  {
   "cell_type": "code",
   "execution_count": 24,
   "id": "5ff2c35d-884d-4b44-b3a9-e7c5706d2ba7",
   "metadata": {},
   "outputs": [
    {
     "name": "stdout",
     "output_type": "stream",
     "text": [
      "\u0017\n"
     ]
    }
   ],
   "source": [
    "a=23\n",
    "print(chr(a))"
   ]
  },
  {
   "cell_type": "code",
   "execution_count": 29,
   "id": "2d403734-b6b9-4edf-9899-165e4a509c98",
   "metadata": {},
   "outputs": [
    {
     "name": "stdout",
     "output_type": "stream",
     "text": [
      "H\n",
      "r r\n"
     ]
    }
   ],
   "source": [
    "#access why index\n",
    "s=\"Hello Brother\"\n",
    "print(s[0])\n",
    "print(s[-1] , s[7])"
   ]
  },
  {
   "cell_type": "markdown",
   "id": "37bdc855-3939-4314-b484-b9b351a4a29e",
   "metadata": {},
   "source": [
    "<h3 data-start=\"1311\" data-end=\"1334\"><strong data-start=\"1318\" data-end=\"1334\">Type conversion</strong></h3>"
   ]
  },
  {
   "cell_type": "code",
   "execution_count": 3,
   "id": "93a996f9-f243-4b22-b29c-8903990b30cb",
   "metadata": {},
   "outputs": [
    {
     "name": "stdout",
     "output_type": "stream",
     "text": [
      "<class 'str'>\n"
     ]
    }
   ],
   "source": [
    "a=23\n",
    "a=str(a)\n",
    "print(type(a))\n"
   ]
  },
  {
   "cell_type": "code",
   "execution_count": 4,
   "id": "d97967c5-902e-48bf-b326-82003a7a69cf",
   "metadata": {},
   "outputs": [
    {
     "name": "stdout",
     "output_type": "stream",
     "text": [
      "<class 'int'>\n"
     ]
    }
   ],
   "source": [
    "a=\"12\"\n",
    "a=int(a)\n",
    "print(type(a))"
   ]
  },
  {
   "cell_type": "code",
   "execution_count": 5,
   "id": "b545aa89-4e19-46e0-bad7-842b2cb5a5c0",
   "metadata": {},
   "outputs": [],
   "source": [
    "# truthy values:\n",
    "# falsy values : false,0,0.0,empty string , empty list[] ,empty tuple() , empty dict{} "
   ]
  },
  {
   "cell_type": "markdown",
   "id": "dae13139-7bc1-4b1d-b8e4-e51760f859f9",
   "metadata": {},
   "source": [
    "<h3 data-start=\"1311\" data-end=\"1334\"><strong data-start=\"1318\" data-end=\"1334\">Input & Output</strong></h3>"
   ]
  },
  {
   "cell_type": "code",
   "execution_count": 6,
   "id": "80b36b32-5814-450f-bd62-07d7c25fa0fb",
   "metadata": {},
   "outputs": [
    {
     "name": "stdout",
     "output_type": "stream",
     "text": [
      "34 Alen\n"
     ]
    }
   ],
   "source": [
    "name=\"Alen\"\n",
    "age=34\n",
    "print(age , name)"
   ]
  },
  {
   "cell_type": "code",
   "execution_count": 7,
   "id": "bbf4efa3-4db5-4716-934b-27c9fc2fb4cb",
   "metadata": {},
   "outputs": [
    {
     "name": "stdout",
     "output_type": "stream",
     "text": [
      "hello my name is Alex and my age is 35\n"
     ]
    }
   ],
   "source": [
    "name=\"Alex\"\n",
    "age=35\n",
    "print (\"hello my name is\" , name , \"and my age is\" , age)"
   ]
  },
  {
   "cell_type": "markdown",
   "id": "5ee4b90d-f692-45fe-919d-2c1df53384be",
   "metadata": {},
   "source": [
    "#### formated string"
   ]
  },
  {
   "cell_type": "code",
   "execution_count": 9,
   "id": "eb7a6ac8-c713-4095-a671-e7679cee2524",
   "metadata": {},
   "outputs": [
    {
     "name": "stdout",
     "output_type": "stream",
     "text": [
      "my name is Alex and my age is 35\n"
     ]
    }
   ],
   "source": [
    "print( f\"my name is {name} and my age is {age}\") # ## no need to use string again n again\n"
   ]
  },
  {
   "cell_type": "markdown",
   "id": "1e6d3a18-160d-478b-860b-cc9e80bac268",
   "metadata": {},
   "source": [
    "#### Input"
   ]
  },
  {
   "cell_type": "code",
   "execution_count": 10,
   "id": "5aa25629-df2d-40dd-a80c-deec5fb9cc29",
   "metadata": {},
   "outputs": [
    {
     "name": "stdin",
     "output_type": "stream",
     "text": [
      "hello what is your age 23\n"
     ]
    },
    {
     "name": "stdout",
     "output_type": "stream",
     "text": [
      "23\n"
     ]
    }
   ],
   "source": [
    "age =input (\"hello what is your age\")\n",
    "print(age)"
   ]
  },
  {
   "cell_type": "code",
   "execution_count": 11,
   "id": "4e887d13-8e81-4149-8a7e-e2356b1f3089",
   "metadata": {},
   "outputs": [
    {
     "name": "stdin",
     "output_type": "stream",
     "text": [
      "hello what is your age 23\n"
     ]
    },
    {
     "name": "stdout",
     "output_type": "stream",
     "text": [
      "23\n"
     ]
    }
   ],
   "source": [
    "age = int (input  (\"hello what is your age\")) # converted into int\n",
    "print(age)"
   ]
  },
  {
   "cell_type": "markdown",
   "id": "1722c69d-fbe4-42be-82fa-f9a14c4cf64d",
   "metadata": {},
   "source": [
    "# 🐍 Python Operators Cheat Sheet\n",
    "\n",
    "## 1. Arithmetic Operators\n",
    "| Operator | Description       | Example (`a=10, b=3`) | Result |\n",
    "|----------|------------------|------------------------|--------|\n",
    "| `+`      | Addition          | `a + b`               | `13`   |\n",
    "| `-`      | Subtraction       | `a - b`               | `7`    |\n",
    "| `*`      | Multiplication    | `a * b`               | `30`   |\n",
    "| `/`      | Division          | `a / b`               | `3.333`|\n",
    "| `//`     | Floor Division    | `a // b`              | `3`    |\n",
    "| `%`      | Modulus           | `a % b`               | `1`    |\n",
    "| `**`     | Exponentiation    | `a ** b`              | `1000` |\n",
    "\n",
    "---\n",
    "\n",
    "## 2. Comparison (Relational) Operators\n",
    "| Operator | Description                  | Example (`a=10, b=3`) | Result |\n",
    "|----------|------------------------------|------------------------|--------|\n",
    "| `==`     | Equal to                     | `a == b`              | `False`|\n",
    "| `!=`     | Not equal to                 | `a != b`              | `True` |\n",
    "| `>`      | Greater than                 | `a > b`               | `True` |\n",
    "| `<`      | Less than                    | `a < b`               | `False`|\n",
    "| `>=`     | Greater than or equal to     | `a >= b`              | `True` |\n",
    "| `<=`     | Less than or equal to        | `a <= b`              | `False`|\n",
    "\n",
    "---\n",
    "\n",
    "## 3. Logical Operators\n",
    "| Operator | Description   | Example                        | Result |\n",
    "|----------|---------------|--------------------------------|--------|\n",
    "| `and`    | True if both  | `(a > 5) and (b < 5)`         | `True` |\n",
    "| `or`     | True if either| `(a > 5) or (b > 10)`         | `True` |\n",
    "| `not`    | Negation      | `not(a > 5)`                  | `False`|\n",
    "\n",
    "---\n",
    "\n",
    "## 4. Assignment Operators\n",
    "| Operator | Description            | Example (`a=10`)   | Result |\n",
    "|----------|------------------------|--------------------|--------|\n",
    "| `=`      | Assign                 | `a = 5`            | `5`    |\n",
    "| `+=`     | Add & assign           | `a += 2` → `a=12`  | `12`   |\n",
    "| `-=`     | Subtract & assign      | `a -= 2` → `a=8`   | `8`    |\n",
    "| `*=`     | Multiply & assign      | `a *= 2` → `a=20`  | `20`   |\n",
    "| `/=`     | Divide & assign        | `a /= 2` → `a=5.0` | `5.0`  |\n",
    "| `//=`    | Floor divide & assign  | `a //= 3`          | `3`    |\n",
    "| `%=`     | Modulus & assign       | `a %= 3`           | `1`    |\n",
    "| `**=`    | Exponent & assign      | `a **= 2`          | `100`  |\n",
    "\n",
    "---\n",
    "\n",
    "## 5. Bitwise Operators\n",
    "| Operator | Description                  | Example (`a=10, b=3`) | Result |\n",
    "|----------|------------------------------|------------------------|--------|\n",
    "| `&`      | Bitwise AND                  | `a & b`               | `2`    |\n",
    "| `|`      | Bitwise OR                   | `a | b`               | `11`   |\n",
    "| `^`      | Bitwise XOR                  | `a ^ b`               | `9`    |\n",
    "| `~`      | Bitwise NOT (1’s complement) | `~a`                  | `-11`  |\n",
    "| `<<`     | Bitwise left shift           | `a << 1`              | `20`   |\n",
    "| `>>`     | Bitwise right shift          | `a >> 1`              | `5`    |\n",
    "\n",
    "---\n",
    "\n",
    "## 6. Membership Operators\n",
    "| Operator | Description                     | Example | Result |\n",
    "|----------|---------------------------------|---------|--------|\n",
    "| `in`     | True if value exists in sequence | `\"a\" in \"apple\"` | `True` |\n",
    "| `not in` | True if value does not exist    | `\"z\" not in \"apple\"` | `True` |\n",
    "\n",
    "---\n",
    "\n",
    "## 7. Identity Operators\n",
    "| Operator | Description                  | Example                  | Result |\n",
    "|----------|------------------------------|--------------------------|--------|\n",
    "| `is`     | True if objects are same     | `a is b` (same memory)  | Depends|\n",
    "| `is not` | True if objects differ       | `a is not b`            | Depends|\n",
    "\n",
    "---\n",
    "\n",
    "✅\n"
   ]
  },
  {
   "cell_type": "code",
   "execution_count": 12,
   "id": "bb50418c-7d51-4a8b-a084-197fa10ebf0b",
   "metadata": {},
   "outputs": [
    {
     "name": "stdout",
     "output_type": "stream",
     "text": [
      "a = 10  b = 3\n",
      "\n",
      "=== Arithmetic Operators ===\n",
      "a + b = 13\n",
      "a - b = 7\n",
      "a * b = 30\n",
      "a / b = 3.3333333333333335\n",
      "a // b = 3\n",
      "a % b = 1\n",
      "a ** b = 1000\n",
      "\n",
      "=== Comparison Operators ===\n",
      "a == b: False\n",
      "a != b: True\n",
      "a > b: True\n",
      "a < b: False\n",
      "a >= b: True\n",
      "a <= b: False\n",
      "\n",
      "=== Logical Operators ===\n",
      "(a > 5) and (b < 5): True\n",
      "(a > 5) or (b > 10): True\n",
      "not(a > 5): False\n",
      "\n",
      "=== Assignment Operators ===\n",
      "c = 10\n",
      "c += 2 → 12\n",
      "c -= 2 → 10\n",
      "c *= 2 → 20\n",
      "c /= 2 → 10.0\n",
      "c //= 3 → 3.0\n",
      "c %= 3 → 0.0\n",
      "c **= 2 → 0.0\n",
      "\n",
      "=== Bitwise Operators ===\n",
      "a & b = 2\n",
      "a | b = 11\n",
      "a ^ b = 9\n",
      "~a = -11\n",
      "a << 1 = 20\n",
      "a >> 1 = 5\n",
      "\n",
      "=== Membership Operators ===\n",
      "'a' in 'apple' → True\n",
      "'z' not in 'apple' → True\n",
      "\n",
      "=== Identity Operators ===\n",
      "x is y: False\n",
      "x is z: True\n",
      "x is not y: True\n"
     ]
    }
   ],
   "source": [
    "# 🐍 Python Operators Cheat Sheet (Code Version)\n",
    "\n",
    "a, b = 10, 3\n",
    "print(\"a =\", a, \" b =\", b)\n",
    "\n",
    "print(\"\\n=== Arithmetic Operators ===\")\n",
    "print(\"a + b =\", a + b)    # Addition\n",
    "print(\"a - b =\", a - b)    # Subtraction\n",
    "print(\"a * b =\", a * b)    # Multiplication\n",
    "print(\"a / b =\", a / b)    # Division\n",
    "print(\"a // b =\", a // b)  # Floor Division\n",
    "print(\"a % b =\", a % b)    # Modulus\n",
    "print(\"a ** b =\", a ** b)  # Exponentiation\n",
    "\n",
    "print(\"\\n=== Comparison Operators ===\")\n",
    "print(\"a == b:\", a == b)\n",
    "print(\"a != b:\", a != b)\n",
    "print(\"a > b:\", a > b)\n",
    "print(\"a < b:\", a < b)\n",
    "print(\"a >= b:\", a >= b)\n",
    "print(\"a <= b:\", a <= b)\n",
    "\n",
    "print(\"\\n=== Logical Operators ===\")\n",
    "print(\"(a > 5) and (b < 5):\", (a > 5) and (b < 5))\n",
    "print(\"(a > 5) or (b > 10):\", (a > 5) or (b > 10))\n",
    "print(\"not(a > 5):\", not(a > 5))\n",
    "\n",
    "print(\"\\n=== Assignment Operators ===\")\n",
    "c = 10\n",
    "print(\"c =\", c)\n",
    "c += 2; print(\"c += 2 →\", c)\n",
    "c -= 2; print(\"c -= 2 →\", c)\n",
    "c *= 2; print(\"c *= 2 →\", c)\n",
    "c /= 2; print(\"c /= 2 →\", c)\n",
    "c //= 3; print(\"c //= 3 →\", c)\n",
    "c %= 3; print(\"c %= 3 →\", c)\n",
    "c **= 2; print(\"c **= 2 →\", c)\n",
    "\n",
    "print(\"\\n=== Bitwise Operators ===\")\n",
    "print(\"a & b =\", a & b)   # AND\n",
    "print(\"a | b =\", a | b)   # OR\n",
    "print(\"a ^ b =\", a ^ b)   # XOR\n",
    "print(\"~a =\", ~a)         # NOT\n",
    "print(\"a << 1 =\", a << 1) # Left shift\n",
    "print(\"a >> 1 =\", a >> 1) # Right shift\n",
    "\n",
    "print(\"\\n=== Membership Operators ===\")\n",
    "print(\"'a' in 'apple' →\", 'a' in 'apple')\n",
    "print(\"'z' not in 'apple' →\", 'z' not in 'apple')\n",
    "\n",
    "print(\"\\n=== Identity Operators ===\")\n",
    "x = [1, 2, 3]\n",
    "y = [1, 2, 3]\n",
    "z = x\n",
    "print(\"x is y:\", x is y)         # False (different objects)\n",
    "print(\"x is z:\", x is z)         # True (same object)\n",
    "print(\"x is not y:\", x is not y) # True\n"
   ]
  },
  {
   "cell_type": "code",
   "execution_count": null,
   "id": "94482c67-e163-42d8-bcd7-4ad2e5aa62de",
   "metadata": {},
   "outputs": [],
   "source": []
  }
 ],
 "metadata": {
  "kernelspec": {
   "display_name": "Python [conda env:base] *",
   "language": "python",
   "name": "conda-base-py"
  },
  "language_info": {
   "codemirror_mode": {
    "name": "ipython",
    "version": 3
   },
   "file_extension": ".py",
   "mimetype": "text/x-python",
   "name": "python",
   "nbconvert_exporter": "python",
   "pygments_lexer": "ipython3",
   "version": "3.13.5"
  }
 },
 "nbformat": 4,
 "nbformat_minor": 5
}
